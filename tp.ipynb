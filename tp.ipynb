{
 "cells": [
  {
   "cell_type": "code",
   "execution_count": 2,
   "metadata": {},
   "outputs": [
    {
     "name": "stdout",
     "output_type": "stream",
     "text": [
      "cuda cuda\n"
     ]
    }
   ],
   "source": [
    "import math \n",
    "import torch\n",
    "import torchvision\n",
    "import matplotlib.pyplot as plt\n",
    "import numpy as np\n",
    "from torch.utils.tensorboard import SummaryWriter\n",
    "from datetime import datetime\n",
    "\n",
    "import torch.nn as nn\n",
    "import torch.nn.functional as F\n",
    "\n",
    "from torchinfo import summary\n",
    "\n",
    "from utils import *\n",
    "\n",
    "device = torch.device(\"cuda\" if torch.cuda.is_available() else \"cpu\")\n",
    "\n",
    "print(device, device.type)\n",
    "\n",
    "trainset = torchvision.datasets.CIFAR10(root='./data', train=True, download=True, transform=torchvision.transforms.ToTensor())\n",
    "testset = torchvision.datasets.CIFAR10(root='./data', train=False, download=True, transform=torchvision.transforms.ToTensor())"
   ]
  },
  {
   "cell_type": "code",
   "execution_count": 2,
   "metadata": {},
   "outputs": [
    {
     "name": "stdout",
     "output_type": "stream",
     "text": [
      "Requirement already satisfied: einops in /home/garoubahiefissa/.conda/envs/chps906/lib/python3.13/site-packages (0.8.0)\n"
     ]
    }
   ],
   "source": [
    "!pip install einops"
   ]
  },
  {
   "cell_type": "code",
   "execution_count": 3,
   "metadata": {},
   "outputs": [
    {
     "name": "stdout",
     "output_type": "stream",
     "text": [
      "juliet2\n"
     ]
    }
   ],
   "source": [
    "!hostname"
   ]
  },
  {
   "cell_type": "code",
   "execution_count": 5,
   "metadata": {},
   "outputs": [
    {
     "name": "stdout",
     "output_type": "stream",
     "text": [
      "Conv2d(3, 64, kernel_size=(4, 4), stride=(4, 4))\n"
     ]
    }
   ],
   "source": [
    "#emulating patch size of 4*4 using CNN \n",
    "\n",
    "height = 32\n",
    "width = 32\n",
    "\n",
    "color_channels = 3\n",
    "\n",
    "patch_size = 4\n",
    "\n",
    "# calculate the number of patches for the image\n",
    "nb_patches = height * width // patch_size**2# 64 here\n",
    "\n",
    "#use 2D conv layer generate patches\n",
    "patchenizer = nn.Conv2d(in_channels=color_channels, out_channels=nb_patches, kernel_size=patch_size, stride=patch_size)\n",
    "print(patchenizer)\n"
   ]
  },
  {
   "cell_type": "code",
   "execution_count": 3,
   "metadata": {},
   "outputs": [],
   "source": [
    "#torch module that takes an image and returns a sequence of patches where the size of each patch is 4*4 and the output\n",
    "class PatchEmbedding(nn.Module):\n",
    "    def __init__(self, patch_size=4, in_channels=3, embed_dim=64, img_size=32, nb_patches=0):\n",
    "        super().__init__()\n",
    "        self.patch_size = patch_size\n",
    "        self.in_channels = in_channels\n",
    "        self.embed_dim = embed_dim\n",
    "\n",
    "        if nb_patches == 0:\n",
    "            self.num_patches = (img_size // patch_size) ** 2\n",
    "        else:\n",
    "            self.nb_patches = nb_patches\n",
    "        # Conv2d replaces manually extracting patches\n",
    "        self.proj = nn.Conv2d(\n",
    "            in_channels=self.in_channels, \n",
    "            out_channels=self.embed_dim, \n",
    "            kernel_size=self.patch_size, \n",
    "            stride=self.patch_size\n",
    "        )\n",
    "        \n",
    "    def forward(self, x):\n",
    "        x = self.proj(x)\n",
    "        x = x.flatten(2)\n",
    "        #permute to have the batch size first\n",
    "        x = x.permute(0, 2, 1) \n",
    "        #print(x.shape)\n",
    "        return x"
   ]
  },
  {
   "cell_type": "code",
   "execution_count": 6,
   "metadata": {},
   "outputs": [
    {
     "name": "stdout",
     "output_type": "stream",
     "text": [
      "torch.Size([3, 32, 32])\n",
      "Image Shape with Batch: torch.Size([1, 3, 32, 32])\n"
     ]
    }
   ],
   "source": [
    "#take one image as tensor from train loader\n",
    "image, _ = trainset[0]\n",
    "print(image.shape)\n",
    "\n",
    "patch_size = 4\n",
    "\n",
    "color_channels = patch_size**2\n",
    "\n",
    "# calculate the number of patches for the image\n",
    "nb_patches = height * width // patch_size**2\n",
    "\n",
    "#patch_embedding = PatchEmbedding(patch_size=patch_size, \n",
    "#                                 in_channels=color_channels, \n",
    "#                                 nb_patch=16)\n",
    "#patches = patch_embedding(image)\n",
    "\n",
    "patch_embed = PatchEmbedding(patch_size=4, in_channels=3, embed_dim=64, img_size=32, nb_patches=nb_patches)\n",
    "\n",
    "image = image.unsqueeze(0)\n",
    "print(\"Image Shape with Batch:\", image.shape)\n",
    "\n",
    "patches = patch_embed(image)"
   ]
  },
  {
   "cell_type": "code",
   "execution_count": 7,
   "metadata": {},
   "outputs": [],
   "source": [
    "def scaled_dot_product(q, k, v):\n",
    "    d_k = q.size()[-1]\n",
    "    #multiplication matricielle entre q et k\n",
    "    attn_logits = q @ k.transpose(-2, -1)\n",
    "    #scaling avec d_k (voir equation)\n",
    "    attn_logits *= (1.0 / math.sqrt(d_k))\n",
    "    #faire le softmax sur la dernière dimension\n",
    "    attention = F.softmax(attn_logits, dim=-1)\n",
    "    #multiplication matricielle avec v\n",
    "    values = attention @ v\n",
    "    return values"
   ]
  },
  {
   "cell_type": "code",
   "execution_count": 8,
   "metadata": {},
   "outputs": [
    {
     "name": "stdout",
     "output_type": "stream",
     "text": [
      "Q\n",
      " torch.Size([3, 2])\n",
      "K\n",
      " torch.Size([3, 2])\n",
      "V\n",
      " torch.Size([3, 2])\n",
      "Values\n",
      " torch.Size([3, 2])\n"
     ]
    }
   ],
   "source": [
    "seq_len, d_k = 3, 2\n",
    "q = torch.randn(seq_len, d_k)\n",
    "k = torch.randn(seq_len, d_k)\n",
    "v = torch.randn(seq_len, d_k)\n",
    "values = scaled_dot_product(q, k, v)\n",
    "print(\"Q\\n\", q.shape)\n",
    "print(\"K\\n\", k.shape)\n",
    "print(\"V\\n\", v.shape)\n",
    "print(\"Values\\n\", values.shape)\n",
    "#doit correspondre à la même shape"
   ]
  },
  {
   "cell_type": "code",
   "execution_count": 9,
   "metadata": {},
   "outputs": [],
   "source": [
    "#do q k v projection with 3 nn.linear instead of just one mlp with 3 outputs (q, k, v heads)\n",
    "class dumb_qkv_proj(nn.Module):\n",
    "    def __init__(self, d_in, d_out):\n",
    "        super().__init__()\n",
    "        self.d_in = d_in\n",
    "        self.d_out = d_out\n",
    "        self.q = nn.Linear(self.d_in, self.d_out)\n",
    "        self.k = nn.Linear(self.d_in, self.d_out)\n",
    "        self.v = nn.Linear(self.d_in, self.d_out)\n",
    "        \n",
    "    def forward(self, x):\n",
    "        q = self.q(x)\n",
    "        k = self.k(x)\n",
    "        v = self.v(x)\n",
    "        return q, k, v"
   ]
  },
  {
   "cell_type": "code",
   "execution_count": 10,
   "metadata": {},
   "outputs": [],
   "source": [
    "class qkv_proj(nn.Module):\n",
    "    def __init__(self, d_in, d_out):\n",
    "        super().__init__()\n",
    "        self.d_in = d_in\n",
    "        self.d_out = d_out\n",
    "        self.proj = nn.Linear(self.d_in, self.d_out * 3)\n",
    "    def forward(self, x):\n",
    "        x = self.proj(x)\n",
    "        return x.chunk(3, dim=-1)"
   ]
  },
  {
   "cell_type": "code",
   "execution_count": 11,
   "metadata": {},
   "outputs": [
    {
     "name": "stdout",
     "output_type": "stream",
     "text": [
      "3\n",
      "Q\n",
      " torch.Size([3, 2])\n",
      "K\n",
      " torch.Size([3, 2])\n",
      "V\n",
      " torch.Size([3, 2])\n"
     ]
    }
   ],
   "source": [
    "proj = qkv_proj(d_in=2, d_out=2)\n",
    "res = proj(values)\n",
    "print(len(res))\n",
    "q, k, v = res\n",
    "print(\"Q\\n\", q.shape)\n",
    "print(\"K\\n\", k.shape)\n",
    "print(\"V\\n\", v.shape)"
   ]
  },
  {
   "cell_type": "code",
   "execution_count": 12,
   "metadata": {},
   "outputs": [],
   "source": [
    "class qkv_proj(nn.Module):\n",
    "    def __init__(self, d_in, d_out, num_heads):\n",
    "        super().__init__()\n",
    "        self.num_heads = num_heads\n",
    "        self.d_in = d_in\n",
    "        self.d_out = d_out\n",
    "\n",
    "        self.proj = nn.Linear(self.d_in, self.d_out * 3)\n",
    "    def forward(self, x):\n",
    "        batch_size, seq_length, _ = x.size()\n",
    "        qkv = self.proj(x)\n",
    "        qkv = qkv.reshape(batch_size, seq_length, self.num_heads, -1)\n",
    "        #permute Batch, Head, SeqLen, Dims\n",
    "        qkv = qkv.permute(0, 2, 1, 3) \n",
    "        return qkv.chunk(3, dim=-1)"
   ]
  },
  {
   "cell_type": "code",
   "execution_count": 13,
   "metadata": {},
   "outputs": [
    {
     "data": {
      "text/plain": [
       "(torch.Size([1, 4, 64, 24]),\n",
       " torch.Size([1, 4, 64, 24]),\n",
       " torch.Size([1, 4, 64, 24]))"
      ]
     },
     "execution_count": 13,
     "metadata": {},
     "output_type": "execute_result"
    }
   ],
   "source": [
    "q,k,v = qkv_proj(32, 32*3, 4)(torch.randn(1,64,32))\n",
    "q.shape, k.shape, v.shape"
   ]
  },
  {
   "cell_type": "code",
   "execution_count": 14,
   "metadata": {},
   "outputs": [],
   "source": [
    "class MultiheadAttention(nn.Module):\n",
    "    def __init__(self, input_dim, embed_dim, num_heads):\n",
    "        super().__init__()\n",
    "        #ps: juste pour vérifier que votre dimension\n",
    "        #   match bien le nombre de tête...\n",
    "        assert embed_dim % num_heads == 0\n",
    "\n",
    "        self.embed_dim = embed_dim\n",
    "        self.num_heads = num_heads\n",
    "\n",
    "        #in_proj - votre fonction qkv_proj créé précédement\n",
    "        self.in_proj = qkv_proj(input_dim, embed_dim, num_heads)\n",
    "        \n",
    "        self.o_proj = nn.Linear(embed_dim, embed_dim)\n",
    "\n",
    "\n",
    "    def forward(self, x):\n",
    "        batch_size, seq_length, _ = x.size()\n",
    "        q, k, v = self.in_proj(x)\n",
    "        #print(q.shape, k.shape, v.shape)\n",
    "        #appeler votre fonction scaled_dot_product\n",
    "        attn = scaled_dot_product(q, k, v)\n",
    "        #print(attn.shape)\n",
    "        #Permute back\n",
    "        #Votre position de départ : [Batch, Head, SeqLen, Dims]\n",
    "        #Permute dans la nouvelle dim : [Batch, SeqLen, Head, Dims]\n",
    "        #(B, nh, T, hs) x (B, nh, hs, T) -> (B, nh, T, T)\n",
    "        attn = attn.permute(0, 2, 1, 3)\n",
    "        #print(attn.shape)\n",
    "        \n",
    "        #reshape pour retirer la dimension \"head\".\n",
    "        #aide : position de départ [Batch, SeqLen, Head, Dims]\n",
    "        # position d'arrivée [Batch, SeqLen, self.embed_dim]\n",
    "        attn = attn.reshape(batch_size, seq_length, self.embed_dim)\n",
    "        #print(attn.shape)\n",
    "        out = self.o_proj(attn)\n",
    "\n",
    "        return out"
   ]
  },
  {
   "cell_type": "code",
   "execution_count": 15,
   "metadata": {},
   "outputs": [
    {
     "data": {
      "text/plain": [
       "torch.Size([1, 256, 64])"
      ]
     },
     "execution_count": 15,
     "metadata": {},
     "output_type": "execute_result"
    }
   ],
   "source": [
    "net = MultiheadAttention(64, 64, 4)\n",
    "net(torch.randn(1,16*16,64)).shape"
   ]
  },
  {
   "cell_type": "code",
   "execution_count": 16,
   "metadata": {},
   "outputs": [
    {
     "data": {
      "text/plain": [
       "torch.Size([1, 256, 256])"
      ]
     },
     "execution_count": 16,
     "metadata": {},
     "output_type": "execute_result"
    }
   ],
   "source": [
    "net = MultiheadAttention(64, 256, 4)\n",
    "net(torch.randn(1,16*16,64)).shape"
   ]
  },
  {
   "cell_type": "code",
   "execution_count": 17,
   "metadata": {},
   "outputs": [],
   "source": [
    "class FeedForward(nn.Module):\n",
    "    def __init__(self, dim, hidden_dim):\n",
    "        super().__init__()\n",
    "        self.net = nn.Sequential(\n",
    "            nn.Linear(dim, hidden_dim),\n",
    "            nn.GELU(),\n",
    "            nn.Linear(hidden_dim, dim)\n",
    "        )\n",
    "    def forward(self, x):\n",
    "        return self.net(x)"
   ]
  },
  {
   "cell_type": "code",
   "execution_count": 18,
   "metadata": {},
   "outputs": [],
   "source": [
    "class Transformer(nn.Module):\n",
    "    def __init__(self, input_dim, num_heads, hidden_dim):\n",
    "        super().__init__()\n",
    "\n",
    "        # Multi-head Attention\n",
    "        self.attention = MultiheadAttention(input_dim=input_dim, embed_dim=input_dim, num_heads=num_heads)\n",
    "        self.norm1 = nn.LayerNorm(input_dim)  # Normalisation après l'attention\n",
    "\n",
    "        # Feed Forward\n",
    "        self.ff = FeedForward(input_dim, hidden_dim)\n",
    "        self.norm2 = nn.LayerNorm(input_dim)  # Normalisation après le feed forward\n",
    "\n",
    "    def forward(self, x):\n",
    "        # Multi-head Attention\n",
    "        attn_out = self.attention(x)\n",
    "        x = self.norm1(x + attn_out)\n",
    "\n",
    "        # Feed Forward\n",
    "        ff_out = self.ff(x)\n",
    "        x = self.norm2(x + ff_out)\n",
    "\n",
    "        return x"
   ]
  },
  {
   "cell_type": "code",
   "execution_count": 19,
   "metadata": {},
   "outputs": [
    {
     "name": "stdout",
     "output_type": "stream",
     "text": [
      "torch.Size([1, 64, 128])\n",
      "image: torch.Size([1, 3, 32, 32])\n",
      "pacthes: torch.Size([1, 64, 64])\n",
      "torch.Size([1, 64, 64])\n"
     ]
    }
   ],
   "source": [
    "x = torch.randn(1, 64, 128)\n",
    "\n",
    "transformer = Transformer(input_dim=128, num_heads=8, hidden_dim=256)\n",
    "\n",
    "output = transformer(x)\n",
    "print(output.shape)\n",
    "\n",
    "print(\"image:\", image.shape)\n",
    "patches = patch_embed(image)\n",
    "print(\"pacthes:\", patches.shape)\n",
    "transformer = Transformer(input_dim=64, num_heads=8, hidden_dim=256)\n",
    "output = transformer(patches)\n",
    "print(output.shape)"
   ]
  },
  {
   "cell_type": "code",
   "execution_count": 20,
   "metadata": {},
   "outputs": [],
   "source": [
    "class TowerViT(nn.Module):\n",
    "    def __init__(self, image_size, patch_size, in_channels, embed_dim, num_heads, hidden_dim, num_transformers, num_classes):\n",
    "        super().__init__()\n",
    "\n",
    "        self.patch_embedding = PatchEmbedding(patch_size=patch_size, \n",
    "                                              in_channels=in_channels, \n",
    "                                              nb_patches=((image_size*image_size) // patch_size) ** 2)\n",
    "\n",
    "        num_patches = (image_size // patch_size) ** 2\n",
    "        self.class_token = nn.Parameter(torch.randn(1, 1, embed_dim))\n",
    "        self.pos_embedding = nn.Parameter(torch.randn(1, num_patches + 1, embed_dim))\n",
    "\n",
    "        #stacking n number of transformers into a single sequential\n",
    "        self.transformers = nn.Sequential(*[Transformer(embed_dim, num_heads, hidden_dim) for _ in range(num_transformers)])\n",
    "        self.norm = nn.LayerNorm(embed_dim)\n",
    "\n",
    "        self.mlp_head = nn.Sequential(\n",
    "            nn.Linear(embed_dim, hidden_dim),\n",
    "            nn.GELU(),\n",
    "            nn.Linear(hidden_dim, num_classes)\n",
    "        )\n",
    "\n",
    "    def forward(self, x):\n",
    "        batch_size = x.shape[0]\n",
    "\n",
    "        x = self.patch_embedding(x)\n",
    "        \n",
    "        # Ajout du token de classification\n",
    "        cls_tokens = self.class_token.expand(batch_size, -1, -1)  # (batch, 1, embed_dim)\n",
    "        x = torch.cat([cls_tokens, x], dim=1)  # (batch, num_patches + 1, embed_dim)\n",
    "        \n",
    "        # Ajout de l'embedding positionnel\n",
    "        x += self.pos_embedding\n",
    "\n",
    "        x = self.transformers(x)\n",
    "        x = self.norm(x)\n",
    "\n",
    "        # Classification (on récupère seulement le token [CLS])\n",
    "        cls_out = x[:, 0]\n",
    "        return self.mlp_head(cls_out)\n"
   ]
  },
  {
   "cell_type": "markdown",
   "metadata": {},
   "source": [
    "The ViT model was itself created as a combination of the specifications of the instructions for this project as well as insights I was able to gather from the paper which introduced vision transformers (\"AN IMAGE IS WORTH 16X16 WORDS: TRANSFORMERS FOR IMAGE RECOGNITION AT SCALE\", https://arxiv.org/abs/2010.11929).  \n",
    "The architecture in the paper which reflects parts of this implementation are as follows :\n",
    "![vit_arch](vit_arch.png)"
   ]
  },
  {
   "cell_type": "code",
   "execution_count": 21,
   "metadata": {},
   "outputs": [],
   "source": [
    "class ViT(nn.Module):\n",
    "    def __init__(self, image_size, patch_size, in_channels, in_embed_dims, out_embed_dims, num_heads, hidden_dims, num_transformers, num_classes):\n",
    "        super().__init__()\n",
    "\n",
    "        assert len(in_embed_dims) == num_transformers, \"Mismatch: in_embed_dims length must match num_transformers\"\n",
    "        assert len(out_embed_dims) == num_transformers, \"Mismatch: out_embed_dims length must match num_transformers\"\n",
    "        assert len(hidden_dims) == num_transformers, \"Mismatch: hidden_dims length must match num_transformers\"\n",
    "        \n",
    "        num_patches = ((image_size*image_size) // patch_size) ** 2\n",
    "        self.class_token = nn.Parameter(torch.randn(1, 1, in_embed_dims[0]))\n",
    "        self.pos_embedding = nn.Parameter(torch.randn(1, num_patches + 1, in_embed_dims[0]))\n",
    "\n",
    "        # Patch Embedding\n",
    "        self.patch_embedding = PatchEmbedding(patch_size=patch_size, \n",
    "                                              in_channels=in_channels, \n",
    "                                              nb_patches=num_patches)\n",
    "\n",
    "        self.transformers = nn.ModuleList()\n",
    "        for i in range(num_transformers):\n",
    "            transformer = Transformer(in_embed_dims[i], num_heads[i], hidden_dims[i])\n",
    "            self.transformers.append(transformer)\n",
    "\n",
    "            if in_embed_dims[i] != out_embed_dims[i]:  # Changement de dimension si nécessaire\n",
    "                self.transformers.append(nn.Linear(in_embed_dims[i], out_embed_dims[i]))\n",
    "\n",
    "        last_embed_dim = out_embed_dims[-1]\n",
    "\n",
    "        self.norm = nn.LayerNorm(last_embed_dim)\n",
    "\n",
    "        self.mlp_head = nn.Sequential(\n",
    "            nn.Linear(last_embed_dim, hidden_dims[-1]),\n",
    "            nn.ReLU(),\n",
    "            nn.Linear(hidden_dims[-1], num_classes)\n",
    "        )\n",
    "\n",
    "    def forward(self, x):\n",
    "        batch_size, channels, width, height = x.shape\n",
    "\n",
    "        # Patch Embedding\n",
    "        x = self.patch_embedding(x)\n",
    "\n",
    "        # Ajout du token de classification\n",
    "        cls_tokens = self.class_token.expand(batch_size, -1, -1)\n",
    "        x = torch.cat([cls_tokens, x], dim=1)\n",
    "        #x += self.pos_embedding\n",
    "\n",
    "        for layer in self.transformers:\n",
    "            x = layer(x)\n",
    "\n",
    "        x = self.norm(x)\n",
    "\n",
    "        # Classification (on prend le token CLS)\n",
    "        cls_out = x[:, 0]\n",
    "        return self.mlp_head(cls_out)"
   ]
  },
  {
   "cell_type": "code",
   "execution_count": 22,
   "metadata": {},
   "outputs": [
    {
     "name": "stdout",
     "output_type": "stream",
     "text": [
      "torch.Size([1, 10])\n"
     ]
    }
   ],
   "source": [
    "image_size = 32\n",
    "patch_size = 4\n",
    "in_channels = 3\n",
    "\n",
    "embed_dim = 64\n",
    "hidden_dim = 128\n",
    "\n",
    "n_heads = 4\n",
    "num_transformers = 3\n",
    "\n",
    "num_classes = 10\n",
    "\n",
    "towervit = TowerViT(image_size, patch_size, in_channels, embed_dim, n_heads, hidden_dim, num_transformers, num_classes)\n",
    "\n",
    "x = torch.randn(1, 3, 32, 32)\n",
    "output = towervit(x)\n",
    "print(output.shape)"
   ]
  },
  {
   "cell_type": "code",
   "execution_count": 23,
   "metadata": {},
   "outputs": [
    {
     "name": "stdout",
     "output_type": "stream",
     "text": [
      "==========================================================================================\n",
      "Layer (type:depth-idx)                   Output Shape              Param #\n",
      "==========================================================================================\n",
      "TowerViT                                 [1, 10]                   4,224\n",
      "├─PatchEmbedding: 1-1                    [1, 64, 64]               --\n",
      "│    └─Conv2d: 2-1                       [1, 64, 8, 8]             3,136\n",
      "├─Sequential: 1-2                        [1, 65, 64]               --\n",
      "│    └─Transformer: 2-2                  [1, 65, 64]               --\n",
      "│    │    └─MultiheadAttention: 3-1      [1, 65, 64]               16,640\n",
      "│    │    └─LayerNorm: 3-2               [1, 65, 64]               128\n",
      "│    │    └─FeedForward: 3-3             [1, 65, 64]               16,576\n",
      "│    │    └─LayerNorm: 3-4               [1, 65, 64]               128\n",
      "│    └─Transformer: 2-3                  [1, 65, 64]               --\n",
      "│    │    └─MultiheadAttention: 3-5      [1, 65, 64]               16,640\n",
      "│    │    └─LayerNorm: 3-6               [1, 65, 64]               128\n",
      "│    │    └─FeedForward: 3-7             [1, 65, 64]               16,576\n",
      "│    │    └─LayerNorm: 3-8               [1, 65, 64]               128\n",
      "│    └─Transformer: 2-4                  [1, 65, 64]               --\n",
      "│    │    └─MultiheadAttention: 3-9      [1, 65, 64]               16,640\n",
      "│    │    └─LayerNorm: 3-10              [1, 65, 64]               128\n",
      "│    │    └─FeedForward: 3-11            [1, 65, 64]               16,576\n",
      "│    │    └─LayerNorm: 3-12              [1, 65, 64]               128\n",
      "├─LayerNorm: 1-3                         [1, 65, 64]               128\n",
      "├─Sequential: 1-4                        [1, 10]                   --\n",
      "│    └─Linear: 2-5                       [1, 128]                  8,320\n",
      "│    └─GELU: 2-6                         [1, 128]                  --\n",
      "│    └─Linear: 2-7                       [1, 10]                   1,290\n",
      "==========================================================================================\n",
      "Total params: 117,514\n",
      "Trainable params: 117,514\n",
      "Non-trainable params: 0\n",
      "Total mult-adds (Units.MEGABYTES): 0.31\n",
      "==========================================================================================\n",
      "Input size (MB): 0.01\n",
      "Forward/backward pass size (MB): 0.97\n",
      "Params size (MB): 0.45\n",
      "Estimated Total Size (MB): 1.43\n",
      "==========================================================================================\n"
     ]
    }
   ],
   "source": [
    "print(summary(towervit, (1, in_channels, image_size, image_size)))"
   ]
  },
  {
   "cell_type": "code",
   "execution_count": 32,
   "metadata": {},
   "outputs": [
    {
     "name": "stdout",
     "output_type": "stream",
     "text": [
      "Epoch 1\n"
     ]
    },
    {
     "name": "stderr",
     "output_type": "stream",
     "text": [
      "Training: 100%|██████████| 391/391 [00:20<00:00, 18.81it/s]\n"
     ]
    },
    {
     "name": "stdout",
     "output_type": "stream",
     "text": [
      "Correct: 1314, Total: 10000, Accuracy: 0.13\n",
      "Accuracy: 13.139999999999999% (0.1314)\n",
      "Loss: 2.302157866327386\n"
     ]
    },
    {
     "name": "stderr",
     "output_type": "stream",
     "text": [
      "Validation: 100%|██████████| 79/79 [00:02<00:00, 30.13it/s]\n"
     ]
    },
    {
     "name": "stdout",
     "output_type": "stream",
     "text": [
      "LOSS train 2.302157866327386 valid 2.272792100906372\n",
      "Saving model\n",
      "Epoch 2\n"
     ]
    },
    {
     "name": "stderr",
     "output_type": "stream",
     "text": [
      "Training: 100%|██████████| 391/391 [00:16<00:00, 23.85it/s]\n"
     ]
    },
    {
     "name": "stdout",
     "output_type": "stream",
     "text": [
      "Correct: 1443, Total: 10000, Accuracy: 0.14\n",
      "Accuracy: 14.430000000000001% (0.1443)\n",
      "Loss: 2.301443940714786\n"
     ]
    },
    {
     "name": "stderr",
     "output_type": "stream",
     "text": [
      "Validation: 100%|██████████| 79/79 [00:02<00:00, 36.68it/s]\n"
     ]
    },
    {
     "name": "stdout",
     "output_type": "stream",
     "text": [
      "LOSS train 2.301443940714786 valid 2.2720038890838623\n",
      "Saving model\n",
      "Epoch 3\n"
     ]
    },
    {
     "name": "stderr",
     "output_type": "stream",
     "text": [
      "Training: 100%|██████████| 391/391 [00:14<00:00, 27.32it/s]\n"
     ]
    },
    {
     "name": "stdout",
     "output_type": "stream",
     "text": [
      "Correct: 1439, Total: 10000, Accuracy: 0.14\n",
      "Accuracy: 14.39% (0.1439)\n",
      "Loss: 2.3008214674497904\n"
     ]
    },
    {
     "name": "stderr",
     "output_type": "stream",
     "text": [
      "Validation: 100%|██████████| 79/79 [00:01<00:00, 41.10it/s]\n"
     ]
    },
    {
     "name": "stdout",
     "output_type": "stream",
     "text": [
      "LOSS train 2.3008214674497904 valid 2.2710940837860107\n",
      "Saving model\n",
      "Epoch 4\n"
     ]
    },
    {
     "name": "stderr",
     "output_type": "stream",
     "text": [
      "Training: 100%|██████████| 391/391 [00:12<00:00, 31.06it/s]\n"
     ]
    },
    {
     "name": "stdout",
     "output_type": "stream",
     "text": [
      "Correct: 1241, Total: 10000, Accuracy: 0.12\n",
      "Accuracy: 12.41% (0.1241)\n",
      "Loss: 2.2990635068793046\n"
     ]
    },
    {
     "name": "stderr",
     "output_type": "stream",
     "text": [
      "Validation: 100%|██████████| 79/79 [00:01<00:00, 47.18it/s]\n"
     ]
    },
    {
     "name": "stdout",
     "output_type": "stream",
     "text": [
      "LOSS train 2.2990635068793046 valid 2.270015001296997\n",
      "Saving model\n",
      "Epoch 5\n"
     ]
    },
    {
     "name": "stderr",
     "output_type": "stream",
     "text": [
      "Training: 100%|██████████| 391/391 [00:11<00:00, 33.21it/s]\n"
     ]
    },
    {
     "name": "stdout",
     "output_type": "stream",
     "text": [
      "Correct: 1700, Total: 10000, Accuracy: 0.17\n",
      "Accuracy: 17.0% (0.17)\n",
      "Loss: 2.2982811551345024\n"
     ]
    },
    {
     "name": "stderr",
     "output_type": "stream",
     "text": [
      "Validation: 100%|██████████| 79/79 [00:01<00:00, 47.25it/s]\n"
     ]
    },
    {
     "name": "stdout",
     "output_type": "stream",
     "text": [
      "LOSS train 2.2982811551345024 valid 2.268653631210327\n",
      "Saving model\n",
      "Epoch 6\n"
     ]
    },
    {
     "name": "stderr",
     "output_type": "stream",
     "text": [
      "Training: 100%|██████████| 391/391 [00:11<00:00, 33.09it/s]\n"
     ]
    },
    {
     "name": "stdout",
     "output_type": "stream",
     "text": [
      "Correct: 1718, Total: 10000, Accuracy: 0.17\n",
      "Accuracy: 17.18% (0.1718)\n",
      "Loss: 2.29637925248397\n"
     ]
    },
    {
     "name": "stderr",
     "output_type": "stream",
     "text": [
      "Validation: 100%|██████████| 79/79 [00:01<00:00, 41.46it/s]\n"
     ]
    },
    {
     "name": "stdout",
     "output_type": "stream",
     "text": [
      "LOSS train 2.29637925248397 valid 2.2667291164398193\n",
      "Saving model\n",
      "Epoch 7\n"
     ]
    },
    {
     "name": "stderr",
     "output_type": "stream",
     "text": [
      "Training: 100%|██████████| 391/391 [00:11<00:00, 33.20it/s]\n"
     ]
    },
    {
     "name": "stdout",
     "output_type": "stream",
     "text": [
      "Correct: 1604, Total: 10000, Accuracy: 0.16\n",
      "Accuracy: 16.04% (0.1604)\n",
      "Loss: 2.2933957702235173\n"
     ]
    },
    {
     "name": "stderr",
     "output_type": "stream",
     "text": [
      "Validation: 100%|██████████| 79/79 [00:01<00:00, 41.33it/s]\n"
     ]
    },
    {
     "name": "stdout",
     "output_type": "stream",
     "text": [
      "LOSS train 2.2933957702235173 valid 2.2640562057495117\n",
      "Saving model\n",
      "Epoch 8\n"
     ]
    },
    {
     "name": "stderr",
     "output_type": "stream",
     "text": [
      "Training: 100%|██████████| 391/391 [00:10<00:00, 37.48it/s]\n"
     ]
    },
    {
     "name": "stdout",
     "output_type": "stream",
     "text": [
      "Correct: 1623, Total: 10000, Accuracy: 0.16\n",
      "Accuracy: 16.23% (0.1623)\n",
      "Loss: 2.2891778569472465\n"
     ]
    },
    {
     "name": "stderr",
     "output_type": "stream",
     "text": [
      "Validation: 100%|██████████| 79/79 [00:01<00:00, 45.41it/s]\n"
     ]
    },
    {
     "name": "stdout",
     "output_type": "stream",
     "text": [
      "LOSS train 2.2891778569472465 valid 2.2601821422576904\n",
      "Saving model\n",
      "Epoch 9\n"
     ]
    },
    {
     "name": "stderr",
     "output_type": "stream",
     "text": [
      "Training: 100%|██████████| 391/391 [00:10<00:00, 35.97it/s]\n"
     ]
    },
    {
     "name": "stdout",
     "output_type": "stream",
     "text": [
      "Correct: 1582, Total: 10000, Accuracy: 0.16\n",
      "Accuracy: 15.82% (0.1582)\n",
      "Loss: 2.2856709455188953\n"
     ]
    },
    {
     "name": "stderr",
     "output_type": "stream",
     "text": [
      "Validation: 100%|██████████| 79/79 [00:01<00:00, 41.36it/s]\n"
     ]
    },
    {
     "name": "stdout",
     "output_type": "stream",
     "text": [
      "LOSS train 2.2856709455188953 valid 2.253941297531128\n",
      "Saving model\n",
      "Epoch 10\n"
     ]
    },
    {
     "name": "stderr",
     "output_type": "stream",
     "text": [
      "Training: 100%|██████████| 391/391 [00:10<00:00, 35.76it/s]\n"
     ]
    },
    {
     "name": "stdout",
     "output_type": "stream",
     "text": [
      "Correct: 1707, Total: 10000, Accuracy: 0.17\n",
      "Accuracy: 17.07% (0.1707)\n",
      "Loss: 2.2730193012639095\n"
     ]
    },
    {
     "name": "stderr",
     "output_type": "stream",
     "text": [
      "Validation: 100%|██████████| 79/79 [00:01<00:00, 41.59it/s]\n"
     ]
    },
    {
     "name": "stdout",
     "output_type": "stream",
     "text": [
      "LOSS train 2.2730193012639095 valid 2.2438485622406006\n",
      "Saving model\n",
      "Epoch 11\n"
     ]
    },
    {
     "name": "stderr",
     "output_type": "stream",
     "text": [
      "Training: 100%|██████████| 391/391 [00:11<00:00, 35.16it/s]\n"
     ]
    },
    {
     "name": "stdout",
     "output_type": "stream",
     "text": [
      "Correct: 1803, Total: 10000, Accuracy: 0.18\n",
      "Accuracy: 18.029999999999998% (0.1803)\n",
      "Loss: 2.2611109959451774\n"
     ]
    },
    {
     "name": "stderr",
     "output_type": "stream",
     "text": [
      "Validation: 100%|██████████| 79/79 [00:01<00:00, 40.74it/s]\n"
     ]
    },
    {
     "name": "stdout",
     "output_type": "stream",
     "text": [
      "LOSS train 2.2611109959451774 valid 2.2261393070220947\n",
      "Saving model\n",
      "Epoch 12\n"
     ]
    },
    {
     "name": "stderr",
     "output_type": "stream",
     "text": [
      "Training: 100%|██████████| 391/391 [00:10<00:00, 36.89it/s]\n"
     ]
    },
    {
     "name": "stdout",
     "output_type": "stream",
     "text": [
      "Correct: 1726, Total: 10000, Accuracy: 0.17\n",
      "Accuracy: 17.26% (0.1726)\n",
      "Loss: 2.2312810170023063\n"
     ]
    },
    {
     "name": "stderr",
     "output_type": "stream",
     "text": [
      "Validation: 100%|██████████| 79/79 [00:01<00:00, 47.47it/s]\n"
     ]
    },
    {
     "name": "stdout",
     "output_type": "stream",
     "text": [
      "LOSS train 2.2312810170023063 valid 2.1966776847839355\n",
      "Saving model\n",
      "Epoch 13\n"
     ]
    },
    {
     "name": "stderr",
     "output_type": "stream",
     "text": [
      "Training: 100%|██████████| 391/391 [00:10<00:00, 37.27it/s]\n"
     ]
    },
    {
     "name": "stdout",
     "output_type": "stream",
     "text": [
      "Correct: 1822, Total: 10000, Accuracy: 0.18\n",
      "Accuracy: 18.22% (0.1822)\n",
      "Loss: 2.1862716549321224\n"
     ]
    },
    {
     "name": "stderr",
     "output_type": "stream",
     "text": [
      "Validation: 100%|██████████| 79/79 [00:01<00:00, 46.63it/s]\n"
     ]
    },
    {
     "name": "stdout",
     "output_type": "stream",
     "text": [
      "LOSS train 2.1862716549321224 valid 2.1564977169036865\n",
      "Saving model\n",
      "Epoch 14\n"
     ]
    },
    {
     "name": "stderr",
     "output_type": "stream",
     "text": [
      "Training: 100%|██████████| 391/391 [00:10<00:00, 36.36it/s]\n"
     ]
    },
    {
     "name": "stdout",
     "output_type": "stream",
     "text": [
      "Correct: 1973, Total: 10000, Accuracy: 0.20\n",
      "Accuracy: 19.73% (0.1973)\n",
      "Loss: 2.157031410618832\n"
     ]
    },
    {
     "name": "stderr",
     "output_type": "stream",
     "text": [
      "Validation: 100%|██████████| 79/79 [00:01<00:00, 41.53it/s]\n"
     ]
    },
    {
     "name": "stdout",
     "output_type": "stream",
     "text": [
      "LOSS train 2.157031410618832 valid 2.1213834285736084\n",
      "Saving model\n",
      "Epoch 15\n"
     ]
    },
    {
     "name": "stderr",
     "output_type": "stream",
     "text": [
      "Training: 100%|██████████| 391/391 [00:10<00:00, 35.68it/s]\n"
     ]
    },
    {
     "name": "stdout",
     "output_type": "stream",
     "text": [
      "Correct: 2057, Total: 10000, Accuracy: 0.21\n",
      "Accuracy: 20.57% (0.2057)\n",
      "Loss: 2.131949776097348\n"
     ]
    },
    {
     "name": "stderr",
     "output_type": "stream",
     "text": [
      "Validation: 100%|██████████| 79/79 [00:01<00:00, 54.18it/s]\n"
     ]
    },
    {
     "name": "stdout",
     "output_type": "stream",
     "text": [
      "LOSS train 2.131949776097348 valid 2.092085599899292\n",
      "Saving model\n",
      "Epoch 16\n"
     ]
    },
    {
     "name": "stderr",
     "output_type": "stream",
     "text": [
      "Training: 100%|██████████| 391/391 [00:10<00:00, 37.30it/s]\n"
     ]
    },
    {
     "name": "stdout",
     "output_type": "stream",
     "text": [
      "Correct: 2154, Total: 10000, Accuracy: 0.22\n",
      "Accuracy: 21.54% (0.2154)\n",
      "Loss: 2.0989910928826583\n"
     ]
    },
    {
     "name": "stderr",
     "output_type": "stream",
     "text": [
      "Validation: 100%|██████████| 79/79 [00:01<00:00, 46.57it/s]\n"
     ]
    },
    {
     "name": "stdout",
     "output_type": "stream",
     "text": [
      "LOSS train 2.0989910928826583 valid 2.0781188011169434\n",
      "Saving model\n",
      "Epoch 17\n"
     ]
    },
    {
     "name": "stderr",
     "output_type": "stream",
     "text": [
      "Training: 100%|██████████| 391/391 [00:10<00:00, 36.76it/s]\n"
     ]
    },
    {
     "name": "stdout",
     "output_type": "stream",
     "text": [
      "Correct: 2192, Total: 10000, Accuracy: 0.22\n",
      "Accuracy: 21.92% (0.2192)\n",
      "Loss: 2.0868686751315466\n"
     ]
    },
    {
     "name": "stderr",
     "output_type": "stream",
     "text": [
      "Validation: 100%|██████████| 79/79 [00:01<00:00, 45.94it/s]\n"
     ]
    },
    {
     "name": "stdout",
     "output_type": "stream",
     "text": [
      "LOSS train 2.0868686751315466 valid 2.0712499618530273\n",
      "Saving model\n",
      "Epoch 18\n"
     ]
    },
    {
     "name": "stderr",
     "output_type": "stream",
     "text": [
      "Training: 100%|██████████| 391/391 [00:10<00:00, 36.69it/s]\n"
     ]
    },
    {
     "name": "stdout",
     "output_type": "stream",
     "text": [
      "Correct: 2190, Total: 10000, Accuracy: 0.22\n",
      "Accuracy: 21.9% (0.219)\n",
      "Loss: 2.092001287560714\n"
     ]
    },
    {
     "name": "stderr",
     "output_type": "stream",
     "text": [
      "Validation: 100%|██████████| 79/79 [00:01<00:00, 40.32it/s]\n"
     ]
    },
    {
     "name": "stdout",
     "output_type": "stream",
     "text": [
      "LOSS train 2.092001287560714 valid 2.0665180683135986\n",
      "Epoch 19\n"
     ]
    },
    {
     "name": "stderr",
     "output_type": "stream",
     "text": [
      "Training: 100%|██████████| 391/391 [00:10<00:00, 37.34it/s]\n"
     ]
    },
    {
     "name": "stdout",
     "output_type": "stream",
     "text": [
      "Correct: 2158, Total: 10000, Accuracy: 0.22\n",
      "Accuracy: 21.58% (0.2158)\n",
      "Loss: 2.1023506616291248\n"
     ]
    },
    {
     "name": "stderr",
     "output_type": "stream",
     "text": [
      "Validation: 100%|██████████| 79/79 [00:01<00:00, 47.38it/s]\n"
     ]
    },
    {
     "name": "stdout",
     "output_type": "stream",
     "text": [
      "LOSS train 2.1023506616291248 valid 2.062931776046753\n",
      "Epoch 20\n"
     ]
    },
    {
     "name": "stderr",
     "output_type": "stream",
     "text": [
      "Training: 100%|██████████| 391/391 [00:10<00:00, 37.47it/s]\n"
     ]
    },
    {
     "name": "stdout",
     "output_type": "stream",
     "text": [
      "Correct: 2211, Total: 10000, Accuracy: 0.22\n",
      "Accuracy: 22.11% (0.2211)\n",
      "Loss: 2.0936963746422217\n"
     ]
    },
    {
     "name": "stderr",
     "output_type": "stream",
     "text": [
      "Validation: 100%|██████████| 79/79 [00:01<00:00, 47.72it/s]\n"
     ]
    },
    {
     "name": "stdout",
     "output_type": "stream",
     "text": [
      "LOSS train 2.0936963746422217 valid 2.0589849948883057\n",
      "Epoch 21\n"
     ]
    },
    {
     "name": "stderr",
     "output_type": "stream",
     "text": [
      "Training: 100%|██████████| 391/391 [00:10<00:00, 37.55it/s]\n"
     ]
    },
    {
     "name": "stdout",
     "output_type": "stream",
     "text": [
      "Correct: 2234, Total: 10000, Accuracy: 0.22\n",
      "Accuracy: 22.34% (0.2234)\n",
      "Loss: 2.0806193853679456\n"
     ]
    },
    {
     "name": "stderr",
     "output_type": "stream",
     "text": [
      "Validation: 100%|██████████| 79/79 [00:01<00:00, 47.42it/s]\n"
     ]
    },
    {
     "name": "stdout",
     "output_type": "stream",
     "text": [
      "LOSS train 2.0806193853679456 valid 2.0536253452301025\n",
      "Saving model\n",
      "Epoch 22\n"
     ]
    },
    {
     "name": "stderr",
     "output_type": "stream",
     "text": [
      "Training: 100%|██████████| 391/391 [00:10<00:00, 37.35it/s]\n"
     ]
    },
    {
     "name": "stdout",
     "output_type": "stream",
     "text": [
      "Correct: 2179, Total: 10000, Accuracy: 0.22\n",
      "Accuracy: 21.790000000000003% (0.2179)\n",
      "Loss: 2.0901618003845215\n"
     ]
    },
    {
     "name": "stderr",
     "output_type": "stream",
     "text": [
      "Validation: 100%|██████████| 79/79 [00:01<00:00, 47.45it/s]\n"
     ]
    },
    {
     "name": "stdout",
     "output_type": "stream",
     "text": [
      "LOSS train 2.0901618003845215 valid 2.049258232116699\n",
      "Epoch 23\n"
     ]
    },
    {
     "name": "stderr",
     "output_type": "stream",
     "text": [
      "Training: 100%|██████████| 391/391 [00:10<00:00, 37.56it/s]\n"
     ]
    },
    {
     "name": "stdout",
     "output_type": "stream",
     "text": [
      "Correct: 2278, Total: 10000, Accuracy: 0.23\n",
      "Accuracy: 22.78% (0.2278)\n",
      "Loss: 2.0919993927604272\n"
     ]
    },
    {
     "name": "stderr",
     "output_type": "stream",
     "text": [
      "Validation: 100%|██████████| 79/79 [00:01<00:00, 47.04it/s]\n"
     ]
    },
    {
     "name": "stdout",
     "output_type": "stream",
     "text": [
      "LOSS train 2.0919993927604272 valid 2.044201612472534\n",
      "Epoch 24\n"
     ]
    },
    {
     "name": "stderr",
     "output_type": "stream",
     "text": [
      "Training: 100%|██████████| 391/391 [00:10<00:00, 37.52it/s]\n"
     ]
    },
    {
     "name": "stdout",
     "output_type": "stream",
     "text": [
      "Correct: 2255, Total: 10000, Accuracy: 0.23\n",
      "Accuracy: 22.55% (0.2255)\n",
      "Loss: 2.0754130388561047\n"
     ]
    },
    {
     "name": "stderr",
     "output_type": "stream",
     "text": [
      "Validation: 100%|██████████| 79/79 [00:01<00:00, 41.58it/s]\n"
     ]
    },
    {
     "name": "stdout",
     "output_type": "stream",
     "text": [
      "LOSS train 2.0754130388561047 valid 2.039965867996216\n",
      "Saving model\n",
      "Epoch 25\n"
     ]
    },
    {
     "name": "stderr",
     "output_type": "stream",
     "text": [
      "Training: 100%|██████████| 391/391 [00:10<00:00, 38.10it/s]\n"
     ]
    },
    {
     "name": "stdout",
     "output_type": "stream",
     "text": [
      "Correct: 2268, Total: 10000, Accuracy: 0.23\n",
      "Accuracy: 22.68% (0.2268)\n",
      "Loss: 2.036675911200674\n"
     ]
    },
    {
     "name": "stderr",
     "output_type": "stream",
     "text": [
      "Validation: 100%|██████████| 79/79 [00:01<00:00, 45.32it/s]\n"
     ]
    },
    {
     "name": "stdout",
     "output_type": "stream",
     "text": [
      "LOSS train 2.036675911200674 valid 2.034813404083252\n",
      "Saving model\n",
      "Epoch 26\n"
     ]
    },
    {
     "name": "stderr",
     "output_type": "stream",
     "text": [
      "Training: 100%|██████████| 391/391 [00:10<00:00, 37.36it/s]\n"
     ]
    },
    {
     "name": "stdout",
     "output_type": "stream",
     "text": [
      "Correct: 2270, Total: 10000, Accuracy: 0.23\n",
      "Accuracy: 22.7% (0.227)\n",
      "Loss: 2.0658261901453923\n"
     ]
    },
    {
     "name": "stderr",
     "output_type": "stream",
     "text": [
      "Validation: 100%|██████████| 79/79 [00:01<00:00, 41.61it/s]\n"
     ]
    },
    {
     "name": "stdout",
     "output_type": "stream",
     "text": [
      "LOSS train 2.0658261901453923 valid 2.031303882598877\n",
      "Epoch 27\n"
     ]
    },
    {
     "name": "stderr",
     "output_type": "stream",
     "text": [
      "Training: 100%|██████████| 391/391 [00:10<00:00, 37.31it/s]\n"
     ]
    },
    {
     "name": "stdout",
     "output_type": "stream",
     "text": [
      "Correct: 2301, Total: 10000, Accuracy: 0.23\n",
      "Accuracy: 23.01% (0.2301)\n",
      "Loss: 2.045035770064906\n"
     ]
    },
    {
     "name": "stderr",
     "output_type": "stream",
     "text": [
      "Validation: 100%|██████████| 79/79 [00:01<00:00, 45.04it/s]\n"
     ]
    },
    {
     "name": "stdout",
     "output_type": "stream",
     "text": [
      "LOSS train 2.045035770064906 valid 2.026118040084839\n",
      "Epoch 28\n"
     ]
    },
    {
     "name": "stderr",
     "output_type": "stream",
     "text": [
      "Training: 100%|██████████| 391/391 [00:10<00:00, 38.21it/s]\n"
     ]
    },
    {
     "name": "stdout",
     "output_type": "stream",
     "text": [
      "Correct: 2307, Total: 10000, Accuracy: 0.23\n",
      "Accuracy: 23.07% (0.2307)\n",
      "Loss: 2.068277258622019\n"
     ]
    },
    {
     "name": "stderr",
     "output_type": "stream",
     "text": [
      "Validation: 100%|██████████| 79/79 [00:01<00:00, 42.11it/s]\n"
     ]
    },
    {
     "name": "stdout",
     "output_type": "stream",
     "text": [
      "LOSS train 2.068277258622019 valid 2.0256521701812744\n",
      "Epoch 29\n"
     ]
    },
    {
     "name": "stderr",
     "output_type": "stream",
     "text": [
      "Training: 100%|██████████| 391/391 [00:10<00:00, 38.00it/s]\n"
     ]
    },
    {
     "name": "stdout",
     "output_type": "stream",
     "text": [
      "Correct: 2342, Total: 10000, Accuracy: 0.23\n",
      "Accuracy: 23.419999999999998% (0.2342)\n",
      "Loss: 2.0460035173516524\n"
     ]
    },
    {
     "name": "stderr",
     "output_type": "stream",
     "text": [
      "Validation: 100%|██████████| 79/79 [00:01<00:00, 41.48it/s]\n"
     ]
    },
    {
     "name": "stdout",
     "output_type": "stream",
     "text": [
      "LOSS train 2.0460035173516524 valid 2.017944097518921\n",
      "Epoch 30\n"
     ]
    },
    {
     "name": "stderr",
     "output_type": "stream",
     "text": [
      "Training: 100%|██████████| 391/391 [00:10<00:00, 37.46it/s]\n"
     ]
    },
    {
     "name": "stdout",
     "output_type": "stream",
     "text": [
      "Correct: 2295, Total: 10000, Accuracy: 0.23\n",
      "Accuracy: 22.95% (0.2295)\n",
      "Loss: 2.0463633411809017\n"
     ]
    },
    {
     "name": "stderr",
     "output_type": "stream",
     "text": [
      "Validation: 100%|██████████| 79/79 [00:01<00:00, 47.09it/s]\n"
     ]
    },
    {
     "name": "stdout",
     "output_type": "stream",
     "text": [
      "LOSS train 2.0463633411809017 valid 2.016411066055298\n",
      "Epoch 31\n"
     ]
    },
    {
     "name": "stderr",
     "output_type": "stream",
     "text": [
      "Training: 100%|██████████| 391/391 [00:10<00:00, 37.47it/s]\n"
     ]
    },
    {
     "name": "stdout",
     "output_type": "stream",
     "text": [
      "Correct: 2384, Total: 10000, Accuracy: 0.24\n",
      "Accuracy: 23.84% (0.2384)\n",
      "Loss: 2.0640656571639213\n"
     ]
    },
    {
     "name": "stderr",
     "output_type": "stream",
     "text": [
      "Validation: 100%|██████████| 79/79 [00:01<00:00, 47.52it/s]\n"
     ]
    },
    {
     "name": "stdout",
     "output_type": "stream",
     "text": [
      "LOSS train 2.0640656571639213 valid 2.0139212608337402\n",
      "Epoch 32\n"
     ]
    },
    {
     "name": "stderr",
     "output_type": "stream",
     "text": [
      "Training: 100%|██████████| 391/391 [00:10<00:00, 37.32it/s]\n"
     ]
    },
    {
     "name": "stdout",
     "output_type": "stream",
     "text": [
      "Correct: 2318, Total: 10000, Accuracy: 0.23\n",
      "Accuracy: 23.18% (0.2318)\n",
      "Loss: 2.0517640364797494\n"
     ]
    },
    {
     "name": "stderr",
     "output_type": "stream",
     "text": [
      "Validation: 100%|██████████| 79/79 [00:01<00:00, 47.47it/s]\n"
     ]
    },
    {
     "name": "stdout",
     "output_type": "stream",
     "text": [
      "LOSS train 2.0517640364797494 valid 2.0097389221191406\n",
      "Epoch 33\n"
     ]
    },
    {
     "name": "stderr",
     "output_type": "stream",
     "text": [
      "Training: 100%|██████████| 391/391 [00:10<00:00, 37.19it/s]\n"
     ]
    },
    {
     "name": "stdout",
     "output_type": "stream",
     "text": [
      "Correct: 2350, Total: 10000, Accuracy: 0.23\n",
      "Accuracy: 23.5% (0.235)\n",
      "Loss: 2.048922664240787\n"
     ]
    },
    {
     "name": "stderr",
     "output_type": "stream",
     "text": [
      "Validation: 100%|██████████| 79/79 [00:01<00:00, 41.55it/s]\n"
     ]
    },
    {
     "name": "stdout",
     "output_type": "stream",
     "text": [
      "LOSS train 2.048922664240787 valid 2.015007257461548\n",
      "Epoch 34\n"
     ]
    },
    {
     "name": "stderr",
     "output_type": "stream",
     "text": [
      "Training: 100%|██████████| 391/391 [00:10<00:00, 37.38it/s]\n"
     ]
    },
    {
     "name": "stdout",
     "output_type": "stream",
     "text": [
      "Correct: 2333, Total: 10000, Accuracy: 0.23\n",
      "Accuracy: 23.330000000000002% (0.2333)\n",
      "Loss: 2.040981512320669\n"
     ]
    },
    {
     "name": "stderr",
     "output_type": "stream",
     "text": [
      "Validation: 100%|██████████| 79/79 [00:01<00:00, 47.46it/s]\n"
     ]
    },
    {
     "name": "stdout",
     "output_type": "stream",
     "text": [
      "LOSS train 2.040981512320669 valid 2.0071895122528076\n",
      "Epoch 35\n"
     ]
    },
    {
     "name": "stderr",
     "output_type": "stream",
     "text": [
      "Training: 100%|██████████| 391/391 [00:10<00:00, 37.17it/s]\n"
     ]
    },
    {
     "name": "stdout",
     "output_type": "stream",
     "text": [
      "Correct: 2348, Total: 10000, Accuracy: 0.23\n",
      "Accuracy: 23.48% (0.2348)\n",
      "Loss: 2.040606323041414\n"
     ]
    },
    {
     "name": "stderr",
     "output_type": "stream",
     "text": [
      "Validation: 100%|██████████| 79/79 [00:01<00:00, 45.57it/s]\n"
     ]
    },
    {
     "name": "stdout",
     "output_type": "stream",
     "text": [
      "LOSS train 2.040606323041414 valid 2.003448247909546\n",
      "Epoch 36\n"
     ]
    },
    {
     "name": "stderr",
     "output_type": "stream",
     "text": [
      "Training: 100%|██████████| 391/391 [00:10<00:00, 37.27it/s]\n"
     ]
    },
    {
     "name": "stdout",
     "output_type": "stream",
     "text": [
      "Correct: 2369, Total: 10000, Accuracy: 0.24\n",
      "Accuracy: 23.69% (0.2369)\n",
      "Loss: 2.040957657914413\n"
     ]
    },
    {
     "name": "stderr",
     "output_type": "stream",
     "text": [
      "Validation: 100%|██████████| 79/79 [00:01<00:00, 41.50it/s]\n"
     ]
    },
    {
     "name": "stdout",
     "output_type": "stream",
     "text": [
      "LOSS train 2.040957657914413 valid 1.9982130527496338\n",
      "Epoch 37\n"
     ]
    },
    {
     "name": "stderr",
     "output_type": "stream",
     "text": [
      "Training: 100%|██████████| 391/391 [00:10<00:00, 37.57it/s]\n"
     ]
    },
    {
     "name": "stdout",
     "output_type": "stream",
     "text": [
      "Correct: 2430, Total: 10000, Accuracy: 0.24\n",
      "Accuracy: 24.3% (0.243)\n",
      "Loss: 2.001616270918595\n"
     ]
    },
    {
     "name": "stderr",
     "output_type": "stream",
     "text": [
      "Validation: 100%|██████████| 79/79 [00:01<00:00, 54.20it/s]\n"
     ]
    },
    {
     "name": "stdout",
     "output_type": "stream",
     "text": [
      "LOSS train 2.001616270918595 valid 1.9949941635131836\n",
      "Saving model\n",
      "Epoch 38\n"
     ]
    },
    {
     "name": "stderr",
     "output_type": "stream",
     "text": [
      "Training: 100%|██████████| 391/391 [00:10<00:00, 37.42it/s]\n"
     ]
    },
    {
     "name": "stdout",
     "output_type": "stream",
     "text": [
      "Correct: 2473, Total: 10000, Accuracy: 0.25\n",
      "Accuracy: 24.73% (0.2473)\n",
      "Loss: 2.0159242090425993\n"
     ]
    },
    {
     "name": "stderr",
     "output_type": "stream",
     "text": [
      "Validation: 100%|██████████| 79/79 [00:01<00:00, 47.30it/s]\n"
     ]
    },
    {
     "name": "stdout",
     "output_type": "stream",
     "text": [
      "LOSS train 2.0159242090425993 valid 1.9908708333969116\n",
      "Epoch 39\n"
     ]
    },
    {
     "name": "stderr",
     "output_type": "stream",
     "text": [
      "Training: 100%|██████████| 391/391 [00:10<00:00, 37.18it/s]\n"
     ]
    },
    {
     "name": "stdout",
     "output_type": "stream",
     "text": [
      "Correct: 2475, Total: 10000, Accuracy: 0.25\n",
      "Accuracy: 24.75% (0.2475)\n",
      "Loss: 2.0206944879732633\n"
     ]
    },
    {
     "name": "stderr",
     "output_type": "stream",
     "text": [
      "Validation: 100%|██████████| 79/79 [00:01<00:00, 44.69it/s]\n"
     ]
    },
    {
     "name": "stdout",
     "output_type": "stream",
     "text": [
      "LOSS train 2.0206944879732633 valid 1.9850353002548218\n",
      "Epoch 40\n"
     ]
    },
    {
     "name": "stderr",
     "output_type": "stream",
     "text": [
      "Training: 100%|██████████| 391/391 [00:10<00:00, 37.99it/s]\n"
     ]
    },
    {
     "name": "stdout",
     "output_type": "stream",
     "text": [
      "Correct: 2472, Total: 10000, Accuracy: 0.25\n",
      "Accuracy: 24.72% (0.2472)\n",
      "Loss: 2.0227147717224923\n"
     ]
    },
    {
     "name": "stderr",
     "output_type": "stream",
     "text": [
      "Validation: 100%|██████████| 79/79 [00:01<00:00, 41.32it/s]\n"
     ]
    },
    {
     "name": "stdout",
     "output_type": "stream",
     "text": [
      "LOSS train 2.0227147717224923 valid 1.982556939125061\n",
      "Epoch 41\n"
     ]
    },
    {
     "name": "stderr",
     "output_type": "stream",
     "text": [
      "Training: 100%|██████████| 391/391 [00:10<00:00, 37.40it/s]\n"
     ]
    },
    {
     "name": "stdout",
     "output_type": "stream",
     "text": [
      "Correct: 2549, Total: 10000, Accuracy: 0.25\n",
      "Accuracy: 25.490000000000002% (0.2549)\n",
      "Loss: 2.0101490334460608\n"
     ]
    },
    {
     "name": "stderr",
     "output_type": "stream",
     "text": [
      "Validation: 100%|██████████| 79/79 [00:01<00:00, 45.19it/s]\n"
     ]
    },
    {
     "name": "stdout",
     "output_type": "stream",
     "text": [
      "LOSS train 2.0101490334460608 valid 1.970815896987915\n",
      "Epoch 42\n"
     ]
    },
    {
     "name": "stderr",
     "output_type": "stream",
     "text": [
      "Training: 100%|██████████| 391/391 [00:10<00:00, 37.25it/s]\n"
     ]
    },
    {
     "name": "stdout",
     "output_type": "stream",
     "text": [
      "Correct: 2694, Total: 10000, Accuracy: 0.27\n",
      "Accuracy: 26.939999999999998% (0.2694)\n",
      "Loss: 2.018590707527964\n"
     ]
    },
    {
     "name": "stderr",
     "output_type": "stream",
     "text": [
      "Validation: 100%|██████████| 79/79 [00:01<00:00, 47.24it/s]\n"
     ]
    },
    {
     "name": "stdout",
     "output_type": "stream",
     "text": [
      "LOSS train 2.018590707527964 valid 1.959450602531433\n",
      "Epoch 43\n"
     ]
    },
    {
     "name": "stderr",
     "output_type": "stream",
     "text": [
      "Training: 100%|██████████| 391/391 [00:10<00:00, 37.35it/s]\n"
     ]
    },
    {
     "name": "stdout",
     "output_type": "stream",
     "text": [
      "Correct: 2716, Total: 10000, Accuracy: 0.27\n",
      "Accuracy: 27.16% (0.2716)\n",
      "Loss: 1.9652135936837447\n"
     ]
    },
    {
     "name": "stderr",
     "output_type": "stream",
     "text": [
      "Validation: 100%|██████████| 79/79 [00:01<00:00, 44.71it/s]\n"
     ]
    },
    {
     "name": "stdout",
     "output_type": "stream",
     "text": [
      "LOSS train 1.9652135936837447 valid 1.9447778463363647\n",
      "Saving model\n",
      "Epoch 44\n"
     ]
    },
    {
     "name": "stderr",
     "output_type": "stream",
     "text": [
      "Training: 100%|██████████| 391/391 [00:10<00:00, 37.64it/s]\n"
     ]
    },
    {
     "name": "stdout",
     "output_type": "stream",
     "text": [
      "Correct: 2794, Total: 10000, Accuracy: 0.28\n",
      "Accuracy: 27.939999999999998% (0.2794)\n",
      "Loss: 1.9650404578761052\n"
     ]
    },
    {
     "name": "stderr",
     "output_type": "stream",
     "text": [
      "Validation: 100%|██████████| 79/79 [00:01<00:00, 54.06it/s]\n"
     ]
    },
    {
     "name": "stdout",
     "output_type": "stream",
     "text": [
      "LOSS train 1.9650404578761052 valid 1.9290426969528198\n",
      "Saving model\n",
      "Epoch 45\n"
     ]
    },
    {
     "name": "stderr",
     "output_type": "stream",
     "text": [
      "Training: 100%|██████████| 391/391 [00:10<00:00, 37.75it/s]\n"
     ]
    },
    {
     "name": "stdout",
     "output_type": "stream",
     "text": [
      "Correct: 2894, Total: 10000, Accuracy: 0.29\n",
      "Accuracy: 28.939999999999998% (0.2894)\n",
      "Loss: 1.9394725059208118\n"
     ]
    },
    {
     "name": "stderr",
     "output_type": "stream",
     "text": [
      "Validation: 100%|██████████| 79/79 [00:01<00:00, 46.56it/s]\n"
     ]
    },
    {
     "name": "stdout",
     "output_type": "stream",
     "text": [
      "LOSS train 1.9394725059208118 valid 1.9045524597167969\n",
      "Saving model\n",
      "Epoch 46\n"
     ]
    },
    {
     "name": "stderr",
     "output_type": "stream",
     "text": [
      "Training: 100%|██████████| 391/391 [00:10<00:00, 37.63it/s]\n"
     ]
    },
    {
     "name": "stdout",
     "output_type": "stream",
     "text": [
      "Correct: 3001, Total: 10000, Accuracy: 0.30\n",
      "Accuracy: 30.009999999999998% (0.3001)\n",
      "Loss: 1.933671185844823\n"
     ]
    },
    {
     "name": "stderr",
     "output_type": "stream",
     "text": [
      "Validation: 100%|██████████| 79/79 [00:01<00:00, 47.60it/s]\n"
     ]
    },
    {
     "name": "stdout",
     "output_type": "stream",
     "text": [
      "LOSS train 1.933671185844823 valid 1.8916208744049072\n",
      "Saving model\n",
      "Epoch 47\n"
     ]
    },
    {
     "name": "stderr",
     "output_type": "stream",
     "text": [
      "Training: 100%|██████████| 391/391 [00:10<00:00, 37.07it/s]\n"
     ]
    },
    {
     "name": "stdout",
     "output_type": "stream",
     "text": [
      "Correct: 3086, Total: 10000, Accuracy: 0.31\n",
      "Accuracy: 30.86% (0.3086)\n",
      "Loss: 1.9011913977171246\n"
     ]
    },
    {
     "name": "stderr",
     "output_type": "stream",
     "text": [
      "Validation: 100%|██████████| 79/79 [00:01<00:00, 47.28it/s]\n"
     ]
    },
    {
     "name": "stdout",
     "output_type": "stream",
     "text": [
      "LOSS train 1.9011913977171246 valid 1.8719208240509033\n",
      "Saving model\n",
      "Epoch 48\n"
     ]
    },
    {
     "name": "stderr",
     "output_type": "stream",
     "text": [
      "Training: 100%|██████████| 391/391 [00:10<00:00, 37.79it/s]\n"
     ]
    },
    {
     "name": "stdout",
     "output_type": "stream",
     "text": [
      "Correct: 3166, Total: 10000, Accuracy: 0.32\n",
      "Accuracy: 31.66% (0.3166)\n",
      "Loss: 1.8999233936008655\n"
     ]
    },
    {
     "name": "stderr",
     "output_type": "stream",
     "text": [
      "Validation: 100%|██████████| 79/79 [00:01<00:00, 52.56it/s]\n"
     ]
    },
    {
     "name": "stdout",
     "output_type": "stream",
     "text": [
      "LOSS train 1.8999233936008655 valid 1.8587511777877808\n",
      "Saving model\n",
      "Epoch 49\n"
     ]
    },
    {
     "name": "stderr",
     "output_type": "stream",
     "text": [
      "Training: 100%|██████████| 391/391 [00:10<00:00, 37.36it/s]\n"
     ]
    },
    {
     "name": "stdout",
     "output_type": "stream",
     "text": [
      "Correct: 3201, Total: 10000, Accuracy: 0.32\n",
      "Accuracy: 32.01% (0.3201)\n",
      "Loss: 1.8969078503156964\n"
     ]
    },
    {
     "name": "stderr",
     "output_type": "stream",
     "text": [
      "Validation: 100%|██████████| 79/79 [00:01<00:00, 47.40it/s]\n"
     ]
    },
    {
     "name": "stdout",
     "output_type": "stream",
     "text": [
      "LOSS train 1.8969078503156964 valid 1.8480644226074219\n",
      "Saving model\n",
      "Epoch 50\n"
     ]
    },
    {
     "name": "stderr",
     "output_type": "stream",
     "text": [
      "Training: 100%|██████████| 391/391 [00:10<00:00, 37.19it/s]\n"
     ]
    },
    {
     "name": "stdout",
     "output_type": "stream",
     "text": [
      "Correct: 3274, Total: 10000, Accuracy: 0.33\n",
      "Accuracy: 32.74% (0.3274)\n",
      "Loss: 1.8657321678964716\n"
     ]
    },
    {
     "name": "stderr",
     "output_type": "stream",
     "text": [
      "Validation: 100%|██████████| 79/79 [00:01<00:00, 47.45it/s]\n"
     ]
    },
    {
     "name": "stdout",
     "output_type": "stream",
     "text": [
      "LOSS train 1.8657321678964716 valid 1.837445616722107\n",
      "Saving model\n",
      "Epoch 51\n"
     ]
    },
    {
     "name": "stderr",
     "output_type": "stream",
     "text": [
      "Training: 100%|██████████| 391/391 [00:10<00:00, 37.32it/s]\n"
     ]
    },
    {
     "name": "stdout",
     "output_type": "stream",
     "text": [
      "Correct: 3315, Total: 10000, Accuracy: 0.33\n",
      "Accuracy: 33.15% (0.3315)\n",
      "Loss: 1.870036758874592\n"
     ]
    },
    {
     "name": "stderr",
     "output_type": "stream",
     "text": [
      "Validation: 100%|██████████| 79/79 [00:01<00:00, 47.38it/s]\n"
     ]
    },
    {
     "name": "stdout",
     "output_type": "stream",
     "text": [
      "LOSS train 1.870036758874592 valid 1.8283058404922485\n",
      "Epoch 52\n"
     ]
    },
    {
     "name": "stderr",
     "output_type": "stream",
     "text": [
      "Training: 100%|██████████| 391/391 [00:10<00:00, 38.12it/s]\n"
     ]
    },
    {
     "name": "stdout",
     "output_type": "stream",
     "text": [
      "Correct: 3419, Total: 10000, Accuracy: 0.34\n",
      "Accuracy: 34.19% (0.3419)\n",
      "Loss: 1.8556878253033287\n"
     ]
    },
    {
     "name": "stderr",
     "output_type": "stream",
     "text": [
      "Validation: 100%|██████████| 79/79 [00:01<00:00, 40.91it/s]\n"
     ]
    },
    {
     "name": "stdout",
     "output_type": "stream",
     "text": [
      "LOSS train 1.8556878253033287 valid 1.8007627725601196\n",
      "Saving model\n",
      "Epoch 53\n"
     ]
    },
    {
     "name": "stderr",
     "output_type": "stream",
     "text": [
      "Training: 100%|██████████| 391/391 [00:10<00:00, 37.97it/s]\n"
     ]
    },
    {
     "name": "stdout",
     "output_type": "stream",
     "text": [
      "Correct: 3489, Total: 10000, Accuracy: 0.35\n",
      "Accuracy: 34.89% (0.3489)\n",
      "Loss: 1.825794872484709\n"
     ]
    },
    {
     "name": "stderr",
     "output_type": "stream",
     "text": [
      "Validation: 100%|██████████| 79/79 [00:01<00:00, 41.16it/s]\n"
     ]
    },
    {
     "name": "stdout",
     "output_type": "stream",
     "text": [
      "LOSS train 1.825794872484709 valid 1.7890938520431519\n",
      "Saving model\n",
      "Epoch 54\n"
     ]
    },
    {
     "name": "stderr",
     "output_type": "stream",
     "text": [
      "Training: 100%|██████████| 391/391 [00:10<00:00, 37.41it/s]\n"
     ]
    },
    {
     "name": "stdout",
     "output_type": "stream",
     "text": [
      "Correct: 3457, Total: 10000, Accuracy: 0.35\n",
      "Accuracy: 34.57% (0.3457)\n",
      "Loss: 1.79360998931684\n"
     ]
    },
    {
     "name": "stderr",
     "output_type": "stream",
     "text": [
      "Validation: 100%|██████████| 79/79 [00:01<00:00, 45.61it/s]\n"
     ]
    },
    {
     "name": "stdout",
     "output_type": "stream",
     "text": [
      "LOSS train 1.79360998931684 valid 1.8050317764282227\n",
      "Saving model\n",
      "Epoch 55\n"
     ]
    },
    {
     "name": "stderr",
     "output_type": "stream",
     "text": [
      "Training: 100%|██████████| 391/391 [00:10<00:00, 37.48it/s]\n"
     ]
    },
    {
     "name": "stdout",
     "output_type": "stream",
     "text": [
      "Correct: 3544, Total: 10000, Accuracy: 0.35\n",
      "Accuracy: 35.44% (0.3544)\n",
      "Loss: 1.8122523019188328\n"
     ]
    },
    {
     "name": "stderr",
     "output_type": "stream",
     "text": [
      "Validation: 100%|██████████| 79/79 [00:01<00:00, 47.61it/s]\n"
     ]
    },
    {
     "name": "stdout",
     "output_type": "stream",
     "text": [
      "LOSS train 1.8122523019188328 valid 1.780803918838501\n",
      "Epoch 56\n"
     ]
    },
    {
     "name": "stderr",
     "output_type": "stream",
     "text": [
      "Training: 100%|██████████| 391/391 [00:10<00:00, 38.31it/s]\n"
     ]
    },
    {
     "name": "stdout",
     "output_type": "stream",
     "text": [
      "Correct: 3570, Total: 10000, Accuracy: 0.36\n",
      "Accuracy: 35.699999999999996% (0.357)\n",
      "Loss: 1.77062852131693\n"
     ]
    },
    {
     "name": "stderr",
     "output_type": "stream",
     "text": [
      "Validation: 100%|██████████| 79/79 [00:01<00:00, 41.47it/s]\n"
     ]
    },
    {
     "name": "stdout",
     "output_type": "stream",
     "text": [
      "LOSS train 1.77062852131693 valid 1.770329475402832\n",
      "Saving model\n",
      "Epoch 57\n"
     ]
    },
    {
     "name": "stderr",
     "output_type": "stream",
     "text": [
      "Training: 100%|██████████| 391/391 [00:10<00:00, 37.99it/s]\n"
     ]
    },
    {
     "name": "stdout",
     "output_type": "stream",
     "text": [
      "Correct: 3577, Total: 10000, Accuracy: 0.36\n",
      "Accuracy: 35.77% (0.3577)\n",
      "Loss: 1.8009462356567383\n"
     ]
    },
    {
     "name": "stderr",
     "output_type": "stream",
     "text": [
      "Validation: 100%|██████████| 79/79 [00:01<00:00, 41.51it/s]\n"
     ]
    },
    {
     "name": "stdout",
     "output_type": "stream",
     "text": [
      "LOSS train 1.8009462356567383 valid 1.7575714588165283\n",
      "Epoch 58\n"
     ]
    },
    {
     "name": "stderr",
     "output_type": "stream",
     "text": [
      "Training: 100%|██████████| 391/391 [00:10<00:00, 37.62it/s]\n"
     ]
    },
    {
     "name": "stdout",
     "output_type": "stream",
     "text": [
      "Correct: 3653, Total: 10000, Accuracy: 0.37\n",
      "Accuracy: 36.53% (0.3653)\n",
      "Loss: 1.7808904083151567\n"
     ]
    },
    {
     "name": "stderr",
     "output_type": "stream",
     "text": [
      "Validation: 100%|██████████| 79/79 [00:01<00:00, 40.11it/s]\n"
     ]
    },
    {
     "name": "stdout",
     "output_type": "stream",
     "text": [
      "LOSS train 1.7808904083151567 valid 1.754616618156433\n",
      "Epoch 59\n"
     ]
    },
    {
     "name": "stderr",
     "output_type": "stream",
     "text": [
      "Training: 100%|██████████| 391/391 [00:10<00:00, 37.55it/s]\n"
     ]
    },
    {
     "name": "stdout",
     "output_type": "stream",
     "text": [
      "Correct: 3716, Total: 10000, Accuracy: 0.37\n",
      "Accuracy: 37.16% (0.3716)\n",
      "Loss: 1.7590255737304688\n"
     ]
    },
    {
     "name": "stderr",
     "output_type": "stream",
     "text": [
      "Validation: 100%|██████████| 79/79 [00:01<00:00, 47.09it/s]\n"
     ]
    },
    {
     "name": "stdout",
     "output_type": "stream",
     "text": [
      "LOSS train 1.7590255737304688 valid 1.7361520528793335\n",
      "Saving model\n",
      "Epoch 60\n"
     ]
    },
    {
     "name": "stderr",
     "output_type": "stream",
     "text": [
      "Training: 100%|██████████| 391/391 [00:10<00:00, 37.05it/s]\n"
     ]
    },
    {
     "name": "stdout",
     "output_type": "stream",
     "text": [
      "Correct: 3677, Total: 10000, Accuracy: 0.37\n",
      "Accuracy: 36.77% (0.3677)\n",
      "Loss: 1.7878040012560392\n"
     ]
    },
    {
     "name": "stderr",
     "output_type": "stream",
     "text": [
      "Validation: 100%|██████████| 79/79 [00:01<00:00, 45.49it/s]\n"
     ]
    },
    {
     "name": "stdout",
     "output_type": "stream",
     "text": [
      "LOSS train 1.7878040012560392 valid 1.7369531393051147\n",
      "Epoch 61\n"
     ]
    },
    {
     "name": "stderr",
     "output_type": "stream",
     "text": [
      "Training: 100%|██████████| 391/391 [00:10<00:00, 37.83it/s]\n"
     ]
    },
    {
     "name": "stdout",
     "output_type": "stream",
     "text": [
      "Correct: 3675, Total: 10000, Accuracy: 0.37\n",
      "Accuracy: 36.75% (0.3675)\n",
      "Loss: 1.7834027064474005\n"
     ]
    },
    {
     "name": "stderr",
     "output_type": "stream",
     "text": [
      "Validation: 100%|██████████| 79/79 [00:01<00:00, 40.14it/s]\n"
     ]
    },
    {
     "name": "stdout",
     "output_type": "stream",
     "text": [
      "LOSS train 1.7834027064474005 valid 1.7250127792358398\n",
      "Epoch 62\n"
     ]
    },
    {
     "name": "stderr",
     "output_type": "stream",
     "text": [
      "Training: 100%|██████████| 391/391 [00:10<00:00, 37.27it/s]\n"
     ]
    },
    {
     "name": "stdout",
     "output_type": "stream",
     "text": [
      "Correct: 3739, Total: 10000, Accuracy: 0.37\n",
      "Accuracy: 37.39% (0.3739)\n",
      "Loss: 1.7151773289630288\n"
     ]
    },
    {
     "name": "stderr",
     "output_type": "stream",
     "text": [
      "Validation: 100%|██████████| 79/79 [00:01<00:00, 47.48it/s]\n"
     ]
    },
    {
     "name": "stdout",
     "output_type": "stream",
     "text": [
      "LOSS train 1.7151773289630288 valid 1.7186279296875\n",
      "Saving model\n",
      "Epoch 63\n"
     ]
    },
    {
     "name": "stderr",
     "output_type": "stream",
     "text": [
      "Training: 100%|██████████| 391/391 [00:10<00:00, 37.39it/s]\n"
     ]
    },
    {
     "name": "stdout",
     "output_type": "stream",
     "text": [
      "Correct: 3742, Total: 10000, Accuracy: 0.37\n",
      "Accuracy: 37.419999999999995% (0.3742)\n",
      "Loss: 1.7765286407972638\n"
     ]
    },
    {
     "name": "stderr",
     "output_type": "stream",
     "text": [
      "Validation: 100%|██████████| 79/79 [00:01<00:00, 41.18it/s]\n"
     ]
    },
    {
     "name": "stdout",
     "output_type": "stream",
     "text": [
      "LOSS train 1.7765286407972638 valid 1.71450674533844\n",
      "Epoch 64\n"
     ]
    },
    {
     "name": "stderr",
     "output_type": "stream",
     "text": [
      "Training: 100%|██████████| 391/391 [00:10<00:00, 38.27it/s]\n"
     ]
    },
    {
     "name": "stdout",
     "output_type": "stream",
     "text": [
      "Correct: 3713, Total: 10000, Accuracy: 0.37\n",
      "Accuracy: 37.13% (0.3713)\n",
      "Loss: 1.734667652531674\n"
     ]
    },
    {
     "name": "stderr",
     "output_type": "stream",
     "text": [
      "Validation: 100%|██████████| 79/79 [00:01<00:00, 41.42it/s]\n"
     ]
    },
    {
     "name": "stdout",
     "output_type": "stream",
     "text": [
      "LOSS train 1.734667652531674 valid 1.7146824598312378\n",
      "Epoch 65\n"
     ]
    },
    {
     "name": "stderr",
     "output_type": "stream",
     "text": [
      "Training: 100%|██████████| 391/391 [00:10<00:00, 37.66it/s]\n"
     ]
    },
    {
     "name": "stdout",
     "output_type": "stream",
     "text": [
      "Correct: 3812, Total: 10000, Accuracy: 0.38\n",
      "Accuracy: 38.12% (0.3812)\n",
      "Loss: 1.724090011496293\n"
     ]
    },
    {
     "name": "stderr",
     "output_type": "stream",
     "text": [
      "Validation: 100%|██████████| 79/79 [00:01<00:00, 47.37it/s]\n"
     ]
    },
    {
     "name": "stdout",
     "output_type": "stream",
     "text": [
      "LOSS train 1.724090011496293 valid 1.6889431476593018\n",
      "Epoch 66\n"
     ]
    },
    {
     "name": "stderr",
     "output_type": "stream",
     "text": [
      "Training: 100%|██████████| 391/391 [00:10<00:00, 37.77it/s]\n"
     ]
    },
    {
     "name": "stdout",
     "output_type": "stream",
     "text": [
      "Correct: 3882, Total: 10000, Accuracy: 0.39\n",
      "Accuracy: 38.82% (0.3882)\n",
      "Loss: 1.7035052525369745\n"
     ]
    },
    {
     "name": "stderr",
     "output_type": "stream",
     "text": [
      "Validation: 100%|██████████| 79/79 [00:01<00:00, 47.32it/s]\n"
     ]
    },
    {
     "name": "stdout",
     "output_type": "stream",
     "text": [
      "LOSS train 1.7035052525369745 valid 1.67766273021698\n",
      "Saving model\n",
      "Epoch 67\n"
     ]
    },
    {
     "name": "stderr",
     "output_type": "stream",
     "text": [
      "Training: 100%|██████████| 391/391 [00:10<00:00, 37.67it/s]\n"
     ]
    },
    {
     "name": "stdout",
     "output_type": "stream",
     "text": [
      "Correct: 3907, Total: 10000, Accuracy: 0.39\n",
      "Accuracy: 39.07% (0.3907)\n",
      "Loss: 1.7024562986273515\n"
     ]
    },
    {
     "name": "stderr",
     "output_type": "stream",
     "text": [
      "Validation: 100%|██████████| 79/79 [00:01<00:00, 52.02it/s]\n"
     ]
    },
    {
     "name": "stdout",
     "output_type": "stream",
     "text": [
      "LOSS train 1.7024562986273515 valid 1.672249674797058\n",
      "Saving model\n",
      "Epoch 68\n"
     ]
    },
    {
     "name": "stderr",
     "output_type": "stream",
     "text": [
      "Training: 100%|██████████| 391/391 [00:10<00:00, 37.36it/s]\n"
     ]
    },
    {
     "name": "stdout",
     "output_type": "stream",
     "text": [
      "Correct: 3788, Total: 10000, Accuracy: 0.38\n",
      "Accuracy: 37.88% (0.3788)\n",
      "Loss: 1.7091181466453953\n"
     ]
    },
    {
     "name": "stderr",
     "output_type": "stream",
     "text": [
      "Validation: 100%|██████████| 79/79 [00:01<00:00, 45.35it/s]\n"
     ]
    },
    {
     "name": "stdout",
     "output_type": "stream",
     "text": [
      "LOSS train 1.7091181466453953 valid 1.6874643564224243\n",
      "Epoch 69\n"
     ]
    },
    {
     "name": "stderr",
     "output_type": "stream",
     "text": [
      "Training: 100%|██████████| 391/391 [00:10<00:00, 37.67it/s]\n"
     ]
    },
    {
     "name": "stdout",
     "output_type": "stream",
     "text": [
      "Correct: 3941, Total: 10000, Accuracy: 0.39\n",
      "Accuracy: 39.410000000000004% (0.3941)\n",
      "Loss: 1.6927235565687482\n"
     ]
    },
    {
     "name": "stderr",
     "output_type": "stream",
     "text": [
      "Validation: 100%|██████████| 79/79 [00:01<00:00, 46.29it/s]\n"
     ]
    },
    {
     "name": "stdout",
     "output_type": "stream",
     "text": [
      "LOSS train 1.6927235565687482 valid 1.6621429920196533\n",
      "Saving model\n",
      "Epoch 70\n"
     ]
    },
    {
     "name": "stderr",
     "output_type": "stream",
     "text": [
      "Training: 100%|██████████| 391/391 [00:10<00:00, 37.37it/s]\n"
     ]
    },
    {
     "name": "stdout",
     "output_type": "stream",
     "text": [
      "Correct: 3979, Total: 10000, Accuracy: 0.40\n",
      "Accuracy: 39.79% (0.3979)\n",
      "Loss: 1.6877241134643555\n"
     ]
    },
    {
     "name": "stderr",
     "output_type": "stream",
     "text": [
      "Validation: 100%|██████████| 79/79 [00:01<00:00, 45.57it/s]\n"
     ]
    },
    {
     "name": "stdout",
     "output_type": "stream",
     "text": [
      "LOSS train 1.6877241134643555 valid 1.6622638702392578\n",
      "Saving model\n",
      "Epoch 71\n"
     ]
    },
    {
     "name": "stderr",
     "output_type": "stream",
     "text": [
      "Training: 100%|██████████| 391/391 [00:10<00:00, 38.01it/s]\n"
     ]
    },
    {
     "name": "stdout",
     "output_type": "stream",
     "text": [
      "Correct: 3972, Total: 10000, Accuracy: 0.40\n",
      "Accuracy: 39.72% (0.3972)\n",
      "Loss: 1.6872124609194303\n"
     ]
    },
    {
     "name": "stderr",
     "output_type": "stream",
     "text": [
      "Validation: 100%|██████████| 79/79 [00:01<00:00, 41.53it/s]\n"
     ]
    },
    {
     "name": "stdout",
     "output_type": "stream",
     "text": [
      "LOSS train 1.6872124609194303 valid 1.6579681634902954\n",
      "Saving model\n",
      "Epoch 72\n"
     ]
    },
    {
     "name": "stderr",
     "output_type": "stream",
     "text": [
      "Training: 100%|██████████| 391/391 [00:10<00:00, 37.97it/s]\n"
     ]
    },
    {
     "name": "stdout",
     "output_type": "stream",
     "text": [
      "Correct: 3957, Total: 10000, Accuracy: 0.40\n",
      "Accuracy: 39.57% (0.3957)\n",
      "Loss: 1.6760440123708624\n"
     ]
    },
    {
     "name": "stderr",
     "output_type": "stream",
     "text": [
      "Validation: 100%|██████████| 79/79 [00:01<00:00, 44.00it/s]\n"
     ]
    },
    {
     "name": "stdout",
     "output_type": "stream",
     "text": [
      "LOSS train 1.6760440123708624 valid 1.6452686786651611\n",
      "Saving model\n",
      "Epoch 73\n"
     ]
    },
    {
     "name": "stderr",
     "output_type": "stream",
     "text": [
      "Training: 100%|██████████| 391/391 [00:10<00:00, 38.13it/s]\n"
     ]
    },
    {
     "name": "stdout",
     "output_type": "stream",
     "text": [
      "Correct: 4018, Total: 10000, Accuracy: 0.40\n",
      "Accuracy: 40.18% (0.4018)\n",
      "Loss: 1.6501179870806242\n"
     ]
    },
    {
     "name": "stderr",
     "output_type": "stream",
     "text": [
      "Validation: 100%|██████████| 79/79 [00:01<00:00, 40.63it/s]\n"
     ]
    },
    {
     "name": "stdout",
     "output_type": "stream",
     "text": [
      "LOSS train 1.6501179870806242 valid 1.6318365335464478\n",
      "Saving model\n",
      "Epoch 74\n"
     ]
    },
    {
     "name": "stderr",
     "output_type": "stream",
     "text": [
      "Training: 100%|██████████| 391/391 [00:10<00:00, 37.39it/s]\n"
     ]
    },
    {
     "name": "stdout",
     "output_type": "stream",
     "text": [
      "Correct: 4021, Total: 10000, Accuracy: 0.40\n",
      "Accuracy: 40.21% (0.4021)\n",
      "Loss: 1.6573324454458136\n"
     ]
    },
    {
     "name": "stderr",
     "output_type": "stream",
     "text": [
      "Validation: 100%|██████████| 79/79 [00:01<00:00, 47.46it/s]\n"
     ]
    },
    {
     "name": "stdout",
     "output_type": "stream",
     "text": [
      "LOSS train 1.6573324454458136 valid 1.642594337463379\n",
      "Epoch 75\n"
     ]
    },
    {
     "name": "stderr",
     "output_type": "stream",
     "text": [
      "Training: 100%|██████████| 391/391 [00:10<00:00, 37.44it/s]\n"
     ]
    },
    {
     "name": "stdout",
     "output_type": "stream",
     "text": [
      "Correct: 4078, Total: 10000, Accuracy: 0.41\n",
      "Accuracy: 40.78% (0.4078)\n",
      "Loss: 1.62452358948557\n"
     ]
    },
    {
     "name": "stderr",
     "output_type": "stream",
     "text": [
      "Validation: 100%|██████████| 79/79 [00:01<00:00, 45.58it/s]\n"
     ]
    },
    {
     "name": "stdout",
     "output_type": "stream",
     "text": [
      "LOSS train 1.62452358948557 valid 1.609894037246704\n",
      "Saving model\n",
      "Epoch 76\n"
     ]
    },
    {
     "name": "stderr",
     "output_type": "stream",
     "text": [
      "Training: 100%|██████████| 391/391 [00:10<00:00, 37.39it/s]\n"
     ]
    },
    {
     "name": "stdout",
     "output_type": "stream",
     "text": [
      "Correct: 4123, Total: 10000, Accuracy: 0.41\n",
      "Accuracy: 41.23% (0.4123)\n",
      "Loss: 1.6462840155551308\n"
     ]
    },
    {
     "name": "stderr",
     "output_type": "stream",
     "text": [
      "Validation: 100%|██████████| 79/79 [00:01<00:00, 47.55it/s]\n"
     ]
    },
    {
     "name": "stdout",
     "output_type": "stream",
     "text": [
      "LOSS train 1.6462840155551308 valid 1.6071624755859375\n",
      "Epoch 77\n"
     ]
    },
    {
     "name": "stderr",
     "output_type": "stream",
     "text": [
      "Training: 100%|██████████| 391/391 [00:10<00:00, 37.41it/s]\n"
     ]
    },
    {
     "name": "stdout",
     "output_type": "stream",
     "text": [
      "Correct: 4114, Total: 10000, Accuracy: 0.41\n",
      "Accuracy: 41.14% (0.4114)\n",
      "Loss: 1.623675547148052\n"
     ]
    },
    {
     "name": "stderr",
     "output_type": "stream",
     "text": [
      "Validation: 100%|██████████| 79/79 [00:01<00:00, 47.52it/s]\n"
     ]
    },
    {
     "name": "stdout",
     "output_type": "stream",
     "text": [
      "LOSS train 1.623675547148052 valid 1.6070400476455688\n",
      "Saving model\n",
      "Epoch 78\n"
     ]
    },
    {
     "name": "stderr",
     "output_type": "stream",
     "text": [
      "Training: 100%|██████████| 391/391 [00:10<00:00, 38.05it/s]\n"
     ]
    },
    {
     "name": "stdout",
     "output_type": "stream",
     "text": [
      "Correct: 4183, Total: 10000, Accuracy: 0.42\n",
      "Accuracy: 41.83% (0.4183)\n",
      "Loss: 1.654540080773203\n"
     ]
    },
    {
     "name": "stderr",
     "output_type": "stream",
     "text": [
      "Validation: 100%|██████████| 79/79 [00:01<00:00, 41.44it/s]\n"
     ]
    },
    {
     "name": "stdout",
     "output_type": "stream",
     "text": [
      "LOSS train 1.654540080773203 valid 1.590966820716858\n",
      "Epoch 79\n"
     ]
    },
    {
     "name": "stderr",
     "output_type": "stream",
     "text": [
      "Training: 100%|██████████| 391/391 [00:10<00:00, 37.09it/s]\n"
     ]
    },
    {
     "name": "stdout",
     "output_type": "stream",
     "text": [
      "Correct: 4208, Total: 10000, Accuracy: 0.42\n",
      "Accuracy: 42.08% (0.4208)\n",
      "Loss: 1.6104049243425067\n"
     ]
    },
    {
     "name": "stderr",
     "output_type": "stream",
     "text": [
      "Validation: 100%|██████████| 79/79 [00:01<00:00, 41.55it/s]\n"
     ]
    },
    {
     "name": "stdout",
     "output_type": "stream",
     "text": [
      "LOSS train 1.6104049243425067 valid 1.585392713546753\n",
      "Saving model\n",
      "Epoch 80\n"
     ]
    },
    {
     "name": "stderr",
     "output_type": "stream",
     "text": [
      "Training: 100%|██████████| 391/391 [00:10<00:00, 37.67it/s]\n"
     ]
    },
    {
     "name": "stdout",
     "output_type": "stream",
     "text": [
      "Correct: 4204, Total: 10000, Accuracy: 0.42\n",
      "Accuracy: 42.04% (0.4204)\n",
      "Loss: 1.60206181124637\n"
     ]
    },
    {
     "name": "stderr",
     "output_type": "stream",
     "text": [
      "Validation: 100%|██████████| 79/79 [00:01<00:00, 45.72it/s]\n"
     ]
    },
    {
     "name": "stdout",
     "output_type": "stream",
     "text": [
      "LOSS train 1.60206181124637 valid 1.5842852592468262\n",
      "Saving model\n",
      "Epoch 81\n"
     ]
    },
    {
     "name": "stderr",
     "output_type": "stream",
     "text": [
      "Training: 100%|██████████| 391/391 [00:10<00:00, 38.46it/s]\n"
     ]
    },
    {
     "name": "stdout",
     "output_type": "stream",
     "text": [
      "Correct: 4245, Total: 10000, Accuracy: 0.42\n",
      "Accuracy: 42.449999999999996% (0.4245)\n",
      "Loss: 1.5936852442590814\n"
     ]
    },
    {
     "name": "stderr",
     "output_type": "stream",
     "text": [
      "Validation: 100%|██████████| 79/79 [00:01<00:00, 41.62it/s]\n"
     ]
    },
    {
     "name": "stdout",
     "output_type": "stream",
     "text": [
      "LOSS train 1.5936852442590814 valid 1.5895088911056519\n",
      "Saving model\n",
      "Epoch 82\n"
     ]
    },
    {
     "name": "stderr",
     "output_type": "stream",
     "text": [
      "Training: 100%|██████████| 391/391 [00:10<00:00, 37.53it/s]\n"
     ]
    },
    {
     "name": "stdout",
     "output_type": "stream",
     "text": [
      "Correct: 4280, Total: 10000, Accuracy: 0.43\n",
      "Accuracy: 42.8% (0.428)\n",
      "Loss: 1.592432360900076\n"
     ]
    },
    {
     "name": "stderr",
     "output_type": "stream",
     "text": [
      "Validation: 100%|██████████| 79/79 [00:01<00:00, 47.63it/s]\n"
     ]
    },
    {
     "name": "stdout",
     "output_type": "stream",
     "text": [
      "LOSS train 1.592432360900076 valid 1.575107455253601\n",
      "Saving model\n",
      "Epoch 83\n"
     ]
    },
    {
     "name": "stderr",
     "output_type": "stream",
     "text": [
      "Training: 100%|██████████| 391/391 [00:10<00:00, 37.79it/s]\n"
     ]
    },
    {
     "name": "stdout",
     "output_type": "stream",
     "text": [
      "Correct: 4317, Total: 10000, Accuracy: 0.43\n",
      "Accuracy: 43.169999999999995% (0.4317)\n",
      "Loss: 1.6078945084622032\n"
     ]
    },
    {
     "name": "stderr",
     "output_type": "stream",
     "text": [
      "Validation: 100%|██████████| 79/79 [00:01<00:00, 41.38it/s]\n"
     ]
    },
    {
     "name": "stdout",
     "output_type": "stream",
     "text": [
      "LOSS train 1.6078945084622032 valid 1.562058687210083\n",
      "Epoch 84\n"
     ]
    },
    {
     "name": "stderr",
     "output_type": "stream",
     "text": [
      "Training: 100%|██████████| 391/391 [00:10<00:00, 37.27it/s]\n"
     ]
    },
    {
     "name": "stdout",
     "output_type": "stream",
     "text": [
      "Correct: 4307, Total: 10000, Accuracy: 0.43\n",
      "Accuracy: 43.07% (0.4307)\n",
      "Loss: 1.5492495674836009\n"
     ]
    },
    {
     "name": "stderr",
     "output_type": "stream",
     "text": [
      "Validation: 100%|██████████| 79/79 [00:01<00:00, 41.53it/s]\n"
     ]
    },
    {
     "name": "stdout",
     "output_type": "stream",
     "text": [
      "LOSS train 1.5492495674836009 valid 1.5650566816329956\n",
      "Saving model\n",
      "Epoch 85\n"
     ]
    },
    {
     "name": "stderr",
     "output_type": "stream",
     "text": [
      "Training: 100%|██████████| 391/391 [00:10<00:00, 37.39it/s]\n"
     ]
    },
    {
     "name": "stdout",
     "output_type": "stream",
     "text": [
      "Correct: 4350, Total: 10000, Accuracy: 0.43\n",
      "Accuracy: 43.5% (0.435)\n",
      "Loss: 1.6005879075903642\n"
     ]
    },
    {
     "name": "stderr",
     "output_type": "stream",
     "text": [
      "Validation: 100%|██████████| 79/79 [00:01<00:00, 47.42it/s]\n"
     ]
    },
    {
     "name": "stdout",
     "output_type": "stream",
     "text": [
      "LOSS train 1.6005879075903642 valid 1.5603269338607788\n",
      "Epoch 86\n"
     ]
    },
    {
     "name": "stderr",
     "output_type": "stream",
     "text": [
      "Training: 100%|██████████| 391/391 [00:10<00:00, 37.30it/s]\n"
     ]
    },
    {
     "name": "stdout",
     "output_type": "stream",
     "text": [
      "Correct: 4358, Total: 10000, Accuracy: 0.44\n",
      "Accuracy: 43.580000000000005% (0.4358)\n",
      "Loss: 1.5729939435657703\n"
     ]
    },
    {
     "name": "stderr",
     "output_type": "stream",
     "text": [
      "Validation: 100%|██████████| 79/79 [00:01<00:00, 45.40it/s]\n"
     ]
    },
    {
     "name": "stdout",
     "output_type": "stream",
     "text": [
      "LOSS train 1.5729939435657703 valid 1.5597083568572998\n",
      "Epoch 87\n"
     ]
    },
    {
     "name": "stderr",
     "output_type": "stream",
     "text": [
      "Training: 100%|██████████| 391/391 [00:10<00:00, 36.91it/s]\n"
     ]
    },
    {
     "name": "stdout",
     "output_type": "stream",
     "text": [
      "Correct: 4406, Total: 10000, Accuracy: 0.44\n",
      "Accuracy: 44.06% (0.4406)\n",
      "Loss: 1.5688682857312655\n"
     ]
    },
    {
     "name": "stderr",
     "output_type": "stream",
     "text": [
      "Validation: 100%|██████████| 79/79 [00:01<00:00, 47.51it/s]\n"
     ]
    },
    {
     "name": "stdout",
     "output_type": "stream",
     "text": [
      "LOSS train 1.5688682857312655 valid 1.5524836778640747\n",
      "Epoch 88\n"
     ]
    },
    {
     "name": "stderr",
     "output_type": "stream",
     "text": [
      "Training: 100%|██████████| 391/391 [00:10<00:00, 37.49it/s]\n"
     ]
    },
    {
     "name": "stdout",
     "output_type": "stream",
     "text": [
      "Correct: 4475, Total: 10000, Accuracy: 0.45\n",
      "Accuracy: 44.75% (0.4475)\n",
      "Loss: 1.5905090382224636\n"
     ]
    },
    {
     "name": "stderr",
     "output_type": "stream",
     "text": [
      "Validation: 100%|██████████| 79/79 [00:01<00:00, 41.47it/s]\n"
     ]
    },
    {
     "name": "stdout",
     "output_type": "stream",
     "text": [
      "LOSS train 1.5905090382224636 valid 1.5374832153320312\n",
      "Epoch 89\n"
     ]
    },
    {
     "name": "stderr",
     "output_type": "stream",
     "text": [
      "Training: 100%|██████████| 391/391 [00:10<00:00, 38.05it/s]\n"
     ]
    },
    {
     "name": "stdout",
     "output_type": "stream",
     "text": [
      "Correct: 4346, Total: 10000, Accuracy: 0.43\n",
      "Accuracy: 43.46% (0.4346)\n",
      "Loss: 1.566745268671136\n"
     ]
    },
    {
     "name": "stderr",
     "output_type": "stream",
     "text": [
      "Validation: 100%|██████████| 79/79 [00:01<00:00, 39.89it/s]\n"
     ]
    },
    {
     "name": "stdout",
     "output_type": "stream",
     "text": [
      "LOSS train 1.566745268671136 valid 1.5566989183425903\n",
      "Epoch 90\n"
     ]
    },
    {
     "name": "stderr",
     "output_type": "stream",
     "text": [
      "Training: 100%|██████████| 391/391 [00:10<00:00, 37.94it/s]\n"
     ]
    },
    {
     "name": "stdout",
     "output_type": "stream",
     "text": [
      "Correct: 4462, Total: 10000, Accuracy: 0.45\n",
      "Accuracy: 44.62% (0.4462)\n",
      "Loss: 1.5746518938164962\n"
     ]
    },
    {
     "name": "stderr",
     "output_type": "stream",
     "text": [
      "Validation: 100%|██████████| 79/79 [00:01<00:00, 41.55it/s]\n"
     ]
    },
    {
     "name": "stdout",
     "output_type": "stream",
     "text": [
      "LOSS train 1.5746518938164962 valid 1.5278042554855347\n",
      "Epoch 91\n"
     ]
    },
    {
     "name": "stderr",
     "output_type": "stream",
     "text": [
      "Training: 100%|██████████| 391/391 [00:10<00:00, 38.03it/s]\n"
     ]
    },
    {
     "name": "stdout",
     "output_type": "stream",
     "text": [
      "Correct: 4499, Total: 10000, Accuracy: 0.45\n",
      "Accuracy: 44.99% (0.4499)\n",
      "Loss: 1.5521022081375122\n"
     ]
    },
    {
     "name": "stderr",
     "output_type": "stream",
     "text": [
      "Validation: 100%|██████████| 79/79 [00:01<00:00, 45.51it/s]\n"
     ]
    },
    {
     "name": "stdout",
     "output_type": "stream",
     "text": [
      "LOSS train 1.5521022081375122 valid 1.5288963317871094\n",
      "Epoch 92\n"
     ]
    },
    {
     "name": "stderr",
     "output_type": "stream",
     "text": [
      "Training: 100%|██████████| 391/391 [00:10<00:00, 37.75it/s]\n"
     ]
    },
    {
     "name": "stdout",
     "output_type": "stream",
     "text": [
      "Correct: 4520, Total: 10000, Accuracy: 0.45\n",
      "Accuracy: 45.2% (0.452)\n",
      "Loss: 1.535947611457423\n"
     ]
    },
    {
     "name": "stderr",
     "output_type": "stream",
     "text": [
      "Validation: 100%|██████████| 79/79 [00:01<00:00, 41.39it/s]\n"
     ]
    },
    {
     "name": "stdout",
     "output_type": "stream",
     "text": [
      "LOSS train 1.535947611457423 valid 1.5229614973068237\n",
      "Saving model\n",
      "Epoch 93\n"
     ]
    },
    {
     "name": "stderr",
     "output_type": "stream",
     "text": [
      "Training: 100%|██████████| 391/391 [00:10<00:00, 37.19it/s]\n"
     ]
    },
    {
     "name": "stdout",
     "output_type": "stream",
     "text": [
      "Correct: 4541, Total: 10000, Accuracy: 0.45\n",
      "Accuracy: 45.410000000000004% (0.4541)\n",
      "Loss: 1.5510330890354358\n"
     ]
    },
    {
     "name": "stderr",
     "output_type": "stream",
     "text": [
      "Validation: 100%|██████████| 79/79 [00:01<00:00, 47.36it/s]\n"
     ]
    },
    {
     "name": "stdout",
     "output_type": "stream",
     "text": [
      "LOSS train 1.5510330890354358 valid 1.5148838758468628\n",
      "Epoch 94\n"
     ]
    },
    {
     "name": "stderr",
     "output_type": "stream",
     "text": [
      "Training: 100%|██████████| 391/391 [00:10<00:00, 37.27it/s]\n"
     ]
    },
    {
     "name": "stdout",
     "output_type": "stream",
     "text": [
      "Correct: 4524, Total: 10000, Accuracy: 0.45\n",
      "Accuracy: 45.24% (0.4524)\n",
      "Loss: 1.5245362018284045\n"
     ]
    },
    {
     "name": "stderr",
     "output_type": "stream",
     "text": [
      "Validation: 100%|██████████| 79/79 [00:01<00:00, 47.26it/s]\n"
     ]
    },
    {
     "name": "stdout",
     "output_type": "stream",
     "text": [
      "LOSS train 1.5245362018284045 valid 1.5289008617401123\n",
      "Saving model\n",
      "Epoch 95\n"
     ]
    },
    {
     "name": "stderr",
     "output_type": "stream",
     "text": [
      "Training: 100%|██████████| 391/391 [00:10<00:00, 37.43it/s]\n"
     ]
    },
    {
     "name": "stdout",
     "output_type": "stream",
     "text": [
      "Correct: 4606, Total: 10000, Accuracy: 0.46\n",
      "Accuracy: 46.06% (0.4606)\n",
      "Loss: 1.568495323783473\n"
     ]
    },
    {
     "name": "stderr",
     "output_type": "stream",
     "text": [
      "Validation: 100%|██████████| 79/79 [00:01<00:00, 47.52it/s]\n"
     ]
    },
    {
     "name": "stdout",
     "output_type": "stream",
     "text": [
      "LOSS train 1.568495323783473 valid 1.5028905868530273\n",
      "Epoch 96\n"
     ]
    },
    {
     "name": "stderr",
     "output_type": "stream",
     "text": [
      "Training: 100%|██████████| 391/391 [00:10<00:00, 37.38it/s]\n"
     ]
    },
    {
     "name": "stdout",
     "output_type": "stream",
     "text": [
      "Correct: 4533, Total: 10000, Accuracy: 0.45\n",
      "Accuracy: 45.33% (0.4533)\n",
      "Loss: 1.5250204111400403\n"
     ]
    },
    {
     "name": "stderr",
     "output_type": "stream",
     "text": [
      "Validation: 100%|██████████| 79/79 [00:01<00:00, 47.31it/s]\n"
     ]
    },
    {
     "name": "stdout",
     "output_type": "stream",
     "text": [
      "LOSS train 1.5250204111400403 valid 1.510831356048584\n",
      "Epoch 97\n"
     ]
    },
    {
     "name": "stderr",
     "output_type": "stream",
     "text": [
      "Training: 100%|██████████| 391/391 [00:10<00:00, 37.13it/s]\n"
     ]
    },
    {
     "name": "stdout",
     "output_type": "stream",
     "text": [
      "Correct: 4641, Total: 10000, Accuracy: 0.46\n",
      "Accuracy: 46.410000000000004% (0.4641)\n",
      "Loss: 1.5216884362070184\n"
     ]
    },
    {
     "name": "stderr",
     "output_type": "stream",
     "text": [
      "Validation: 100%|██████████| 79/79 [00:01<00:00, 45.07it/s]\n"
     ]
    },
    {
     "name": "stdout",
     "output_type": "stream",
     "text": [
      "LOSS train 1.5216884362070184 valid 1.492516040802002\n",
      "Saving model\n",
      "Epoch 98\n"
     ]
    },
    {
     "name": "stderr",
     "output_type": "stream",
     "text": [
      "Training: 100%|██████████| 391/391 [00:10<00:00, 37.28it/s]\n"
     ]
    },
    {
     "name": "stdout",
     "output_type": "stream",
     "text": [
      "Correct: 4580, Total: 10000, Accuracy: 0.46\n",
      "Accuracy: 45.800000000000004% (0.458)\n",
      "Loss: 1.5214984040511281\n"
     ]
    },
    {
     "name": "stderr",
     "output_type": "stream",
     "text": [
      "Validation: 100%|██████████| 79/79 [00:01<00:00, 47.44it/s]\n"
     ]
    },
    {
     "name": "stdout",
     "output_type": "stream",
     "text": [
      "LOSS train 1.5214984040511281 valid 1.492412805557251\n",
      "Saving model\n",
      "Epoch 99\n"
     ]
    },
    {
     "name": "stderr",
     "output_type": "stream",
     "text": [
      "Training: 100%|██████████| 391/391 [00:10<00:00, 37.67it/s]\n"
     ]
    },
    {
     "name": "stdout",
     "output_type": "stream",
     "text": [
      "Correct: 4657, Total: 10000, Accuracy: 0.47\n",
      "Accuracy: 46.57% (0.4657)\n",
      "Loss: 1.5096583303652311\n"
     ]
    },
    {
     "name": "stderr",
     "output_type": "stream",
     "text": [
      "Validation: 100%|██████████| 79/79 [00:01<00:00, 47.07it/s]\n"
     ]
    },
    {
     "name": "stdout",
     "output_type": "stream",
     "text": [
      "LOSS train 1.5096583303652311 valid 1.485250473022461\n",
      "Saving model\n",
      "Epoch 100\n"
     ]
    },
    {
     "name": "stderr",
     "output_type": "stream",
     "text": [
      "Training: 100%|██████████| 391/391 [00:10<00:00, 37.36it/s]\n"
     ]
    },
    {
     "name": "stdout",
     "output_type": "stream",
     "text": [
      "Correct: 4658, Total: 10000, Accuracy: 0.47\n",
      "Accuracy: 46.58% (0.4658)\n",
      "Loss: 1.5229570049988597\n"
     ]
    },
    {
     "name": "stderr",
     "output_type": "stream",
     "text": [
      "Validation: 100%|██████████| 79/79 [00:01<00:00, 47.30it/s]\n"
     ]
    },
    {
     "name": "stdout",
     "output_type": "stream",
     "text": [
      "LOSS train 1.5229570049988597 valid 1.4814218282699585\n",
      "Epoch 101\n"
     ]
    },
    {
     "name": "stderr",
     "output_type": "stream",
     "text": [
      "Training: 100%|██████████| 391/391 [00:10<00:00, 37.64it/s]\n"
     ]
    },
    {
     "name": "stdout",
     "output_type": "stream",
     "text": [
      "Correct: 4639, Total: 10000, Accuracy: 0.46\n",
      "Accuracy: 46.39% (0.4639)\n",
      "Loss: 1.4664715214779502\n"
     ]
    },
    {
     "name": "stderr",
     "output_type": "stream",
     "text": [
      "Validation: 100%|██████████| 79/79 [00:01<00:00, 47.37it/s]\n"
     ]
    },
    {
     "name": "stdout",
     "output_type": "stream",
     "text": [
      "LOSS train 1.4664715214779502 valid 1.4798178672790527\n",
      "Saving model\n",
      "Epoch 102\n"
     ]
    },
    {
     "name": "stderr",
     "output_type": "stream",
     "text": [
      "Training: 100%|██████████| 391/391 [00:10<00:00, 37.45it/s]\n"
     ]
    },
    {
     "name": "stdout",
     "output_type": "stream",
     "text": [
      "Correct: 4649, Total: 10000, Accuracy: 0.46\n",
      "Accuracy: 46.489999999999995% (0.4649)\n",
      "Loss: 1.5359352513363487\n"
     ]
    },
    {
     "name": "stderr",
     "output_type": "stream",
     "text": [
      "Validation: 100%|██████████| 79/79 [00:01<00:00, 47.29it/s]\n"
     ]
    },
    {
     "name": "stdout",
     "output_type": "stream",
     "text": [
      "LOSS train 1.5359352513363487 valid 1.4790998697280884\n",
      "Epoch 103\n"
     ]
    },
    {
     "name": "stderr",
     "output_type": "stream",
     "text": [
      "Training: 100%|██████████| 391/391 [00:10<00:00, 37.31it/s]\n"
     ]
    },
    {
     "name": "stdout",
     "output_type": "stream",
     "text": [
      "Correct: 4650, Total: 10000, Accuracy: 0.47\n",
      "Accuracy: 46.5% (0.465)\n",
      "Loss: 1.5044214411785728\n"
     ]
    },
    {
     "name": "stderr",
     "output_type": "stream",
     "text": [
      "Validation: 100%|██████████| 79/79 [00:01<00:00, 41.71it/s]\n"
     ]
    },
    {
     "name": "stdout",
     "output_type": "stream",
     "text": [
      "LOSS train 1.5044214411785728 valid 1.4779112339019775\n",
      "Epoch 104\n"
     ]
    },
    {
     "name": "stderr",
     "output_type": "stream",
     "text": [
      "Training: 100%|██████████| 391/391 [00:10<00:00, 37.45it/s]\n"
     ]
    },
    {
     "name": "stdout",
     "output_type": "stream",
     "text": [
      "Correct: 4649, Total: 10000, Accuracy: 0.46\n",
      "Accuracy: 46.489999999999995% (0.4649)\n",
      "Loss: 1.4593685739918758\n"
     ]
    },
    {
     "name": "stderr",
     "output_type": "stream",
     "text": [
      "Validation: 100%|██████████| 79/79 [00:01<00:00, 40.42it/s]\n"
     ]
    },
    {
     "name": "stdout",
     "output_type": "stream",
     "text": [
      "LOSS train 1.4593685739918758 valid 1.4748013019561768\n",
      "Saving model\n",
      "Epoch 105\n"
     ]
    },
    {
     "name": "stderr",
     "output_type": "stream",
     "text": [
      "Training: 100%|██████████| 391/391 [00:10<00:00, 37.51it/s]\n"
     ]
    },
    {
     "name": "stdout",
     "output_type": "stream",
     "text": [
      "Correct: 4660, Total: 10000, Accuracy: 0.47\n",
      "Accuracy: 46.6% (0.466)\n",
      "Loss: 1.4533861624567133\n"
     ]
    },
    {
     "name": "stderr",
     "output_type": "stream",
     "text": [
      "Validation: 100%|██████████| 79/79 [00:01<00:00, 47.56it/s]\n"
     ]
    },
    {
     "name": "stdout",
     "output_type": "stream",
     "text": [
      "LOSS train 1.4533861624567133 valid 1.466972827911377\n",
      "Saving model\n",
      "Epoch 106\n"
     ]
    },
    {
     "name": "stderr",
     "output_type": "stream",
     "text": [
      "Training: 100%|██████████| 391/391 [00:10<00:00, 37.46it/s]\n"
     ]
    },
    {
     "name": "stdout",
     "output_type": "stream",
     "text": [
      "Correct: 4690, Total: 10000, Accuracy: 0.47\n",
      "Accuracy: 46.9% (0.469)\n",
      "Loss: 1.4729572471819425\n"
     ]
    },
    {
     "name": "stderr",
     "output_type": "stream",
     "text": [
      "Validation: 100%|██████████| 79/79 [00:01<00:00, 41.65it/s]\n"
     ]
    },
    {
     "name": "stdout",
     "output_type": "stream",
     "text": [
      "LOSS train 1.4729572471819425 valid 1.466041922569275\n",
      "Epoch 107\n"
     ]
    },
    {
     "name": "stderr",
     "output_type": "stream",
     "text": [
      "Training: 100%|██████████| 391/391 [00:10<00:00, 38.03it/s]\n"
     ]
    },
    {
     "name": "stdout",
     "output_type": "stream",
     "text": [
      "Correct: 4710, Total: 10000, Accuracy: 0.47\n",
      "Accuracy: 47.099999999999994% (0.471)\n",
      "Loss: 1.4931037551478337\n"
     ]
    },
    {
     "name": "stderr",
     "output_type": "stream",
     "text": [
      "Validation: 100%|██████████| 79/79 [00:01<00:00, 41.39it/s]\n"
     ]
    },
    {
     "name": "stdout",
     "output_type": "stream",
     "text": [
      "LOSS train 1.4931037551478337 valid 1.463514804840088\n",
      "Epoch 108\n"
     ]
    },
    {
     "name": "stderr",
     "output_type": "stream",
     "text": [
      "Training: 100%|██████████| 391/391 [00:10<00:00, 38.09it/s]\n"
     ]
    },
    {
     "name": "stdout",
     "output_type": "stream",
     "text": [
      "Correct: 4679, Total: 10000, Accuracy: 0.47\n",
      "Accuracy: 46.79% (0.4679)\n",
      "Loss: 1.487737122334932\n"
     ]
    },
    {
     "name": "stderr",
     "output_type": "stream",
     "text": [
      "Validation: 100%|██████████| 79/79 [00:01<00:00, 41.60it/s]\n"
     ]
    },
    {
     "name": "stdout",
     "output_type": "stream",
     "text": [
      "LOSS train 1.487737122334932 valid 1.4650661945343018\n",
      "Epoch 109\n"
     ]
    },
    {
     "name": "stderr",
     "output_type": "stream",
     "text": [
      "Training: 100%|██████████| 391/391 [00:10<00:00, 37.07it/s]\n"
     ]
    },
    {
     "name": "stdout",
     "output_type": "stream",
     "text": [
      "Correct: 4738, Total: 10000, Accuracy: 0.47\n",
      "Accuracy: 47.38% (0.4738)\n",
      "Loss: 1.4902411322844655\n"
     ]
    },
    {
     "name": "stderr",
     "output_type": "stream",
     "text": [
      "Validation: 100%|██████████| 79/79 [00:02<00:00, 39.42it/s]\n"
     ]
    },
    {
     "name": "stdout",
     "output_type": "stream",
     "text": [
      "LOSS train 1.4902411322844655 valid 1.4507231712341309\n",
      "Epoch 110\n"
     ]
    },
    {
     "name": "stderr",
     "output_type": "stream",
     "text": [
      "Training: 100%|██████████| 391/391 [00:10<00:00, 38.03it/s]\n"
     ]
    },
    {
     "name": "stdout",
     "output_type": "stream",
     "text": [
      "Correct: 4770, Total: 10000, Accuracy: 0.48\n",
      "Accuracy: 47.699999999999996% (0.477)\n",
      "Loss: 1.461750670483238\n"
     ]
    },
    {
     "name": "stderr",
     "output_type": "stream",
     "text": [
      "Validation: 100%|██████████| 79/79 [00:01<00:00, 40.07it/s]\n"
     ]
    },
    {
     "name": "stdout",
     "output_type": "stream",
     "text": [
      "LOSS train 1.461750670483238 valid 1.4537163972854614\n",
      "Epoch 111\n"
     ]
    },
    {
     "name": "stderr",
     "output_type": "stream",
     "text": [
      "Training: 100%|██████████| 391/391 [00:10<00:00, 37.39it/s]\n"
     ]
    },
    {
     "name": "stdout",
     "output_type": "stream",
     "text": [
      "Correct: 4759, Total: 10000, Accuracy: 0.48\n",
      "Accuracy: 47.589999999999996% (0.4759)\n",
      "Loss: 1.4379925163168656\n"
     ]
    },
    {
     "name": "stderr",
     "output_type": "stream",
     "text": [
      "Validation: 100%|██████████| 79/79 [00:01<00:00, 47.41it/s]\n"
     ]
    },
    {
     "name": "stdout",
     "output_type": "stream",
     "text": [
      "LOSS train 1.4379925163168656 valid 1.4571865797042847\n",
      "Saving model\n",
      "Epoch 112\n"
     ]
    },
    {
     "name": "stderr",
     "output_type": "stream",
     "text": [
      "Training: 100%|██████████| 391/391 [00:10<00:00, 37.87it/s]\n"
     ]
    },
    {
     "name": "stdout",
     "output_type": "stream",
     "text": [
      "Correct: 4787, Total: 10000, Accuracy: 0.48\n",
      "Accuracy: 47.870000000000005% (0.4787)\n",
      "Loss: 1.4475230229528326\n"
     ]
    },
    {
     "name": "stderr",
     "output_type": "stream",
     "text": [
      "Validation: 100%|██████████| 79/79 [00:01<00:00, 41.60it/s]\n"
     ]
    },
    {
     "name": "stdout",
     "output_type": "stream",
     "text": [
      "LOSS train 1.4475230229528326 valid 1.4450806379318237\n",
      "Epoch 113\n"
     ]
    },
    {
     "name": "stderr",
     "output_type": "stream",
     "text": [
      "Training: 100%|██████████| 391/391 [00:10<00:00, 37.93it/s]\n"
     ]
    },
    {
     "name": "stdout",
     "output_type": "stream",
     "text": [
      "Correct: 4792, Total: 10000, Accuracy: 0.48\n",
      "Accuracy: 47.92% (0.4792)\n",
      "Loss: 1.4645374448675859\n"
     ]
    },
    {
     "name": "stderr",
     "output_type": "stream",
     "text": [
      "Validation: 100%|██████████| 79/79 [00:01<00:00, 45.65it/s]\n"
     ]
    },
    {
     "name": "stdout",
     "output_type": "stream",
     "text": [
      "LOSS train 1.4645374448675859 valid 1.4397672414779663\n",
      "Epoch 114\n"
     ]
    },
    {
     "name": "stderr",
     "output_type": "stream",
     "text": [
      "Training: 100%|██████████| 391/391 [00:10<00:00, 37.61it/s]\n"
     ]
    },
    {
     "name": "stdout",
     "output_type": "stream",
     "text": [
      "Correct: 4836, Total: 10000, Accuracy: 0.48\n",
      "Accuracy: 48.36% (0.4836)\n",
      "Loss: 1.4621754759236385\n"
     ]
    },
    {
     "name": "stderr",
     "output_type": "stream",
     "text": [
      "Validation: 100%|██████████| 79/79 [00:01<00:00, 40.98it/s]\n"
     ]
    },
    {
     "name": "stdout",
     "output_type": "stream",
     "text": [
      "LOSS train 1.4621754759236385 valid 1.440366268157959\n",
      "Epoch 115\n"
     ]
    },
    {
     "name": "stderr",
     "output_type": "stream",
     "text": [
      "Training: 100%|██████████| 391/391 [00:10<00:00, 37.56it/s]\n"
     ]
    },
    {
     "name": "stdout",
     "output_type": "stream",
     "text": [
      "Correct: 4825, Total: 10000, Accuracy: 0.48\n",
      "Accuracy: 48.25% (0.4825)\n",
      "Loss: 1.4711744032408063\n"
     ]
    },
    {
     "name": "stderr",
     "output_type": "stream",
     "text": [
      "Validation: 100%|██████████| 79/79 [00:01<00:00, 47.55it/s]\n"
     ]
    },
    {
     "name": "stdout",
     "output_type": "stream",
     "text": [
      "LOSS train 1.4711744032408063 valid 1.4323385953903198\n",
      "Epoch 116\n"
     ]
    },
    {
     "name": "stderr",
     "output_type": "stream",
     "text": [
      "Training: 100%|██████████| 391/391 [00:10<00:00, 37.32it/s]\n"
     ]
    },
    {
     "name": "stdout",
     "output_type": "stream",
     "text": [
      "Correct: 4852, Total: 10000, Accuracy: 0.49\n",
      "Accuracy: 48.52% (0.4852)\n",
      "Loss: 1.4636478298588802\n"
     ]
    },
    {
     "name": "stderr",
     "output_type": "stream",
     "text": [
      "Validation: 100%|██████████| 79/79 [00:01<00:00, 46.95it/s]\n"
     ]
    },
    {
     "name": "stdout",
     "output_type": "stream",
     "text": [
      "LOSS train 1.4636478298588802 valid 1.4306464195251465\n",
      "Epoch 117\n"
     ]
    },
    {
     "name": "stderr",
     "output_type": "stream",
     "text": [
      "Training: 100%|██████████| 391/391 [00:10<00:00, 37.36it/s]\n"
     ]
    },
    {
     "name": "stdout",
     "output_type": "stream",
     "text": [
      "Correct: 4825, Total: 10000, Accuracy: 0.48\n",
      "Accuracy: 48.25% (0.4825)\n",
      "Loss: 1.4674536428953473\n"
     ]
    },
    {
     "name": "stderr",
     "output_type": "stream",
     "text": [
      "Validation: 100%|██████████| 79/79 [00:01<00:00, 47.20it/s]\n"
     ]
    },
    {
     "name": "stdout",
     "output_type": "stream",
     "text": [
      "LOSS train 1.4674536428953473 valid 1.4286926984786987\n",
      "Epoch 118\n"
     ]
    },
    {
     "name": "stderr",
     "output_type": "stream",
     "text": [
      "Training: 100%|██████████| 391/391 [00:10<00:00, 37.62it/s]\n"
     ]
    },
    {
     "name": "stdout",
     "output_type": "stream",
     "text": [
      "Correct: 4803, Total: 10000, Accuracy: 0.48\n",
      "Accuracy: 48.03% (0.4803)\n",
      "Loss: 1.4357503276122243\n"
     ]
    },
    {
     "name": "stderr",
     "output_type": "stream",
     "text": [
      "Validation: 100%|██████████| 79/79 [00:01<00:00, 40.64it/s]\n"
     ]
    },
    {
     "name": "stdout",
     "output_type": "stream",
     "text": [
      "LOSS train 1.4357503276122243 valid 1.4348375797271729\n",
      "Saving model\n",
      "Epoch 119\n"
     ]
    },
    {
     "name": "stderr",
     "output_type": "stream",
     "text": [
      "Training: 100%|██████████| 391/391 [00:10<00:00, 37.74it/s]\n"
     ]
    },
    {
     "name": "stdout",
     "output_type": "stream",
     "text": [
      "Correct: 4840, Total: 10000, Accuracy: 0.48\n",
      "Accuracy: 48.4% (0.484)\n",
      "Loss: 1.4257995078438206\n"
     ]
    },
    {
     "name": "stderr",
     "output_type": "stream",
     "text": [
      "Validation: 100%|██████████| 79/79 [00:01<00:00, 40.85it/s]\n"
     ]
    },
    {
     "name": "stdout",
     "output_type": "stream",
     "text": [
      "LOSS train 1.4257995078438206 valid 1.4252370595932007\n",
      "Saving model\n",
      "Epoch 120\n"
     ]
    },
    {
     "name": "stderr",
     "output_type": "stream",
     "text": [
      "Training: 100%|██████████| 391/391 [00:10<00:00, 37.36it/s]\n"
     ]
    },
    {
     "name": "stdout",
     "output_type": "stream",
     "text": [
      "Correct: 4770, Total: 10000, Accuracy: 0.48\n",
      "Accuracy: 47.699999999999996% (0.477)\n",
      "Loss: 1.432665937825253\n"
     ]
    },
    {
     "name": "stderr",
     "output_type": "stream",
     "text": [
      "Validation: 100%|██████████| 79/79 [00:01<00:00, 47.49it/s]\n"
     ]
    },
    {
     "name": "stdout",
     "output_type": "stream",
     "text": [
      "LOSS train 1.432665937825253 valid 1.4503604173660278\n",
      "Epoch 121\n"
     ]
    },
    {
     "name": "stderr",
     "output_type": "stream",
     "text": [
      "Training: 100%|██████████| 391/391 [00:10<00:00, 37.73it/s]\n"
     ]
    },
    {
     "name": "stdout",
     "output_type": "stream",
     "text": [
      "Correct: 4873, Total: 10000, Accuracy: 0.49\n",
      "Accuracy: 48.730000000000004% (0.4873)\n",
      "Loss: 1.4475370708264803\n"
     ]
    },
    {
     "name": "stderr",
     "output_type": "stream",
     "text": [
      "Validation: 100%|██████████| 79/79 [00:01<00:00, 47.22it/s]\n"
     ]
    },
    {
     "name": "stdout",
     "output_type": "stream",
     "text": [
      "LOSS train 1.4475370708264803 valid 1.4189586639404297\n",
      "Epoch 122\n"
     ]
    },
    {
     "name": "stderr",
     "output_type": "stream",
     "text": [
      "Training: 100%|██████████| 391/391 [00:10<00:00, 37.74it/s]\n"
     ]
    },
    {
     "name": "stdout",
     "output_type": "stream",
     "text": [
      "Correct: 4862, Total: 10000, Accuracy: 0.49\n",
      "Accuracy: 48.620000000000005% (0.4862)\n",
      "Loss: 1.390099236839696\n"
     ]
    },
    {
     "name": "stderr",
     "output_type": "stream",
     "text": [
      "Validation: 100%|██████████| 79/79 [00:01<00:00, 41.41it/s]\n"
     ]
    },
    {
     "name": "stdout",
     "output_type": "stream",
     "text": [
      "LOSS train 1.390099236839696 valid 1.419768214225769\n",
      "Saving model\n",
      "Epoch 123\n"
     ]
    },
    {
     "name": "stderr",
     "output_type": "stream",
     "text": [
      "Training: 100%|██████████| 391/391 [00:10<00:00, 37.02it/s]\n"
     ]
    },
    {
     "name": "stdout",
     "output_type": "stream",
     "text": [
      "Correct: 4888, Total: 10000, Accuracy: 0.49\n",
      "Accuracy: 48.88% (0.4888)\n",
      "Loss: 1.4188932870563709\n"
     ]
    },
    {
     "name": "stderr",
     "output_type": "stream",
     "text": [
      "Validation: 100%|██████████| 79/79 [00:01<00:00, 47.49it/s]\n"
     ]
    },
    {
     "name": "stdout",
     "output_type": "stream",
     "text": [
      "LOSS train 1.4188932870563709 valid 1.4125844240188599\n",
      "Epoch 124\n"
     ]
    },
    {
     "name": "stderr",
     "output_type": "stream",
     "text": [
      "Training: 100%|██████████| 391/391 [00:10<00:00, 38.07it/s]\n"
     ]
    },
    {
     "name": "stdout",
     "output_type": "stream",
     "text": [
      "Correct: 4927, Total: 10000, Accuracy: 0.49\n",
      "Accuracy: 49.27% (0.4927)\n",
      "Loss: 1.4571882925535504\n"
     ]
    },
    {
     "name": "stderr",
     "output_type": "stream",
     "text": [
      "Validation: 100%|██████████| 79/79 [00:01<00:00, 41.50it/s]\n"
     ]
    },
    {
     "name": "stdout",
     "output_type": "stream",
     "text": [
      "LOSS train 1.4571882925535504 valid 1.410436987876892\n",
      "Epoch 125\n"
     ]
    },
    {
     "name": "stderr",
     "output_type": "stream",
     "text": [
      "Training: 100%|██████████| 391/391 [00:10<00:00, 37.44it/s]\n"
     ]
    },
    {
     "name": "stdout",
     "output_type": "stream",
     "text": [
      "Correct: 4912, Total: 10000, Accuracy: 0.49\n",
      "Accuracy: 49.120000000000005% (0.4912)\n",
      "Loss: 1.3941407266416048\n"
     ]
    },
    {
     "name": "stderr",
     "output_type": "stream",
     "text": [
      "Validation: 100%|██████████| 79/79 [00:01<00:00, 41.48it/s]\n"
     ]
    },
    {
     "name": "stdout",
     "output_type": "stream",
     "text": [
      "LOSS train 1.3941407266416048 valid 1.406521201133728\n",
      "Epoch 126\n"
     ]
    },
    {
     "name": "stderr",
     "output_type": "stream",
     "text": [
      "Training: 100%|██████████| 391/391 [00:10<00:00, 37.79it/s]\n"
     ]
    },
    {
     "name": "stdout",
     "output_type": "stream",
     "text": [
      "Correct: 4954, Total: 10000, Accuracy: 0.50\n",
      "Accuracy: 49.54% (0.4954)\n",
      "Loss: 1.4363849915956195\n"
     ]
    },
    {
     "name": "stderr",
     "output_type": "stream",
     "text": [
      "Validation: 100%|██████████| 79/79 [00:01<00:00, 47.40it/s]\n"
     ]
    },
    {
     "name": "stdout",
     "output_type": "stream",
     "text": [
      "LOSS train 1.4363849915956195 valid 1.4085235595703125\n",
      "Epoch 127\n"
     ]
    },
    {
     "name": "stderr",
     "output_type": "stream",
     "text": [
      "Training: 100%|██████████| 391/391 [00:10<00:00, 37.60it/s]\n"
     ]
    },
    {
     "name": "stdout",
     "output_type": "stream",
     "text": [
      "Correct: 4921, Total: 10000, Accuracy: 0.49\n",
      "Accuracy: 49.21% (0.4921)\n",
      "Loss: 1.381028225547389\n"
     ]
    },
    {
     "name": "stderr",
     "output_type": "stream",
     "text": [
      "Validation: 100%|██████████| 79/79 [00:01<00:00, 47.20it/s]\n"
     ]
    },
    {
     "name": "stdout",
     "output_type": "stream",
     "text": [
      "LOSS train 1.381028225547389 valid 1.4000617265701294\n",
      "Saving model\n",
      "Epoch 128\n"
     ]
    },
    {
     "name": "stderr",
     "output_type": "stream",
     "text": [
      "Training: 100%|██████████| 391/391 [00:10<00:00, 37.19it/s]\n"
     ]
    },
    {
     "name": "stdout",
     "output_type": "stream",
     "text": [
      "Correct: 4942, Total: 10000, Accuracy: 0.49\n",
      "Accuracy: 49.419999999999995% (0.4942)\n",
      "Loss: 1.460446182050203\n"
     ]
    },
    {
     "name": "stderr",
     "output_type": "stream",
     "text": [
      "Validation: 100%|██████████| 79/79 [00:01<00:00, 40.40it/s]\n"
     ]
    },
    {
     "name": "stdout",
     "output_type": "stream",
     "text": [
      "LOSS train 1.460446182050203 valid 1.4134734869003296\n",
      "Epoch 129\n"
     ]
    },
    {
     "name": "stderr",
     "output_type": "stream",
     "text": [
      "Training: 100%|██████████| 391/391 [00:10<00:00, 37.38it/s]\n"
     ]
    },
    {
     "name": "stdout",
     "output_type": "stream",
     "text": [
      "Correct: 4933, Total: 10000, Accuracy: 0.49\n",
      "Accuracy: 49.33% (0.4933)\n",
      "Loss: 1.4234106666163395\n"
     ]
    },
    {
     "name": "stderr",
     "output_type": "stream",
     "text": [
      "Validation: 100%|██████████| 79/79 [00:01<00:00, 41.40it/s]\n"
     ]
    },
    {
     "name": "stdout",
     "output_type": "stream",
     "text": [
      "LOSS train 1.4234106666163395 valid 1.3997493982315063\n",
      "Epoch 130\n"
     ]
    },
    {
     "name": "stderr",
     "output_type": "stream",
     "text": [
      "Training: 100%|██████████| 391/391 [00:10<00:00, 37.95it/s]\n"
     ]
    },
    {
     "name": "stdout",
     "output_type": "stream",
     "text": [
      "Correct: 4993, Total: 10000, Accuracy: 0.50\n",
      "Accuracy: 49.93% (0.4993)\n",
      "Loss: 1.3770121712433665\n"
     ]
    },
    {
     "name": "stderr",
     "output_type": "stream",
     "text": [
      "Validation: 100%|██████████| 79/79 [00:01<00:00, 39.88it/s]\n"
     ]
    },
    {
     "name": "stdout",
     "output_type": "stream",
     "text": [
      "LOSS train 1.3770121712433665 valid 1.3919858932495117\n",
      "Saving model\n",
      "Epoch 131\n"
     ]
    },
    {
     "name": "stderr",
     "output_type": "stream",
     "text": [
      "Training: 100%|██████████| 391/391 [00:10<00:00, 37.46it/s]\n"
     ]
    },
    {
     "name": "stdout",
     "output_type": "stream",
     "text": [
      "Correct: 4985, Total: 10000, Accuracy: 0.50\n",
      "Accuracy: 49.85% (0.4985)\n",
      "Loss: 1.389875380616439\n"
     ]
    },
    {
     "name": "stderr",
     "output_type": "stream",
     "text": [
      "Validation: 100%|██████████| 79/79 [00:01<00:00, 47.41it/s]\n"
     ]
    },
    {
     "name": "stdout",
     "output_type": "stream",
     "text": [
      "LOSS train 1.389875380616439 valid 1.38900625705719\n",
      "Epoch 132\n"
     ]
    },
    {
     "name": "stderr",
     "output_type": "stream",
     "text": [
      "Training: 100%|██████████| 391/391 [00:10<00:00, 37.35it/s]\n"
     ]
    },
    {
     "name": "stdout",
     "output_type": "stream",
     "text": [
      "Correct: 4974, Total: 10000, Accuracy: 0.50\n",
      "Accuracy: 49.74% (0.4974)\n",
      "Loss: 1.389347559527347\n"
     ]
    },
    {
     "name": "stderr",
     "output_type": "stream",
     "text": [
      "Validation: 100%|██████████| 79/79 [00:01<00:00, 46.77it/s]\n"
     ]
    },
    {
     "name": "stdout",
     "output_type": "stream",
     "text": [
      "LOSS train 1.389347559527347 valid 1.3891518115997314\n",
      "Epoch 133\n"
     ]
    },
    {
     "name": "stderr",
     "output_type": "stream",
     "text": [
      "Training: 100%|██████████| 391/391 [00:10<00:00, 37.26it/s]\n"
     ]
    },
    {
     "name": "stdout",
     "output_type": "stream",
     "text": [
      "Correct: 5003, Total: 10000, Accuracy: 0.50\n",
      "Accuracy: 50.029999999999994% (0.5003)\n",
      "Loss: 1.373264005309657\n"
     ]
    },
    {
     "name": "stderr",
     "output_type": "stream",
     "text": [
      "Validation: 100%|██████████| 79/79 [00:01<00:00, 47.55it/s]\n"
     ]
    },
    {
     "name": "stdout",
     "output_type": "stream",
     "text": [
      "LOSS train 1.373264005309657 valid 1.388493537902832\n",
      "Saving model\n",
      "Epoch 134\n"
     ]
    },
    {
     "name": "stderr",
     "output_type": "stream",
     "text": [
      "Training: 100%|██████████| 391/391 [00:10<00:00, 36.65it/s]\n"
     ]
    },
    {
     "name": "stdout",
     "output_type": "stream",
     "text": [
      "Correct: 5019, Total: 10000, Accuracy: 0.50\n",
      "Accuracy: 50.19% (0.5019)\n",
      "Loss: 1.3616366323671842\n"
     ]
    },
    {
     "name": "stderr",
     "output_type": "stream",
     "text": [
      "Validation: 100%|██████████| 79/79 [00:01<00:00, 41.48it/s]\n"
     ]
    },
    {
     "name": "stdout",
     "output_type": "stream",
     "text": [
      "LOSS train 1.3616366323671842 valid 1.3850020170211792\n",
      "Saving model\n",
      "Epoch 135\n"
     ]
    },
    {
     "name": "stderr",
     "output_type": "stream",
     "text": [
      "Training: 100%|██████████| 391/391 [00:10<00:00, 37.64it/s]\n"
     ]
    },
    {
     "name": "stdout",
     "output_type": "stream",
     "text": [
      "Correct: 4999, Total: 10000, Accuracy: 0.50\n",
      "Accuracy: 49.99% (0.4999)\n",
      "Loss: 1.3876480428796065\n"
     ]
    },
    {
     "name": "stderr",
     "output_type": "stream",
     "text": [
      "Validation: 100%|██████████| 79/79 [00:01<00:00, 46.54it/s]\n"
     ]
    },
    {
     "name": "stdout",
     "output_type": "stream",
     "text": [
      "LOSS train 1.3876480428796065 valid 1.381155014038086\n",
      "Epoch 136\n"
     ]
    },
    {
     "name": "stderr",
     "output_type": "stream",
     "text": [
      "Training: 100%|██████████| 391/391 [00:10<00:00, 37.00it/s]\n"
     ]
    },
    {
     "name": "stdout",
     "output_type": "stream",
     "text": [
      "Correct: 4998, Total: 10000, Accuracy: 0.50\n",
      "Accuracy: 49.980000000000004% (0.4998)\n",
      "Loss: 1.381240725517273\n"
     ]
    },
    {
     "name": "stderr",
     "output_type": "stream",
     "text": [
      "Validation: 100%|██████████| 79/79 [00:01<00:00, 47.46it/s]\n"
     ]
    },
    {
     "name": "stdout",
     "output_type": "stream",
     "text": [
      "LOSS train 1.381240725517273 valid 1.3810043334960938\n",
      "Epoch 137\n"
     ]
    },
    {
     "name": "stderr",
     "output_type": "stream",
     "text": [
      "Training: 100%|██████████| 391/391 [00:10<00:00, 37.58it/s]\n"
     ]
    },
    {
     "name": "stdout",
     "output_type": "stream",
     "text": [
      "Correct: 5002, Total: 10000, Accuracy: 0.50\n",
      "Accuracy: 50.019999999999996% (0.5002)\n",
      "Loss: 1.3693141121613353\n"
     ]
    },
    {
     "name": "stderr",
     "output_type": "stream",
     "text": [
      "Validation: 100%|██████████| 79/79 [00:01<00:00, 39.88it/s]\n"
     ]
    },
    {
     "name": "stdout",
     "output_type": "stream",
     "text": [
      "LOSS train 1.3693141121613353 valid 1.379001259803772\n",
      "Epoch 138\n"
     ]
    },
    {
     "name": "stderr",
     "output_type": "stream",
     "text": [
      "Training: 100%|██████████| 391/391 [00:10<00:00, 37.54it/s]\n"
     ]
    },
    {
     "name": "stdout",
     "output_type": "stream",
     "text": [
      "Correct: 4984, Total: 10000, Accuracy: 0.50\n",
      "Accuracy: 49.84% (0.4984)\n",
      "Loss: 1.3995818589863025\n"
     ]
    },
    {
     "name": "stderr",
     "output_type": "stream",
     "text": [
      "Validation: 100%|██████████| 79/79 [00:01<00:00, 45.65it/s]\n"
     ]
    },
    {
     "name": "stdout",
     "output_type": "stream",
     "text": [
      "LOSS train 1.3995818589863025 valid 1.3811163902282715\n",
      "Epoch 139\n"
     ]
    },
    {
     "name": "stderr",
     "output_type": "stream",
     "text": [
      "Training: 100%|██████████| 391/391 [00:10<00:00, 37.11it/s]\n"
     ]
    },
    {
     "name": "stdout",
     "output_type": "stream",
     "text": [
      "Correct: 5013, Total: 10000, Accuracy: 0.50\n",
      "Accuracy: 50.129999999999995% (0.5013)\n",
      "Loss: 1.3844292163848877\n"
     ]
    },
    {
     "name": "stderr",
     "output_type": "stream",
     "text": [
      "Validation: 100%|██████████| 79/79 [00:01<00:00, 47.61it/s]\n"
     ]
    },
    {
     "name": "stdout",
     "output_type": "stream",
     "text": [
      "LOSS train 1.3844292163848877 valid 1.3794974088668823\n",
      "Epoch 140\n"
     ]
    },
    {
     "name": "stderr",
     "output_type": "stream",
     "text": [
      "Training: 100%|██████████| 391/391 [00:10<00:00, 38.18it/s]\n"
     ]
    },
    {
     "name": "stdout",
     "output_type": "stream",
     "text": [
      "Correct: 5050, Total: 10000, Accuracy: 0.51\n",
      "Accuracy: 50.5% (0.505)\n",
      "Loss: 1.353302516435322\n"
     ]
    },
    {
     "name": "stderr",
     "output_type": "stream",
     "text": [
      "Validation: 100%|██████████| 79/79 [00:01<00:00, 40.02it/s]\n"
     ]
    },
    {
     "name": "stdout",
     "output_type": "stream",
     "text": [
      "LOSS train 1.353302516435322 valid 1.3695734739303589\n",
      "Saving model\n",
      "Epoch 141\n"
     ]
    },
    {
     "name": "stderr",
     "output_type": "stream",
     "text": [
      "Training: 100%|██████████| 391/391 [00:10<00:00, 37.28it/s]\n"
     ]
    },
    {
     "name": "stdout",
     "output_type": "stream",
     "text": [
      "Correct: 5001, Total: 10000, Accuracy: 0.50\n",
      "Accuracy: 50.01% (0.5001)\n",
      "Loss: 1.3559148186131527\n"
     ]
    },
    {
     "name": "stderr",
     "output_type": "stream",
     "text": [
      "Validation: 100%|██████████| 79/79 [00:01<00:00, 47.44it/s]\n"
     ]
    },
    {
     "name": "stdout",
     "output_type": "stream",
     "text": [
      "LOSS train 1.3559148186131527 valid 1.3782814741134644\n",
      "Epoch 142\n"
     ]
    },
    {
     "name": "stderr",
     "output_type": "stream",
     "text": [
      "Training: 100%|██████████| 391/391 [00:10<00:00, 38.28it/s]\n"
     ]
    },
    {
     "name": "stdout",
     "output_type": "stream",
     "text": [
      "Correct: 5113, Total: 10000, Accuracy: 0.51\n",
      "Accuracy: 51.129999999999995% (0.5113)\n",
      "Loss: 1.357396546163057\n"
     ]
    },
    {
     "name": "stderr",
     "output_type": "stream",
     "text": [
      "Validation: 100%|██████████| 79/79 [00:01<00:00, 40.85it/s]\n"
     ]
    },
    {
     "name": "stdout",
     "output_type": "stream",
     "text": [
      "LOSS train 1.357396546163057 valid 1.359276533126831\n",
      "Epoch 143\n"
     ]
    },
    {
     "name": "stderr",
     "output_type": "stream",
     "text": [
      "Training: 100%|██████████| 391/391 [00:10<00:00, 38.43it/s]\n"
     ]
    },
    {
     "name": "stdout",
     "output_type": "stream",
     "text": [
      "Correct: 4924, Total: 10000, Accuracy: 0.49\n",
      "Accuracy: 49.24% (0.4924)\n",
      "Loss: 1.382712997888264\n"
     ]
    },
    {
     "name": "stderr",
     "output_type": "stream",
     "text": [
      "Validation: 100%|██████████| 79/79 [00:01<00:00, 41.51it/s]\n"
     ]
    },
    {
     "name": "stdout",
     "output_type": "stream",
     "text": [
      "LOSS train 1.382712997888264 valid 1.4053133726119995\n",
      "Epoch 144\n"
     ]
    },
    {
     "name": "stderr",
     "output_type": "stream",
     "text": [
      "Training: 100%|██████████| 391/391 [00:10<00:00, 38.39it/s]\n"
     ]
    },
    {
     "name": "stdout",
     "output_type": "stream",
     "text": [
      "Correct: 5148, Total: 10000, Accuracy: 0.51\n",
      "Accuracy: 51.480000000000004% (0.5148)\n",
      "Loss: 1.3990695225565057\n"
     ]
    },
    {
     "name": "stderr",
     "output_type": "stream",
     "text": [
      "Validation: 100%|██████████| 79/79 [00:01<00:00, 41.38it/s]\n"
     ]
    },
    {
     "name": "stdout",
     "output_type": "stream",
     "text": [
      "LOSS train 1.3990695225565057 valid 1.3566762208938599\n",
      "Epoch 145\n"
     ]
    },
    {
     "name": "stderr",
     "output_type": "stream",
     "text": [
      "Training: 100%|██████████| 391/391 [00:10<00:00, 36.94it/s]\n"
     ]
    },
    {
     "name": "stdout",
     "output_type": "stream",
     "text": [
      "Correct: 5148, Total: 10000, Accuracy: 0.51\n",
      "Accuracy: 51.480000000000004% (0.5148)\n",
      "Loss: 1.3701005985862331\n"
     ]
    },
    {
     "name": "stderr",
     "output_type": "stream",
     "text": [
      "Validation: 100%|██████████| 79/79 [00:01<00:00, 46.52it/s]\n"
     ]
    },
    {
     "name": "stdout",
     "output_type": "stream",
     "text": [
      "LOSS train 1.3701005985862331 valid 1.3540705442428589\n",
      "Epoch 146\n"
     ]
    },
    {
     "name": "stderr",
     "output_type": "stream",
     "text": [
      "Training: 100%|██████████| 391/391 [00:10<00:00, 37.28it/s]\n"
     ]
    },
    {
     "name": "stdout",
     "output_type": "stream",
     "text": [
      "Correct: 5107, Total: 10000, Accuracy: 0.51\n",
      "Accuracy: 51.07000000000001% (0.5107)\n",
      "Loss: 1.37451896541997\n"
     ]
    },
    {
     "name": "stderr",
     "output_type": "stream",
     "text": [
      "Validation: 100%|██████████| 79/79 [00:01<00:00, 47.61it/s]\n"
     ]
    },
    {
     "name": "stdout",
     "output_type": "stream",
     "text": [
      "LOSS train 1.37451896541997 valid 1.3684526681900024\n",
      "Epoch 147\n"
     ]
    },
    {
     "name": "stderr",
     "output_type": "stream",
     "text": [
      "Training: 100%|██████████| 391/391 [00:10<00:00, 37.37it/s]\n"
     ]
    },
    {
     "name": "stdout",
     "output_type": "stream",
     "text": [
      "Correct: 5156, Total: 10000, Accuracy: 0.52\n",
      "Accuracy: 51.559999999999995% (0.5156)\n",
      "Loss: 1.3676241322567588\n"
     ]
    },
    {
     "name": "stderr",
     "output_type": "stream",
     "text": [
      "Validation: 100%|██████████| 79/79 [00:01<00:00, 44.99it/s]\n"
     ]
    },
    {
     "name": "stdout",
     "output_type": "stream",
     "text": [
      "LOSS train 1.3676241322567588 valid 1.350611686706543\n",
      "Epoch 148\n"
     ]
    },
    {
     "name": "stderr",
     "output_type": "stream",
     "text": [
      "Training: 100%|██████████| 391/391 [00:10<00:00, 38.12it/s]\n"
     ]
    },
    {
     "name": "stdout",
     "output_type": "stream",
     "text": [
      "Correct: 5098, Total: 10000, Accuracy: 0.51\n",
      "Accuracy: 50.980000000000004% (0.5098)\n",
      "Loss: 1.3238752641175922\n"
     ]
    },
    {
     "name": "stderr",
     "output_type": "stream",
     "text": [
      "Validation: 100%|██████████| 79/79 [00:01<00:00, 41.36it/s]\n"
     ]
    },
    {
     "name": "stdout",
     "output_type": "stream",
     "text": [
      "LOSS train 1.3238752641175922 valid 1.3505696058273315\n",
      "Saving model\n",
      "Epoch 149\n"
     ]
    },
    {
     "name": "stderr",
     "output_type": "stream",
     "text": [
      "Training: 100%|██████████| 391/391 [00:10<00:00, 37.13it/s]\n"
     ]
    },
    {
     "name": "stdout",
     "output_type": "stream",
     "text": [
      "Correct: 5161, Total: 10000, Accuracy: 0.52\n",
      "Accuracy: 51.61% (0.5161)\n",
      "Loss: 1.3372980983633744\n"
     ]
    },
    {
     "name": "stderr",
     "output_type": "stream",
     "text": [
      "Validation: 100%|██████████| 79/79 [00:01<00:00, 46.35it/s]\n"
     ]
    },
    {
     "name": "stdout",
     "output_type": "stream",
     "text": [
      "LOSS train 1.3372980983633744 valid 1.3393062353134155\n",
      "Epoch 150\n"
     ]
    },
    {
     "name": "stderr",
     "output_type": "stream",
     "text": [
      "Training: 100%|██████████| 391/391 [00:10<00:00, 37.16it/s]\n"
     ]
    },
    {
     "name": "stdout",
     "output_type": "stream",
     "text": [
      "Correct: 5139, Total: 10000, Accuracy: 0.51\n",
      "Accuracy: 51.39% (0.5139)\n",
      "Loss: 1.3654954182474237\n"
     ]
    },
    {
     "name": "stderr",
     "output_type": "stream",
     "text": [
      "Validation: 100%|██████████| 79/79 [00:01<00:00, 41.39it/s]\n"
     ]
    },
    {
     "name": "stdout",
     "output_type": "stream",
     "text": [
      "LOSS train 1.3654954182474237 valid 1.3455970287322998\n",
      "Epoch 151\n"
     ]
    },
    {
     "name": "stderr",
     "output_type": "stream",
     "text": [
      "Training: 100%|██████████| 391/391 [00:10<00:00, 37.25it/s]\n"
     ]
    },
    {
     "name": "stdout",
     "output_type": "stream",
     "text": [
      "Correct: 5204, Total: 10000, Accuracy: 0.52\n",
      "Accuracy: 52.04% (0.5204)\n",
      "Loss: 1.3491296203512895\n"
     ]
    },
    {
     "name": "stderr",
     "output_type": "stream",
     "text": [
      "Validation: 100%|██████████| 79/79 [00:01<00:00, 47.02it/s]\n"
     ]
    },
    {
     "name": "stdout",
     "output_type": "stream",
     "text": [
      "LOSS train 1.3491296203512895 valid 1.3363430500030518\n",
      "Epoch 152\n"
     ]
    },
    {
     "name": "stderr",
     "output_type": "stream",
     "text": [
      "Training: 100%|██████████| 391/391 [00:10<00:00, 37.02it/s]\n"
     ]
    },
    {
     "name": "stdout",
     "output_type": "stream",
     "text": [
      "Correct: 5131, Total: 10000, Accuracy: 0.51\n",
      "Accuracy: 51.31% (0.5131)\n",
      "Loss: 1.3337450341174477\n"
     ]
    },
    {
     "name": "stderr",
     "output_type": "stream",
     "text": [
      "Validation: 100%|██████████| 79/79 [00:01<00:00, 45.50it/s]\n"
     ]
    },
    {
     "name": "stdout",
     "output_type": "stream",
     "text": [
      "LOSS train 1.3337450341174477 valid 1.35260808467865\n",
      "Epoch 153\n"
     ]
    },
    {
     "name": "stderr",
     "output_type": "stream",
     "text": [
      "Training: 100%|██████████| 391/391 [00:10<00:00, 37.19it/s]\n"
     ]
    },
    {
     "name": "stdout",
     "output_type": "stream",
     "text": [
      "Correct: 5155, Total: 10000, Accuracy: 0.52\n",
      "Accuracy: 51.55% (0.5155)\n",
      "Loss: 1.3650199802298295\n"
     ]
    },
    {
     "name": "stderr",
     "output_type": "stream",
     "text": [
      "Validation: 100%|██████████| 79/79 [00:01<00:00, 41.17it/s]\n"
     ]
    },
    {
     "name": "stdout",
     "output_type": "stream",
     "text": [
      "LOSS train 1.3650199802298295 valid 1.3407394886016846\n",
      "Epoch 154\n"
     ]
    },
    {
     "name": "stderr",
     "output_type": "stream",
     "text": [
      "Training: 100%|██████████| 391/391 [00:10<00:00, 37.89it/s]\n"
     ]
    },
    {
     "name": "stdout",
     "output_type": "stream",
     "text": [
      "Correct: 5125, Total: 10000, Accuracy: 0.51\n",
      "Accuracy: 51.24999999999999% (0.5125)\n",
      "Loss: 1.3332358096775256\n"
     ]
    },
    {
     "name": "stderr",
     "output_type": "stream",
     "text": [
      "Validation: 100%|██████████| 79/79 [00:01<00:00, 41.30it/s]\n"
     ]
    },
    {
     "name": "stdout",
     "output_type": "stream",
     "text": [
      "LOSS train 1.3332358096775256 valid 1.3457173109054565\n",
      "Epoch 155\n"
     ]
    },
    {
     "name": "stderr",
     "output_type": "stream",
     "text": [
      "Training: 100%|██████████| 391/391 [00:10<00:00, 38.06it/s]\n"
     ]
    },
    {
     "name": "stdout",
     "output_type": "stream",
     "text": [
      "Correct: 5221, Total: 10000, Accuracy: 0.52\n",
      "Accuracy: 52.21% (0.5221)\n",
      "Loss: 1.3797590607091\n"
     ]
    },
    {
     "name": "stderr",
     "output_type": "stream",
     "text": [
      "Validation: 100%|██████████| 79/79 [00:01<00:00, 41.40it/s]\n"
     ]
    },
    {
     "name": "stdout",
     "output_type": "stream",
     "text": [
      "LOSS train 1.3797590607091 valid 1.3317874670028687\n",
      "Epoch 156\n"
     ]
    },
    {
     "name": "stderr",
     "output_type": "stream",
     "text": [
      "Training: 100%|██████████| 391/391 [00:10<00:00, 37.55it/s]\n"
     ]
    },
    {
     "name": "stdout",
     "output_type": "stream",
     "text": [
      "Correct: 5180, Total: 10000, Accuracy: 0.52\n",
      "Accuracy: 51.800000000000004% (0.518)\n",
      "Loss: 1.3199793915999563\n"
     ]
    },
    {
     "name": "stderr",
     "output_type": "stream",
     "text": [
      "Validation: 100%|██████████| 79/79 [00:01<00:00, 42.09it/s]\n"
     ]
    },
    {
     "name": "stdout",
     "output_type": "stream",
     "text": [
      "LOSS train 1.3199793915999563 valid 1.3360216617584229\n",
      "Saving model\n",
      "Epoch 157\n"
     ]
    },
    {
     "name": "stderr",
     "output_type": "stream",
     "text": [
      "Training: 100%|██████████| 391/391 [00:10<00:00, 38.15it/s]\n"
     ]
    },
    {
     "name": "stdout",
     "output_type": "stream",
     "text": [
      "Correct: 5140, Total: 10000, Accuracy: 0.51\n",
      "Accuracy: 51.4% (0.514)\n",
      "Loss: 1.3084098100662231\n"
     ]
    },
    {
     "name": "stderr",
     "output_type": "stream",
     "text": [
      "Validation: 100%|██████████| 79/79 [00:01<00:00, 41.44it/s]\n"
     ]
    },
    {
     "name": "stdout",
     "output_type": "stream",
     "text": [
      "LOSS train 1.3084098100662231 valid 1.3386739492416382\n",
      "Saving model\n",
      "Epoch 158\n"
     ]
    },
    {
     "name": "stderr",
     "output_type": "stream",
     "text": [
      "Training: 100%|██████████| 391/391 [00:10<00:00, 37.17it/s]\n"
     ]
    },
    {
     "name": "stdout",
     "output_type": "stream",
     "text": [
      "Correct: 5239, Total: 10000, Accuracy: 0.52\n",
      "Accuracy: 52.39% (0.5239)\n",
      "Loss: 1.3229310512542725\n"
     ]
    },
    {
     "name": "stderr",
     "output_type": "stream",
     "text": [
      "Validation: 100%|██████████| 79/79 [00:01<00:00, 40.72it/s]\n"
     ]
    },
    {
     "name": "stdout",
     "output_type": "stream",
     "text": [
      "LOSS train 1.3229310512542725 valid 1.3271774053573608\n",
      "Epoch 159\n"
     ]
    },
    {
     "name": "stderr",
     "output_type": "stream",
     "text": [
      "Training: 100%|██████████| 391/391 [00:10<00:00, 38.07it/s]\n"
     ]
    },
    {
     "name": "stdout",
     "output_type": "stream",
     "text": [
      "Correct: 5206, Total: 10000, Accuracy: 0.52\n",
      "Accuracy: 52.059999999999995% (0.5206)\n",
      "Loss: 1.3036624381416722\n"
     ]
    },
    {
     "name": "stderr",
     "output_type": "stream",
     "text": [
      "Validation: 100%|██████████| 79/79 [00:01<00:00, 43.57it/s]\n"
     ]
    },
    {
     "name": "stdout",
     "output_type": "stream",
     "text": [
      "LOSS train 1.3036624381416722 valid 1.3335292339324951\n",
      "Saving model\n",
      "Epoch 160\n"
     ]
    },
    {
     "name": "stderr",
     "output_type": "stream",
     "text": [
      "Training: 100%|██████████| 391/391 [00:10<00:00, 37.01it/s]\n"
     ]
    },
    {
     "name": "stdout",
     "output_type": "stream",
     "text": [
      "Correct: 5193, Total: 10000, Accuracy: 0.52\n",
      "Accuracy: 51.93% (0.5193)\n",
      "Loss: 1.302683384794938\n"
     ]
    },
    {
     "name": "stderr",
     "output_type": "stream",
     "text": [
      "Validation: 100%|██████████| 79/79 [00:01<00:00, 41.11it/s]\n"
     ]
    },
    {
     "name": "stdout",
     "output_type": "stream",
     "text": [
      "LOSS train 1.302683384794938 valid 1.3258590698242188\n",
      "Saving model\n",
      "Epoch 161\n"
     ]
    },
    {
     "name": "stderr",
     "output_type": "stream",
     "text": [
      "Training: 100%|██████████| 391/391 [00:10<00:00, 37.90it/s]\n"
     ]
    },
    {
     "name": "stdout",
     "output_type": "stream",
     "text": [
      "Correct: 5226, Total: 10000, Accuracy: 0.52\n",
      "Accuracy: 52.26% (0.5226)\n",
      "Loss: 1.3099270243393748\n"
     ]
    },
    {
     "name": "stderr",
     "output_type": "stream",
     "text": [
      "Validation: 100%|██████████| 79/79 [00:01<00:00, 41.22it/s]\n"
     ]
    },
    {
     "name": "stdout",
     "output_type": "stream",
     "text": [
      "LOSS train 1.3099270243393748 valid 1.3214129209518433\n",
      "Epoch 162\n"
     ]
    },
    {
     "name": "stderr",
     "output_type": "stream",
     "text": [
      "Training: 100%|██████████| 391/391 [00:10<00:00, 37.34it/s]\n"
     ]
    },
    {
     "name": "stdout",
     "output_type": "stream",
     "text": [
      "Correct: 5278, Total: 10000, Accuracy: 0.53\n",
      "Accuracy: 52.78% (0.5278)\n",
      "Loss: 1.3139502312007703\n"
     ]
    },
    {
     "name": "stderr",
     "output_type": "stream",
     "text": [
      "Validation: 100%|██████████| 79/79 [00:01<00:00, 47.21it/s]\n"
     ]
    },
    {
     "name": "stdout",
     "output_type": "stream",
     "text": [
      "LOSS train 1.3139502312007703 valid 1.3175365924835205\n",
      "Epoch 163\n"
     ]
    },
    {
     "name": "stderr",
     "output_type": "stream",
     "text": [
      "Training: 100%|██████████| 391/391 [00:10<00:00, 37.60it/s]\n"
     ]
    },
    {
     "name": "stdout",
     "output_type": "stream",
     "text": [
      "Correct: 5245, Total: 10000, Accuracy: 0.52\n",
      "Accuracy: 52.449999999999996% (0.5245)\n",
      "Loss: 1.281299744781695\n"
     ]
    },
    {
     "name": "stderr",
     "output_type": "stream",
     "text": [
      "Validation: 100%|██████████| 79/79 [00:02<00:00, 39.10it/s]\n"
     ]
    },
    {
     "name": "stdout",
     "output_type": "stream",
     "text": [
      "LOSS train 1.281299744781695 valid 1.3197071552276611\n",
      "Saving model\n",
      "Epoch 164\n"
     ]
    },
    {
     "name": "stderr",
     "output_type": "stream",
     "text": [
      "Training: 100%|██████████| 391/391 [00:10<00:00, 37.33it/s]\n"
     ]
    },
    {
     "name": "stdout",
     "output_type": "stream",
     "text": [
      "Correct: 5180, Total: 10000, Accuracy: 0.52\n",
      "Accuracy: 51.800000000000004% (0.518)\n",
      "Loss: 1.3280739909724186\n"
     ]
    },
    {
     "name": "stderr",
     "output_type": "stream",
     "text": [
      "Validation: 100%|██████████| 79/79 [00:01<00:00, 47.26it/s]\n"
     ]
    },
    {
     "name": "stdout",
     "output_type": "stream",
     "text": [
      "LOSS train 1.3280739909724186 valid 1.3211876153945923\n",
      "Epoch 165\n"
     ]
    },
    {
     "name": "stderr",
     "output_type": "stream",
     "text": [
      "Training: 100%|██████████| 391/391 [00:10<00:00, 37.61it/s]\n"
     ]
    },
    {
     "name": "stdout",
     "output_type": "stream",
     "text": [
      "Correct: 5262, Total: 10000, Accuracy: 0.53\n",
      "Accuracy: 52.62% (0.5262)\n",
      "Loss: 1.2988185631601434\n"
     ]
    },
    {
     "name": "stderr",
     "output_type": "stream",
     "text": [
      "Validation: 100%|██████████| 79/79 [00:01<00:00, 47.35it/s]\n"
     ]
    },
    {
     "name": "stdout",
     "output_type": "stream",
     "text": [
      "LOSS train 1.2988185631601434 valid 1.3110347986221313\n",
      "Epoch 166\n"
     ]
    },
    {
     "name": "stderr",
     "output_type": "stream",
     "text": [
      "Training: 100%|██████████| 391/391 [00:10<00:00, 37.15it/s]\n"
     ]
    },
    {
     "name": "stdout",
     "output_type": "stream",
     "text": [
      "Correct: 5228, Total: 10000, Accuracy: 0.52\n",
      "Accuracy: 52.28% (0.5228)\n",
      "Loss: 1.3100033433813798\n"
     ]
    },
    {
     "name": "stderr",
     "output_type": "stream",
     "text": [
      "Validation: 100%|██████████| 79/79 [00:01<00:00, 46.58it/s]\n"
     ]
    },
    {
     "name": "stdout",
     "output_type": "stream",
     "text": [
      "LOSS train 1.3100033433813798 valid 1.315024971961975\n",
      "Epoch 167\n"
     ]
    },
    {
     "name": "stderr",
     "output_type": "stream",
     "text": [
      "Training: 100%|██████████| 391/391 [00:10<00:00, 36.90it/s]\n"
     ]
    },
    {
     "name": "stdout",
     "output_type": "stream",
     "text": [
      "Correct: 5150, Total: 10000, Accuracy: 0.52\n",
      "Accuracy: 51.5% (0.515)\n",
      "Loss: 1.2344210838016711\n"
     ]
    },
    {
     "name": "stderr",
     "output_type": "stream",
     "text": [
      "Validation: 100%|██████████| 79/79 [00:01<00:00, 40.13it/s]\n"
     ]
    },
    {
     "name": "stdout",
     "output_type": "stream",
     "text": [
      "LOSS train 1.2344210838016711 valid 1.3474329710006714\n",
      "Saving model\n",
      "Epoch 168\n"
     ]
    },
    {
     "name": "stderr",
     "output_type": "stream",
     "text": [
      "Training: 100%|██████████| 391/391 [00:10<00:00, 37.89it/s]\n"
     ]
    },
    {
     "name": "stdout",
     "output_type": "stream",
     "text": [
      "Correct: 5301, Total: 10000, Accuracy: 0.53\n",
      "Accuracy: 53.010000000000005% (0.5301)\n",
      "Loss: 1.2859378111989874\n"
     ]
    },
    {
     "name": "stderr",
     "output_type": "stream",
     "text": [
      "Validation: 100%|██████████| 79/79 [00:01<00:00, 41.05it/s]\n"
     ]
    },
    {
     "name": "stdout",
     "output_type": "stream",
     "text": [
      "LOSS train 1.2859378111989874 valid 1.3038889169692993\n",
      "Epoch 169\n"
     ]
    },
    {
     "name": "stderr",
     "output_type": "stream",
     "text": [
      "Training: 100%|██████████| 391/391 [00:10<00:00, 38.08it/s]\n"
     ]
    },
    {
     "name": "stdout",
     "output_type": "stream",
     "text": [
      "Correct: 5267, Total: 10000, Accuracy: 0.53\n",
      "Accuracy: 52.669999999999995% (0.5267)\n",
      "Loss: 1.2971309988122237\n"
     ]
    },
    {
     "name": "stderr",
     "output_type": "stream",
     "text": [
      "Validation: 100%|██████████| 79/79 [00:01<00:00, 41.32it/s]\n"
     ]
    },
    {
     "name": "stdout",
     "output_type": "stream",
     "text": [
      "LOSS train 1.2971309988122237 valid 1.3004261255264282\n",
      "Epoch 170\n"
     ]
    },
    {
     "name": "stderr",
     "output_type": "stream",
     "text": [
      "Training: 100%|██████████| 391/391 [00:10<00:00, 38.03it/s]\n"
     ]
    },
    {
     "name": "stdout",
     "output_type": "stream",
     "text": [
      "Correct: 5187, Total: 10000, Accuracy: 0.52\n",
      "Accuracy: 51.870000000000005% (0.5187)\n",
      "Loss: 1.2860139922091836\n"
     ]
    },
    {
     "name": "stderr",
     "output_type": "stream",
     "text": [
      "Validation: 100%|██████████| 79/79 [00:01<00:00, 40.14it/s]\n"
     ]
    },
    {
     "name": "stdout",
     "output_type": "stream",
     "text": [
      "LOSS train 1.2860139922091836 valid 1.3110966682434082\n",
      "Epoch 171\n"
     ]
    },
    {
     "name": "stderr",
     "output_type": "stream",
     "text": [
      "Training: 100%|██████████| 391/391 [00:10<00:00, 38.12it/s]\n"
     ]
    },
    {
     "name": "stdout",
     "output_type": "stream",
     "text": [
      "Correct: 5280, Total: 10000, Accuracy: 0.53\n",
      "Accuracy: 52.800000000000004% (0.528)\n",
      "Loss: 1.317541712208798\n"
     ]
    },
    {
     "name": "stderr",
     "output_type": "stream",
     "text": [
      "Validation: 100%|██████████| 79/79 [00:01<00:00, 40.82it/s]\n"
     ]
    },
    {
     "name": "stdout",
     "output_type": "stream",
     "text": [
      "LOSS train 1.317541712208798 valid 1.3046506643295288\n",
      "Epoch 172\n"
     ]
    },
    {
     "name": "stderr",
     "output_type": "stream",
     "text": [
      "Training: 100%|██████████| 391/391 [00:10<00:00, 36.92it/s]\n"
     ]
    },
    {
     "name": "stdout",
     "output_type": "stream",
     "text": [
      "Correct: 5255, Total: 10000, Accuracy: 0.53\n",
      "Accuracy: 52.55% (0.5255)\n",
      "Loss: 1.305262942063181\n"
     ]
    },
    {
     "name": "stderr",
     "output_type": "stream",
     "text": [
      "Validation: 100%|██████████| 79/79 [00:01<00:00, 47.16it/s]\n"
     ]
    },
    {
     "name": "stdout",
     "output_type": "stream",
     "text": [
      "LOSS train 1.305262942063181 valid 1.3052514791488647\n",
      "Epoch 173\n"
     ]
    },
    {
     "name": "stderr",
     "output_type": "stream",
     "text": [
      "Training: 100%|██████████| 391/391 [00:10<00:00, 37.54it/s]\n"
     ]
    },
    {
     "name": "stdout",
     "output_type": "stream",
     "text": [
      "Correct: 5310, Total: 10000, Accuracy: 0.53\n",
      "Accuracy: 53.1% (0.531)\n",
      "Loss: 1.2773666381835938\n"
     ]
    },
    {
     "name": "stderr",
     "output_type": "stream",
     "text": [
      "Validation: 100%|██████████| 79/79 [00:01<00:00, 39.95it/s]\n"
     ]
    },
    {
     "name": "stdout",
     "output_type": "stream",
     "text": [
      "LOSS train 1.2773666381835938 valid 1.2979741096496582\n",
      "Epoch 174\n"
     ]
    },
    {
     "name": "stderr",
     "output_type": "stream",
     "text": [
      "Training: 100%|██████████| 391/391 [00:10<00:00, 37.60it/s]\n"
     ]
    },
    {
     "name": "stdout",
     "output_type": "stream",
     "text": [
      "Correct: 5249, Total: 10000, Accuracy: 0.52\n",
      "Accuracy: 52.49% (0.5249)\n",
      "Loss: 1.3070336705759953\n"
     ]
    },
    {
     "name": "stderr",
     "output_type": "stream",
     "text": [
      "Validation: 100%|██████████| 79/79 [00:01<00:00, 47.33it/s]\n"
     ]
    },
    {
     "name": "stdout",
     "output_type": "stream",
     "text": [
      "LOSS train 1.3070336705759953 valid 1.3027989864349365\n",
      "Epoch 175\n"
     ]
    },
    {
     "name": "stderr",
     "output_type": "stream",
     "text": [
      "Training: 100%|██████████| 391/391 [00:10<00:00, 37.57it/s]\n"
     ]
    },
    {
     "name": "stdout",
     "output_type": "stream",
     "text": [
      "Correct: 5269, Total: 10000, Accuracy: 0.53\n",
      "Accuracy: 52.690000000000005% (0.5269)\n",
      "Loss: 1.2719301236303229\n"
     ]
    },
    {
     "name": "stderr",
     "output_type": "stream",
     "text": [
      "Validation: 100%|██████████| 79/79 [00:01<00:00, 45.27it/s]\n"
     ]
    },
    {
     "name": "stdout",
     "output_type": "stream",
     "text": [
      "LOSS train 1.2719301236303229 valid 1.304234266281128\n",
      "Epoch 176\n"
     ]
    },
    {
     "name": "stderr",
     "output_type": "stream",
     "text": [
      "Training: 100%|██████████| 391/391 [00:10<00:00, 37.39it/s]\n"
     ]
    },
    {
     "name": "stdout",
     "output_type": "stream",
     "text": [
      "Correct: 5316, Total: 10000, Accuracy: 0.53\n",
      "Accuracy: 53.16% (0.5316)\n",
      "Loss: 1.3133767717762996\n"
     ]
    },
    {
     "name": "stderr",
     "output_type": "stream",
     "text": [
      "Validation: 100%|██████████| 79/79 [00:01<00:00, 47.33it/s]\n"
     ]
    },
    {
     "name": "stdout",
     "output_type": "stream",
     "text": [
      "LOSS train 1.3133767717762996 valid 1.2886775732040405\n",
      "Epoch 177\n"
     ]
    },
    {
     "name": "stderr",
     "output_type": "stream",
     "text": [
      "Training: 100%|██████████| 391/391 [00:10<00:00, 37.96it/s]\n"
     ]
    },
    {
     "name": "stdout",
     "output_type": "stream",
     "text": [
      "Correct: 5323, Total: 10000, Accuracy: 0.53\n",
      "Accuracy: 53.23% (0.5323)\n",
      "Loss: 1.2688207626342773\n"
     ]
    },
    {
     "name": "stderr",
     "output_type": "stream",
     "text": [
      "Validation: 100%|██████████| 79/79 [00:01<00:00, 41.48it/s]\n"
     ]
    },
    {
     "name": "stdout",
     "output_type": "stream",
     "text": [
      "LOSS train 1.2688207626342773 valid 1.2912347316741943\n",
      "Epoch 178\n"
     ]
    },
    {
     "name": "stderr",
     "output_type": "stream",
     "text": [
      "Training: 100%|██████████| 391/391 [00:10<00:00, 37.56it/s]\n"
     ]
    },
    {
     "name": "stdout",
     "output_type": "stream",
     "text": [
      "Correct: 5306, Total: 10000, Accuracy: 0.53\n",
      "Accuracy: 53.059999999999995% (0.5306)\n",
      "Loss: 1.2703740784996433\n"
     ]
    },
    {
     "name": "stderr",
     "output_type": "stream",
     "text": [
      "Validation: 100%|██████████| 79/79 [00:01<00:00, 47.28it/s]\n"
     ]
    },
    {
     "name": "stdout",
     "output_type": "stream",
     "text": [
      "LOSS train 1.2703740784996433 valid 1.2984623908996582\n",
      "Epoch 179\n"
     ]
    },
    {
     "name": "stderr",
     "output_type": "stream",
     "text": [
      "Training: 100%|██████████| 391/391 [00:10<00:00, 38.23it/s]\n"
     ]
    },
    {
     "name": "stdout",
     "output_type": "stream",
     "text": [
      "Correct: 5281, Total: 10000, Accuracy: 0.53\n",
      "Accuracy: 52.81% (0.5281)\n",
      "Loss: 1.2518489109842401\n"
     ]
    },
    {
     "name": "stderr",
     "output_type": "stream",
     "text": [
      "Validation: 100%|██████████| 79/79 [00:01<00:00, 41.36it/s]\n"
     ]
    },
    {
     "name": "stdout",
     "output_type": "stream",
     "text": [
      "LOSS train 1.2518489109842401 valid 1.2954756021499634\n",
      "Epoch 180\n"
     ]
    },
    {
     "name": "stderr",
     "output_type": "stream",
     "text": [
      "Training: 100%|██████████| 391/391 [00:10<00:00, 38.17it/s]\n"
     ]
    },
    {
     "name": "stdout",
     "output_type": "stream",
     "text": [
      "Correct: 5279, Total: 10000, Accuracy: 0.53\n",
      "Accuracy: 52.790000000000006% (0.5279)\n",
      "Loss: 1.2687145534314608\n"
     ]
    },
    {
     "name": "stderr",
     "output_type": "stream",
     "text": [
      "Validation: 100%|██████████| 79/79 [00:01<00:00, 41.62it/s]\n"
     ]
    },
    {
     "name": "stdout",
     "output_type": "stream",
     "text": [
      "LOSS train 1.2687145534314608 valid 1.3002887964248657\n",
      "Epoch 181\n"
     ]
    },
    {
     "name": "stderr",
     "output_type": "stream",
     "text": [
      "Training: 100%|██████████| 391/391 [00:10<00:00, 38.21it/s]\n"
     ]
    },
    {
     "name": "stdout",
     "output_type": "stream",
     "text": [
      "Correct: 5331, Total: 10000, Accuracy: 0.53\n",
      "Accuracy: 53.31% (0.5331)\n",
      "Loss: 1.292439994059111\n"
     ]
    },
    {
     "name": "stderr",
     "output_type": "stream",
     "text": [
      "Validation: 100%|██████████| 79/79 [00:01<00:00, 41.30it/s]\n"
     ]
    },
    {
     "name": "stdout",
     "output_type": "stream",
     "text": [
      "LOSS train 1.292439994059111 valid 1.2829220294952393\n",
      "Epoch 182\n"
     ]
    },
    {
     "name": "stderr",
     "output_type": "stream",
     "text": [
      "Training: 100%|██████████| 391/391 [00:10<00:00, 37.77it/s]\n"
     ]
    },
    {
     "name": "stdout",
     "output_type": "stream",
     "text": [
      "Correct: 5343, Total: 10000, Accuracy: 0.53\n",
      "Accuracy: 53.43% (0.5343)\n",
      "Loss: 1.2430090527785451\n"
     ]
    },
    {
     "name": "stderr",
     "output_type": "stream",
     "text": [
      "Validation: 100%|██████████| 79/79 [00:01<00:00, 47.45it/s]\n"
     ]
    },
    {
     "name": "stdout",
     "output_type": "stream",
     "text": [
      "LOSS train 1.2430090527785451 valid 1.2923765182495117\n",
      "Epoch 183\n"
     ]
    },
    {
     "name": "stderr",
     "output_type": "stream",
     "text": [
      "Training: 100%|██████████| 391/391 [00:10<00:00, 37.44it/s]\n"
     ]
    },
    {
     "name": "stdout",
     "output_type": "stream",
     "text": [
      "Correct: 5312, Total: 10000, Accuracy: 0.53\n",
      "Accuracy: 53.12% (0.5312)\n",
      "Loss: 1.274094123589365\n"
     ]
    },
    {
     "name": "stderr",
     "output_type": "stream",
     "text": [
      "Validation: 100%|██████████| 79/79 [00:01<00:00, 45.69it/s]\n"
     ]
    },
    {
     "name": "stdout",
     "output_type": "stream",
     "text": [
      "LOSS train 1.274094123589365 valid 1.2895578145980835\n",
      "Epoch 184\n"
     ]
    },
    {
     "name": "stderr",
     "output_type": "stream",
     "text": [
      "Training: 100%|██████████| 391/391 [00:10<00:00, 37.25it/s]\n"
     ]
    },
    {
     "name": "stdout",
     "output_type": "stream",
     "text": [
      "Correct: 5318, Total: 10000, Accuracy: 0.53\n",
      "Accuracy: 53.18000000000001% (0.5318)\n",
      "Loss: 1.2538929550271285\n"
     ]
    },
    {
     "name": "stderr",
     "output_type": "stream",
     "text": [
      "Validation: 100%|██████████| 79/79 [00:01<00:00, 40.66it/s]\n"
     ]
    },
    {
     "name": "stdout",
     "output_type": "stream",
     "text": [
      "LOSS train 1.2538929550271285 valid 1.2851802110671997\n",
      "Epoch 185\n"
     ]
    },
    {
     "name": "stderr",
     "output_type": "stream",
     "text": [
      "Training: 100%|██████████| 391/391 [00:10<00:00, 38.26it/s]\n"
     ]
    },
    {
     "name": "stdout",
     "output_type": "stream",
     "text": [
      "Correct: 5313, Total: 10000, Accuracy: 0.53\n",
      "Accuracy: 53.13% (0.5313)\n",
      "Loss: 1.2077778640546297\n"
     ]
    },
    {
     "name": "stderr",
     "output_type": "stream",
     "text": [
      "Validation: 100%|██████████| 79/79 [00:01<00:00, 41.39it/s]\n"
     ]
    },
    {
     "name": "stdout",
     "output_type": "stream",
     "text": [
      "LOSS train 1.2077778640546297 valid 1.2844597101211548\n",
      "Saving model\n",
      "Epoch 186\n"
     ]
    },
    {
     "name": "stderr",
     "output_type": "stream",
     "text": [
      "Training: 100%|██████████| 391/391 [00:10<00:00, 37.03it/s]\n"
     ]
    },
    {
     "name": "stdout",
     "output_type": "stream",
     "text": [
      "Correct: 5379, Total: 10000, Accuracy: 0.54\n",
      "Accuracy: 53.790000000000006% (0.5379)\n",
      "Loss: 1.2393287420272827\n"
     ]
    },
    {
     "name": "stderr",
     "output_type": "stream",
     "text": [
      "Validation: 100%|██████████| 79/79 [00:01<00:00, 40.30it/s]\n"
     ]
    },
    {
     "name": "stdout",
     "output_type": "stream",
     "text": [
      "LOSS train 1.2393287420272827 valid 1.274748682975769\n",
      "Epoch 187\n"
     ]
    },
    {
     "name": "stderr",
     "output_type": "stream",
     "text": [
      "Training: 100%|██████████| 391/391 [00:10<00:00, 37.26it/s]\n"
     ]
    },
    {
     "name": "stdout",
     "output_type": "stream",
     "text": [
      "Correct: 5361, Total: 10000, Accuracy: 0.54\n",
      "Accuracy: 53.61% (0.5361)\n",
      "Loss: 1.2608945244236995\n"
     ]
    },
    {
     "name": "stderr",
     "output_type": "stream",
     "text": [
      "Validation: 100%|██████████| 79/79 [00:01<00:00, 41.96it/s]\n"
     ]
    },
    {
     "name": "stdout",
     "output_type": "stream",
     "text": [
      "LOSS train 1.2608945244236995 valid 1.2748894691467285\n",
      "Epoch 188\n"
     ]
    },
    {
     "name": "stderr",
     "output_type": "stream",
     "text": [
      "Training: 100%|██████████| 391/391 [00:10<00:00, 38.00it/s]\n"
     ]
    },
    {
     "name": "stdout",
     "output_type": "stream",
     "text": [
      "Correct: 5361, Total: 10000, Accuracy: 0.54\n",
      "Accuracy: 53.61% (0.5361)\n",
      "Loss: 1.2415780079992194\n"
     ]
    },
    {
     "name": "stderr",
     "output_type": "stream",
     "text": [
      "Validation: 100%|██████████| 79/79 [00:01<00:00, 39.80it/s]\n"
     ]
    },
    {
     "name": "stdout",
     "output_type": "stream",
     "text": [
      "LOSS train 1.2415780079992194 valid 1.2790014743804932\n",
      "Epoch 189\n"
     ]
    },
    {
     "name": "stderr",
     "output_type": "stream",
     "text": [
      "Training: 100%|██████████| 391/391 [00:10<00:00, 37.15it/s]\n"
     ]
    },
    {
     "name": "stdout",
     "output_type": "stream",
     "text": [
      "Correct: 5354, Total: 10000, Accuracy: 0.54\n",
      "Accuracy: 53.54% (0.5354)\n",
      "Loss: 1.2756051201569407\n"
     ]
    },
    {
     "name": "stderr",
     "output_type": "stream",
     "text": [
      "Validation: 100%|██████████| 79/79 [00:01<00:00, 47.25it/s]\n"
     ]
    },
    {
     "name": "stdout",
     "output_type": "stream",
     "text": [
      "LOSS train 1.2756051201569407 valid 1.2795186042785645\n",
      "Epoch 190\n"
     ]
    },
    {
     "name": "stderr",
     "output_type": "stream",
     "text": [
      "Training: 100%|██████████| 391/391 [00:10<00:00, 36.97it/s]\n"
     ]
    },
    {
     "name": "stdout",
     "output_type": "stream",
     "text": [
      "Correct: 5348, Total: 10000, Accuracy: 0.53\n",
      "Accuracy: 53.480000000000004% (0.5348)\n",
      "Loss: 1.2533293272319592\n"
     ]
    },
    {
     "name": "stderr",
     "output_type": "stream",
     "text": [
      "Validation: 100%|██████████| 79/79 [00:01<00:00, 40.99it/s]\n"
     ]
    },
    {
     "name": "stdout",
     "output_type": "stream",
     "text": [
      "LOSS train 1.2533293272319592 valid 1.2732329368591309\n",
      "Epoch 191\n"
     ]
    },
    {
     "name": "stderr",
     "output_type": "stream",
     "text": [
      "Training: 100%|██████████| 391/391 [00:10<00:00, 37.82it/s]\n"
     ]
    },
    {
     "name": "stdout",
     "output_type": "stream",
     "text": [
      "Correct: 5395, Total: 10000, Accuracy: 0.54\n",
      "Accuracy: 53.949999999999996% (0.5395)\n",
      "Loss: 1.2277168537441052\n"
     ]
    },
    {
     "name": "stderr",
     "output_type": "stream",
     "text": [
      "Validation: 100%|██████████| 79/79 [00:01<00:00, 39.72it/s]\n"
     ]
    },
    {
     "name": "stdout",
     "output_type": "stream",
     "text": [
      "LOSS train 1.2277168537441052 valid 1.2756073474884033\n",
      "Epoch 192\n"
     ]
    },
    {
     "name": "stderr",
     "output_type": "stream",
     "text": [
      "Training: 100%|██████████| 391/391 [00:10<00:00, 37.26it/s]\n"
     ]
    },
    {
     "name": "stdout",
     "output_type": "stream",
     "text": [
      "Correct: 5323, Total: 10000, Accuracy: 0.53\n",
      "Accuracy: 53.23% (0.5323)\n",
      "Loss: 1.2676950944097418\n"
     ]
    },
    {
     "name": "stderr",
     "output_type": "stream",
     "text": [
      "Validation: 100%|██████████| 79/79 [00:01<00:00, 47.24it/s]\n"
     ]
    },
    {
     "name": "stdout",
     "output_type": "stream",
     "text": [
      "LOSS train 1.2676950944097418 valid 1.2835580110549927\n",
      "Epoch 193\n"
     ]
    },
    {
     "name": "stderr",
     "output_type": "stream",
     "text": [
      "Training: 100%|██████████| 391/391 [00:10<00:00, 37.90it/s]\n"
     ]
    },
    {
     "name": "stdout",
     "output_type": "stream",
     "text": [
      "Correct: 5374, Total: 10000, Accuracy: 0.54\n",
      "Accuracy: 53.74% (0.5374)\n",
      "Loss: 1.251258511292307\n"
     ]
    },
    {
     "name": "stderr",
     "output_type": "stream",
     "text": [
      "Validation: 100%|██████████| 79/79 [00:01<00:00, 46.69it/s]\n"
     ]
    },
    {
     "name": "stdout",
     "output_type": "stream",
     "text": [
      "LOSS train 1.251258511292307 valid 1.2606151103973389\n",
      "Epoch 194\n"
     ]
    },
    {
     "name": "stderr",
     "output_type": "stream",
     "text": [
      "Training: 100%|██████████| 391/391 [00:10<00:00, 38.41it/s]\n"
     ]
    },
    {
     "name": "stdout",
     "output_type": "stream",
     "text": [
      "Correct: 5392, Total: 10000, Accuracy: 0.54\n",
      "Accuracy: 53.92% (0.5392)\n",
      "Loss: 1.233285063191464\n"
     ]
    },
    {
     "name": "stderr",
     "output_type": "stream",
     "text": [
      "Validation: 100%|██████████| 79/79 [00:01<00:00, 41.64it/s]\n"
     ]
    },
    {
     "name": "stdout",
     "output_type": "stream",
     "text": [
      "LOSS train 1.233285063191464 valid 1.2659798860549927\n",
      "Epoch 195\n"
     ]
    },
    {
     "name": "stderr",
     "output_type": "stream",
     "text": [
      "Training: 100%|██████████| 391/391 [00:10<00:00, 38.23it/s]\n"
     ]
    },
    {
     "name": "stdout",
     "output_type": "stream",
     "text": [
      "Correct: 5363, Total: 10000, Accuracy: 0.54\n",
      "Accuracy: 53.63% (0.5363)\n",
      "Loss: 1.226093097736961\n"
     ]
    },
    {
     "name": "stderr",
     "output_type": "stream",
     "text": [
      "Validation: 100%|██████████| 79/79 [00:01<00:00, 41.38it/s]\n"
     ]
    },
    {
     "name": "stdout",
     "output_type": "stream",
     "text": [
      "LOSS train 1.226093097736961 valid 1.273980975151062\n",
      "Epoch 196\n"
     ]
    },
    {
     "name": "stderr",
     "output_type": "stream",
     "text": [
      "Training: 100%|██████████| 391/391 [00:10<00:00, 38.37it/s]\n"
     ]
    },
    {
     "name": "stdout",
     "output_type": "stream",
     "text": [
      "Correct: 5380, Total: 10000, Accuracy: 0.54\n",
      "Accuracy: 53.800000000000004% (0.538)\n",
      "Loss: 1.24375497667413\n"
     ]
    },
    {
     "name": "stderr",
     "output_type": "stream",
     "text": [
      "Validation: 100%|██████████| 79/79 [00:01<00:00, 41.63it/s]\n"
     ]
    },
    {
     "name": "stdout",
     "output_type": "stream",
     "text": [
      "LOSS train 1.24375497667413 valid 1.2764039039611816\n",
      "Epoch 197\n"
     ]
    },
    {
     "name": "stderr",
     "output_type": "stream",
     "text": [
      "Training: 100%|██████████| 391/391 [00:10<00:00, 38.40it/s]\n"
     ]
    },
    {
     "name": "stdout",
     "output_type": "stream",
     "text": [
      "Correct: 5375, Total: 10000, Accuracy: 0.54\n",
      "Accuracy: 53.75% (0.5375)\n",
      "Loss: 1.259913915082028\n"
     ]
    },
    {
     "name": "stderr",
     "output_type": "stream",
     "text": [
      "Validation: 100%|██████████| 79/79 [00:01<00:00, 41.53it/s]\n"
     ]
    },
    {
     "name": "stdout",
     "output_type": "stream",
     "text": [
      "LOSS train 1.259913915082028 valid 1.2656395435333252\n",
      "Epoch 198\n"
     ]
    },
    {
     "name": "stderr",
     "output_type": "stream",
     "text": [
      "Training: 100%|██████████| 391/391 [00:10<00:00, 37.50it/s]\n"
     ]
    },
    {
     "name": "stdout",
     "output_type": "stream",
     "text": [
      "Correct: 5361, Total: 10000, Accuracy: 0.54\n",
      "Accuracy: 53.61% (0.5361)\n",
      "Loss: 1.2426507159283287\n"
     ]
    },
    {
     "name": "stderr",
     "output_type": "stream",
     "text": [
      "Validation: 100%|██████████| 79/79 [00:01<00:00, 46.20it/s]\n"
     ]
    },
    {
     "name": "stdout",
     "output_type": "stream",
     "text": [
      "LOSS train 1.2426507159283287 valid 1.266748309135437\n",
      "Epoch 199\n"
     ]
    },
    {
     "name": "stderr",
     "output_type": "stream",
     "text": [
      "Training: 100%|██████████| 391/391 [00:10<00:00, 38.33it/s]\n"
     ]
    },
    {
     "name": "stdout",
     "output_type": "stream",
     "text": [
      "Correct: 5396, Total: 10000, Accuracy: 0.54\n",
      "Accuracy: 53.959999999999994% (0.5396)\n",
      "Loss: 1.1968830918010913\n"
     ]
    },
    {
     "name": "stderr",
     "output_type": "stream",
     "text": [
      "Validation: 100%|██████████| 79/79 [00:01<00:00, 40.73it/s]\n"
     ]
    },
    {
     "name": "stdout",
     "output_type": "stream",
     "text": [
      "LOSS train 1.1968830918010913 valid 1.2635773420333862\n",
      "Saving model\n",
      "Epoch 200\n"
     ]
    },
    {
     "name": "stderr",
     "output_type": "stream",
     "text": [
      "Training: 100%|██████████| 391/391 [00:10<00:00, 38.33it/s]\n"
     ]
    },
    {
     "name": "stdout",
     "output_type": "stream",
     "text": [
      "Correct: 5441, Total: 10000, Accuracy: 0.54\n",
      "Accuracy: 54.410000000000004% (0.5441)\n",
      "Loss: 1.1989104559547024\n"
     ]
    },
    {
     "name": "stderr",
     "output_type": "stream",
     "text": [
      "Validation: 100%|██████████| 79/79 [00:01<00:00, 41.35it/s]"
     ]
    },
    {
     "name": "stdout",
     "output_type": "stream",
     "text": [
      "LOSS train 1.1989104559547024 valid 1.2555162906646729\n"
     ]
    },
    {
     "name": "stderr",
     "output_type": "stream",
     "text": [
      "\n"
     ]
    }
   ],
   "source": [
    "BATCH_SIZE = 128\n",
    "epochs = 200\n",
    "learning_rate = 3e-4\n",
    "\n",
    "towervit = towervit.to(device)\n",
    "\n",
    "#using the same optimizer as in the ViT paper\n",
    "opt = torch.optim.SGD(towervit.parameters(), lr=learning_rate, momentum=0.9)\n",
    "criterion = nn.CrossEntropyLoss()\n",
    "\n",
    "train_loader = torch.utils.data.DataLoader(trainset, batch_size=BATCH_SIZE, shuffle=True, pin_memory=True)\n",
    "test_loader = torch.utils.data.DataLoader(testset, batch_size=BATCH_SIZE, pin_memory=True)\n",
    "\n",
    "timestamp = datetime.now().strftime('%Y%m%d_%H%M%S')\n",
    "writer = SummaryWriter('runs/towerVIT_trainer_validation_{}'.format(timestamp))\n",
    "training_and_validation_loop(towervit, train_loader, test_loader, epochs, writer, device, opt, timestamp, flatten=False)"
   ]
  },
  {
   "cell_type": "code",
   "execution_count": 27,
   "metadata": {},
   "outputs": [
    {
     "name": "stdout",
     "output_type": "stream",
     "text": [
      "torch.Size([1, 10])\n"
     ]
    }
   ],
   "source": [
    "image_size = 32\n",
    "patch_size = 4\n",
    "in_channels = 3\n",
    "\n",
    "in_embed_dims = [64, 128, 256]  \n",
    "out_embed_dims = [128, 256, 256]\n",
    "num_heads = [4, 8, 16]\n",
    "hidden_dims = [128, 256, 512]\n",
    "num_transformers = 3\n",
    "num_classes = 10\n",
    "\n",
    "vit = ViT(image_size, patch_size, in_channels, in_embed_dims, out_embed_dims, num_heads, hidden_dims, num_transformers, num_classes)\n",
    "\n",
    "x = torch.randn(1, 3, 32, 32)\n",
    "output = vit(x)\n",
    "print(output.shape)"
   ]
  },
  {
   "cell_type": "code",
   "execution_count": 24,
   "metadata": {},
   "outputs": [
    {
     "name": "stdout",
     "output_type": "stream",
     "text": [
      "==========================================================================================\n",
      "Layer (type:depth-idx)                   Output Shape              Param #\n",
      "==========================================================================================\n",
      "ViT                                      [1, 10]                   4,194,432\n",
      "├─PatchEmbedding: 1-1                    [1, 64, 64]               --\n",
      "│    └─Conv2d: 2-1                       [1, 64, 8, 8]             3,136\n",
      "├─ModuleList: 1-2                        --                        --\n",
      "│    └─Transformer: 2-2                  [1, 65, 64]               --\n",
      "│    │    └─MultiheadAttention: 3-1      [1, 65, 64]               16,640\n",
      "│    │    └─LayerNorm: 3-2               [1, 65, 64]               128\n",
      "│    │    └─FeedForward: 3-3             [1, 65, 64]               16,576\n",
      "│    │    └─LayerNorm: 3-4               [1, 65, 64]               128\n",
      "│    └─Linear: 2-3                       [1, 65, 128]              8,320\n",
      "│    └─Transformer: 2-4                  [1, 65, 128]              --\n",
      "│    │    └─MultiheadAttention: 3-5      [1, 65, 128]              66,048\n",
      "│    │    └─LayerNorm: 3-6               [1, 65, 128]              256\n",
      "│    │    └─FeedForward: 3-7             [1, 65, 128]              65,920\n",
      "│    │    └─LayerNorm: 3-8               [1, 65, 128]              256\n",
      "│    └─Linear: 2-5                       [1, 65, 256]              33,024\n",
      "│    └─Transformer: 2-6                  [1, 65, 256]              --\n",
      "│    │    └─MultiheadAttention: 3-9      [1, 65, 256]              263,168\n",
      "│    │    └─LayerNorm: 3-10              [1, 65, 256]              512\n",
      "│    │    └─FeedForward: 3-11            [1, 65, 256]              262,912\n",
      "│    │    └─LayerNorm: 3-12              [1, 65, 256]              512\n",
      "├─LayerNorm: 1-3                         [1, 65, 256]              512\n",
      "├─Sequential: 1-4                        [1, 10]                   --\n",
      "│    └─Linear: 2-7                       [1, 512]                  131,584\n",
      "│    └─ReLU: 2-8                         [1, 512]                  --\n",
      "│    └─Linear: 2-9                       [1, 10]                   5,130\n",
      "==========================================================================================\n",
      "Total params: 5,069,194\n",
      "Trainable params: 5,069,194\n",
      "Non-trainable params: 0\n",
      "Total mult-adds (Units.MEGABYTES): 1.07\n",
      "==========================================================================================\n",
      "Input size (MB): 0.01\n",
      "Forward/backward pass size (MB): 2.47\n",
      "Params size (MB): 3.50\n",
      "Estimated Total Size (MB): 5.98\n",
      "==========================================================================================\n"
     ]
    }
   ],
   "source": [
    "print(summary(vit, (1, in_channels, image_size, image_size)))"
   ]
  },
  {
   "cell_type": "code",
   "execution_count": 28,
   "metadata": {},
   "outputs": [
    {
     "name": "stdout",
     "output_type": "stream",
     "text": [
      "Epoch 1\n"
     ]
    },
    {
     "name": "stderr",
     "output_type": "stream",
     "text": [
      "Training: 100%|██████████| 391/391 [00:08<00:00, 48.17it/s]\n"
     ]
    },
    {
     "name": "stdout",
     "output_type": "stream",
     "text": [
      "Correct: 1786, Total: 10000, Accuracy: 0.18\n",
      "Accuracy: 17.86% (0.1786)\n",
      "Loss: 2.282126602373625\n"
     ]
    },
    {
     "name": "stderr",
     "output_type": "stream",
     "text": [
      "Validation: 100%|██████████| 79/79 [00:01<00:00, 78.43it/s]\n"
     ]
    },
    {
     "name": "stdout",
     "output_type": "stream",
     "text": [
      "LOSS train 2.282126602373625 valid 2.2489116191864014\n",
      "Saving model\n",
      "Epoch 2\n"
     ]
    },
    {
     "name": "stderr",
     "output_type": "stream",
     "text": [
      "Training: 100%|██████████| 391/391 [00:07<00:00, 50.62it/s]\n"
     ]
    },
    {
     "name": "stdout",
     "output_type": "stream",
     "text": [
      "Correct: 2225, Total: 10000, Accuracy: 0.22\n",
      "Accuracy: 22.25% (0.2225)\n",
      "Loss: 2.155605102840223\n"
     ]
    },
    {
     "name": "stderr",
     "output_type": "stream",
     "text": [
      "Validation: 100%|██████████| 79/79 [00:01<00:00, 78.97it/s]\n"
     ]
    },
    {
     "name": "stdout",
     "output_type": "stream",
     "text": [
      "LOSS train 2.155605102840223 valid 2.107799530029297\n",
      "Saving model\n",
      "Epoch 3\n"
     ]
    },
    {
     "name": "stderr",
     "output_type": "stream",
     "text": [
      "Training: 100%|██████████| 391/391 [00:07<00:00, 50.69it/s]\n"
     ]
    },
    {
     "name": "stdout",
     "output_type": "stream",
     "text": [
      "Correct: 2477, Total: 10000, Accuracy: 0.25\n",
      "Accuracy: 24.77% (0.2477)\n",
      "Loss: 2.025271258856121\n"
     ]
    },
    {
     "name": "stderr",
     "output_type": "stream",
     "text": [
      "Validation: 100%|██████████| 79/79 [00:01<00:00, 78.90it/s]\n"
     ]
    },
    {
     "name": "stdout",
     "output_type": "stream",
     "text": [
      "LOSS train 2.025271258856121 valid 1.987391471862793\n",
      "Saving model\n",
      "Epoch 4\n"
     ]
    },
    {
     "name": "stderr",
     "output_type": "stream",
     "text": [
      "Training: 100%|██████████| 391/391 [00:07<00:00, 50.48it/s]\n"
     ]
    },
    {
     "name": "stdout",
     "output_type": "stream",
     "text": [
      "Correct: 2679, Total: 10000, Accuracy: 0.27\n",
      "Accuracy: 26.790000000000003% (0.2679)\n",
      "Loss: 1.9706587101283826\n"
     ]
    },
    {
     "name": "stderr",
     "output_type": "stream",
     "text": [
      "Validation: 100%|██████████| 79/79 [00:00<00:00, 79.50it/s]\n"
     ]
    },
    {
     "name": "stdout",
     "output_type": "stream",
     "text": [
      "LOSS train 1.9706587101283826 valid 1.9408842325210571\n",
      "Saving model\n",
      "Epoch 5\n"
     ]
    },
    {
     "name": "stderr",
     "output_type": "stream",
     "text": [
      "Training: 100%|██████████| 391/391 [00:07<00:00, 50.70it/s]\n"
     ]
    },
    {
     "name": "stdout",
     "output_type": "stream",
     "text": [
      "Correct: 2840, Total: 10000, Accuracy: 0.28\n",
      "Accuracy: 28.4% (0.284)\n",
      "Loss: 1.947525984362552\n"
     ]
    },
    {
     "name": "stderr",
     "output_type": "stream",
     "text": [
      "Validation: 100%|██████████| 79/79 [00:01<00:00, 78.84it/s]\n"
     ]
    },
    {
     "name": "stdout",
     "output_type": "stream",
     "text": [
      "LOSS train 1.947525984362552 valid 1.9094053506851196\n",
      "Saving model\n",
      "Epoch 6\n"
     ]
    },
    {
     "name": "stderr",
     "output_type": "stream",
     "text": [
      "Training: 100%|██████████| 391/391 [00:07<00:00, 50.87it/s]\n"
     ]
    },
    {
     "name": "stdout",
     "output_type": "stream",
     "text": [
      "Correct: 2921, Total: 10000, Accuracy: 0.29\n",
      "Accuracy: 29.21% (0.2921)\n",
      "Loss: 1.9556463454899036\n"
     ]
    },
    {
     "name": "stderr",
     "output_type": "stream",
     "text": [
      "Validation: 100%|██████████| 79/79 [00:00<00:00, 79.40it/s]\n"
     ]
    },
    {
     "name": "stdout",
     "output_type": "stream",
     "text": [
      "LOSS train 1.9556463454899036 valid 1.882969856262207\n",
      "Epoch 7\n"
     ]
    },
    {
     "name": "stderr",
     "output_type": "stream",
     "text": [
      "Training: 100%|██████████| 391/391 [00:07<00:00, 50.64it/s]\n"
     ]
    },
    {
     "name": "stdout",
     "output_type": "stream",
     "text": [
      "Correct: 2999, Total: 10000, Accuracy: 0.30\n",
      "Accuracy: 29.99% (0.2999)\n",
      "Loss: 1.8775088787078857\n"
     ]
    },
    {
     "name": "stderr",
     "output_type": "stream",
     "text": [
      "Validation: 100%|██████████| 79/79 [00:00<00:00, 79.15it/s]\n"
     ]
    },
    {
     "name": "stdout",
     "output_type": "stream",
     "text": [
      "LOSS train 1.8775088787078857 valid 1.8631168603897095\n",
      "Saving model\n",
      "Epoch 8\n"
     ]
    },
    {
     "name": "stderr",
     "output_type": "stream",
     "text": [
      "Training: 100%|██████████| 391/391 [00:07<00:00, 50.74it/s]\n"
     ]
    },
    {
     "name": "stdout",
     "output_type": "stream",
     "text": [
      "Correct: 3060, Total: 10000, Accuracy: 0.31\n",
      "Accuracy: 30.599999999999998% (0.306)\n",
      "Loss: 1.8722521003923918\n"
     ]
    },
    {
     "name": "stderr",
     "output_type": "stream",
     "text": [
      "Validation: 100%|██████████| 79/79 [00:00<00:00, 79.90it/s]\n"
     ]
    },
    {
     "name": "stdout",
     "output_type": "stream",
     "text": [
      "LOSS train 1.8722521003923918 valid 1.8502463102340698\n",
      "Saving model\n",
      "Epoch 9\n"
     ]
    },
    {
     "name": "stderr",
     "output_type": "stream",
     "text": [
      "Training: 100%|██████████| 391/391 [00:07<00:00, 50.62it/s]\n"
     ]
    },
    {
     "name": "stdout",
     "output_type": "stream",
     "text": [
      "Correct: 3100, Total: 10000, Accuracy: 0.31\n",
      "Accuracy: 31.0% (0.31)\n",
      "Loss: 1.8370696996387683\n"
     ]
    },
    {
     "name": "stderr",
     "output_type": "stream",
     "text": [
      "Validation: 100%|██████████| 79/79 [00:00<00:00, 79.23it/s]\n"
     ]
    },
    {
     "name": "stdout",
     "output_type": "stream",
     "text": [
      "LOSS train 1.8370696996387683 valid 1.8376381397247314\n",
      "Saving model\n",
      "Epoch 10\n"
     ]
    },
    {
     "name": "stderr",
     "output_type": "stream",
     "text": [
      "Training: 100%|██████████| 391/391 [00:07<00:00, 50.64it/s]\n"
     ]
    },
    {
     "name": "stdout",
     "output_type": "stream",
     "text": [
      "Correct: 3141, Total: 10000, Accuracy: 0.31\n",
      "Accuracy: 31.41% (0.3141)\n",
      "Loss: 1.873523241595218\n"
     ]
    },
    {
     "name": "stderr",
     "output_type": "stream",
     "text": [
      "Validation: 100%|██████████| 79/79 [00:00<00:00, 79.03it/s]\n"
     ]
    },
    {
     "name": "stdout",
     "output_type": "stream",
     "text": [
      "LOSS train 1.873523241595218 valid 1.8271912336349487\n",
      "Epoch 11\n"
     ]
    },
    {
     "name": "stderr",
     "output_type": "stream",
     "text": [
      "Training: 100%|██████████| 391/391 [00:07<00:00, 50.80it/s]\n"
     ]
    },
    {
     "name": "stdout",
     "output_type": "stream",
     "text": [
      "Correct: 3228, Total: 10000, Accuracy: 0.32\n",
      "Accuracy: 32.28% (0.3228)\n",
      "Loss: 1.8418188032351042\n"
     ]
    },
    {
     "name": "stderr",
     "output_type": "stream",
     "text": [
      "Validation: 100%|██████████| 79/79 [00:01<00:00, 78.93it/s]\n"
     ]
    },
    {
     "name": "stdout",
     "output_type": "stream",
     "text": [
      "LOSS train 1.8418188032351042 valid 1.8132168054580688\n",
      "Epoch 12\n"
     ]
    },
    {
     "name": "stderr",
     "output_type": "stream",
     "text": [
      "Training: 100%|██████████| 391/391 [00:07<00:00, 50.67it/s]\n"
     ]
    },
    {
     "name": "stdout",
     "output_type": "stream",
     "text": [
      "Correct: 3216, Total: 10000, Accuracy: 0.32\n",
      "Accuracy: 32.16% (0.3216)\n",
      "Loss: 1.8835677535910356\n"
     ]
    },
    {
     "name": "stderr",
     "output_type": "stream",
     "text": [
      "Validation: 100%|██████████| 79/79 [00:00<00:00, 79.14it/s]\n"
     ]
    },
    {
     "name": "stdout",
     "output_type": "stream",
     "text": [
      "LOSS train 1.8835677535910356 valid 1.8022358417510986\n",
      "Epoch 13\n"
     ]
    },
    {
     "name": "stderr",
     "output_type": "stream",
     "text": [
      "Training: 100%|██████████| 391/391 [00:07<00:00, 50.59it/s]\n"
     ]
    },
    {
     "name": "stdout",
     "output_type": "stream",
     "text": [
      "Correct: 3259, Total: 10000, Accuracy: 0.33\n",
      "Accuracy: 32.59% (0.3259)\n",
      "Loss: 1.8452723841918142\n"
     ]
    },
    {
     "name": "stderr",
     "output_type": "stream",
     "text": [
      "Validation: 100%|██████████| 79/79 [00:00<00:00, 79.20it/s]\n"
     ]
    },
    {
     "name": "stdout",
     "output_type": "stream",
     "text": [
      "LOSS train 1.8452723841918142 valid 1.7907522916793823\n",
      "Epoch 14\n"
     ]
    },
    {
     "name": "stderr",
     "output_type": "stream",
     "text": [
      "Training: 100%|██████████| 391/391 [00:07<00:00, 50.52it/s]\n"
     ]
    },
    {
     "name": "stdout",
     "output_type": "stream",
     "text": [
      "Correct: 3468, Total: 10000, Accuracy: 0.35\n",
      "Accuracy: 34.68% (0.3468)\n",
      "Loss: 1.8159169021405672\n"
     ]
    },
    {
     "name": "stderr",
     "output_type": "stream",
     "text": [
      "Validation: 100%|██████████| 79/79 [00:01<00:00, 79.00it/s]\n"
     ]
    },
    {
     "name": "stdout",
     "output_type": "stream",
     "text": [
      "LOSS train 1.8159169021405672 valid 1.7564871311187744\n",
      "Saving model\n",
      "Epoch 15\n"
     ]
    },
    {
     "name": "stderr",
     "output_type": "stream",
     "text": [
      "Training: 100%|██████████| 391/391 [00:07<00:00, 50.50it/s]\n"
     ]
    },
    {
     "name": "stdout",
     "output_type": "stream",
     "text": [
      "Correct: 3515, Total: 10000, Accuracy: 0.35\n",
      "Accuracy: 35.15% (0.3515)\n",
      "Loss: 1.7447967717522068\n"
     ]
    },
    {
     "name": "stderr",
     "output_type": "stream",
     "text": [
      "Validation: 100%|██████████| 79/79 [00:00<00:00, 79.09it/s]\n"
     ]
    },
    {
     "name": "stdout",
     "output_type": "stream",
     "text": [
      "LOSS train 1.7447967717522068 valid 1.7411415576934814\n",
      "Saving model\n",
      "Epoch 16\n"
     ]
    },
    {
     "name": "stderr",
     "output_type": "stream",
     "text": [
      "Training: 100%|██████████| 391/391 [00:07<00:00, 50.43it/s]\n"
     ]
    },
    {
     "name": "stdout",
     "output_type": "stream",
     "text": [
      "Correct: 3557, Total: 10000, Accuracy: 0.36\n",
      "Accuracy: 35.57% (0.3557)\n",
      "Loss: 1.7284429136075472\n"
     ]
    },
    {
     "name": "stderr",
     "output_type": "stream",
     "text": [
      "Validation: 100%|██████████| 79/79 [00:00<00:00, 79.09it/s]\n"
     ]
    },
    {
     "name": "stdout",
     "output_type": "stream",
     "text": [
      "LOSS train 1.7284429136075472 valid 1.7157262563705444\n",
      "Saving model\n",
      "Epoch 17\n"
     ]
    },
    {
     "name": "stderr",
     "output_type": "stream",
     "text": [
      "Training: 100%|██████████| 391/391 [00:07<00:00, 50.86it/s]\n"
     ]
    },
    {
     "name": "stdout",
     "output_type": "stream",
     "text": [
      "Correct: 3721, Total: 10000, Accuracy: 0.37\n",
      "Accuracy: 37.21% (0.3721)\n",
      "Loss: 1.7079546137859947\n"
     ]
    },
    {
     "name": "stderr",
     "output_type": "stream",
     "text": [
      "Validation: 100%|██████████| 79/79 [00:00<00:00, 79.60it/s]\n"
     ]
    },
    {
     "name": "stdout",
     "output_type": "stream",
     "text": [
      "LOSS train 1.7079546137859947 valid 1.6813029050827026\n",
      "Saving model\n",
      "Epoch 18\n"
     ]
    },
    {
     "name": "stderr",
     "output_type": "stream",
     "text": [
      "Training: 100%|██████████| 391/391 [00:07<00:00, 50.83it/s]\n"
     ]
    },
    {
     "name": "stdout",
     "output_type": "stream",
     "text": [
      "Correct: 3504, Total: 10000, Accuracy: 0.35\n",
      "Accuracy: 35.04% (0.3504)\n",
      "Loss: 1.709153558078565\n"
     ]
    },
    {
     "name": "stderr",
     "output_type": "stream",
     "text": [
      "Validation: 100%|██████████| 79/79 [00:01<00:00, 78.92it/s]\n"
     ]
    },
    {
     "name": "stdout",
     "output_type": "stream",
     "text": [
      "LOSS train 1.709153558078565 valid 1.7057430744171143\n",
      "Epoch 19\n"
     ]
    },
    {
     "name": "stderr",
     "output_type": "stream",
     "text": [
      "Training: 100%|██████████| 391/391 [00:07<00:00, 51.05it/s]\n"
     ]
    },
    {
     "name": "stdout",
     "output_type": "stream",
     "text": [
      "Correct: 3782, Total: 10000, Accuracy: 0.38\n",
      "Accuracy: 37.82% (0.3782)\n",
      "Loss: 1.6858327388763428\n"
     ]
    },
    {
     "name": "stderr",
     "output_type": "stream",
     "text": [
      "Validation: 100%|██████████| 79/79 [00:00<00:00, 79.12it/s]\n"
     ]
    },
    {
     "name": "stdout",
     "output_type": "stream",
     "text": [
      "LOSS train 1.6858327388763428 valid 1.6608924865722656\n",
      "Saving model\n",
      "Epoch 20\n"
     ]
    },
    {
     "name": "stderr",
     "output_type": "stream",
     "text": [
      "Training: 100%|██████████| 391/391 [00:07<00:00, 50.95it/s]\n"
     ]
    },
    {
     "name": "stdout",
     "output_type": "stream",
     "text": [
      "Correct: 3790, Total: 10000, Accuracy: 0.38\n",
      "Accuracy: 37.9% (0.379)\n",
      "Loss: 1.6638242696460925\n"
     ]
    },
    {
     "name": "stderr",
     "output_type": "stream",
     "text": [
      "Validation: 100%|██████████| 79/79 [00:00<00:00, 79.25it/s]\n"
     ]
    },
    {
     "name": "stdout",
     "output_type": "stream",
     "text": [
      "LOSS train 1.6638242696460925 valid 1.6534537076950073\n",
      "Saving model\n",
      "Epoch 21\n"
     ]
    },
    {
     "name": "stderr",
     "output_type": "stream",
     "text": [
      "Training: 100%|██████████| 391/391 [00:07<00:00, 51.01it/s]\n"
     ]
    },
    {
     "name": "stdout",
     "output_type": "stream",
     "text": [
      "Correct: 3804, Total: 10000, Accuracy: 0.38\n",
      "Accuracy: 38.04% (0.3804)\n",
      "Loss: 1.633581280708313\n"
     ]
    },
    {
     "name": "stderr",
     "output_type": "stream",
     "text": [
      "Validation: 100%|██████████| 79/79 [00:00<00:00, 79.09it/s]\n"
     ]
    },
    {
     "name": "stdout",
     "output_type": "stream",
     "text": [
      "LOSS train 1.633581280708313 valid 1.663529396057129\n",
      "Saving model\n",
      "Epoch 22\n"
     ]
    },
    {
     "name": "stderr",
     "output_type": "stream",
     "text": [
      "Training: 100%|██████████| 391/391 [00:07<00:00, 50.75it/s]\n"
     ]
    },
    {
     "name": "stdout",
     "output_type": "stream",
     "text": [
      "Correct: 3943, Total: 10000, Accuracy: 0.39\n",
      "Accuracy: 39.43% (0.3943)\n",
      "Loss: 1.6512636573691117\n"
     ]
    },
    {
     "name": "stderr",
     "output_type": "stream",
     "text": [
      "Validation: 100%|██████████| 79/79 [00:00<00:00, 79.37it/s]\n"
     ]
    },
    {
     "name": "stdout",
     "output_type": "stream",
     "text": [
      "LOSS train 1.6512636573691117 valid 1.6282376050949097\n",
      "Epoch 23\n"
     ]
    },
    {
     "name": "stderr",
     "output_type": "stream",
     "text": [
      "Training: 100%|██████████| 391/391 [00:07<00:00, 50.97it/s]\n"
     ]
    },
    {
     "name": "stdout",
     "output_type": "stream",
     "text": [
      "Correct: 4020, Total: 10000, Accuracy: 0.40\n",
      "Accuracy: 40.2% (0.402)\n",
      "Loss: 1.609141180389806\n"
     ]
    },
    {
     "name": "stderr",
     "output_type": "stream",
     "text": [
      "Validation: 100%|██████████| 79/79 [00:01<00:00, 78.80it/s]\n"
     ]
    },
    {
     "name": "stdout",
     "output_type": "stream",
     "text": [
      "LOSS train 1.609141180389806 valid 1.5951818227767944\n",
      "Saving model\n",
      "Epoch 24\n"
     ]
    },
    {
     "name": "stderr",
     "output_type": "stream",
     "text": [
      "Training: 100%|██████████| 391/391 [00:07<00:00, 50.84it/s]\n"
     ]
    },
    {
     "name": "stdout",
     "output_type": "stream",
     "text": [
      "Correct: 4085, Total: 10000, Accuracy: 0.41\n",
      "Accuracy: 40.849999999999994% (0.4085)\n",
      "Loss: 1.6045851707458496\n"
     ]
    },
    {
     "name": "stderr",
     "output_type": "stream",
     "text": [
      "Validation: 100%|██████████| 79/79 [00:00<00:00, 79.39it/s]\n"
     ]
    },
    {
     "name": "stdout",
     "output_type": "stream",
     "text": [
      "LOSS train 1.6045851707458496 valid 1.595910906791687\n",
      "Saving model\n",
      "Epoch 25\n"
     ]
    },
    {
     "name": "stderr",
     "output_type": "stream",
     "text": [
      "Training: 100%|██████████| 391/391 [00:07<00:00, 51.10it/s]\n"
     ]
    },
    {
     "name": "stdout",
     "output_type": "stream",
     "text": [
      "Correct: 4198, Total: 10000, Accuracy: 0.42\n",
      "Accuracy: 41.980000000000004% (0.4198)\n",
      "Loss: 1.587801782708419\n"
     ]
    },
    {
     "name": "stderr",
     "output_type": "stream",
     "text": [
      "Validation: 100%|██████████| 79/79 [00:00<00:00, 79.95it/s]\n"
     ]
    },
    {
     "name": "stdout",
     "output_type": "stream",
     "text": [
      "LOSS train 1.587801782708419 valid 1.5724204778671265\n",
      "Saving model\n",
      "Epoch 26\n"
     ]
    },
    {
     "name": "stderr",
     "output_type": "stream",
     "text": [
      "Training: 100%|██████████| 391/391 [00:07<00:00, 51.05it/s]\n"
     ]
    },
    {
     "name": "stdout",
     "output_type": "stream",
     "text": [
      "Correct: 4120, Total: 10000, Accuracy: 0.41\n",
      "Accuracy: 41.199999999999996% (0.412)\n",
      "Loss: 1.5868752065457796\n"
     ]
    },
    {
     "name": "stderr",
     "output_type": "stream",
     "text": [
      "Validation: 100%|██████████| 79/79 [00:00<00:00, 79.47it/s]\n"
     ]
    },
    {
     "name": "stdout",
     "output_type": "stream",
     "text": [
      "LOSS train 1.5868752065457796 valid 1.578286051750183\n",
      "Saving model\n",
      "Epoch 27\n"
     ]
    },
    {
     "name": "stderr",
     "output_type": "stream",
     "text": [
      "Training: 100%|██████████| 391/391 [00:07<00:00, 51.06it/s]\n"
     ]
    },
    {
     "name": "stdout",
     "output_type": "stream",
     "text": [
      "Correct: 4350, Total: 10000, Accuracy: 0.43\n",
      "Accuracy: 43.5% (0.435)\n",
      "Loss: 1.5584463194796914\n"
     ]
    },
    {
     "name": "stderr",
     "output_type": "stream",
     "text": [
      "Validation: 100%|██████████| 79/79 [00:00<00:00, 80.02it/s]\n"
     ]
    },
    {
     "name": "stdout",
     "output_type": "stream",
     "text": [
      "LOSS train 1.5584463194796914 valid 1.5359783172607422\n",
      "Saving model\n",
      "Epoch 28\n"
     ]
    },
    {
     "name": "stderr",
     "output_type": "stream",
     "text": [
      "Training: 100%|██████████| 391/391 [00:07<00:00, 51.01it/s]\n"
     ]
    },
    {
     "name": "stdout",
     "output_type": "stream",
     "text": [
      "Correct: 4411, Total: 10000, Accuracy: 0.44\n",
      "Accuracy: 44.11% (0.4411)\n",
      "Loss: 1.577422857284546\n"
     ]
    },
    {
     "name": "stderr",
     "output_type": "stream",
     "text": [
      "Validation: 100%|██████████| 79/79 [00:00<00:00, 79.81it/s]\n"
     ]
    },
    {
     "name": "stdout",
     "output_type": "stream",
     "text": [
      "LOSS train 1.577422857284546 valid 1.525771975517273\n",
      "Epoch 29\n"
     ]
    },
    {
     "name": "stderr",
     "output_type": "stream",
     "text": [
      "Training: 100%|██████████| 391/391 [00:07<00:00, 51.18it/s]\n"
     ]
    },
    {
     "name": "stdout",
     "output_type": "stream",
     "text": [
      "Correct: 4340, Total: 10000, Accuracy: 0.43\n",
      "Accuracy: 43.4% (0.434)\n",
      "Loss: 1.5644577867106388\n"
     ]
    },
    {
     "name": "stderr",
     "output_type": "stream",
     "text": [
      "Validation: 100%|██████████| 79/79 [00:00<00:00, 79.41it/s]\n"
     ]
    },
    {
     "name": "stdout",
     "output_type": "stream",
     "text": [
      "LOSS train 1.5644577867106388 valid 1.5414080619812012\n",
      "Epoch 30\n"
     ]
    },
    {
     "name": "stderr",
     "output_type": "stream",
     "text": [
      "Training: 100%|██████████| 391/391 [00:07<00:00, 51.09it/s]\n"
     ]
    },
    {
     "name": "stdout",
     "output_type": "stream",
     "text": [
      "Correct: 4426, Total: 10000, Accuracy: 0.44\n",
      "Accuracy: 44.26% (0.4426)\n",
      "Loss: 1.5455566205476459\n"
     ]
    },
    {
     "name": "stderr",
     "output_type": "stream",
     "text": [
      "Validation: 100%|██████████| 79/79 [00:00<00:00, 79.89it/s]\n"
     ]
    },
    {
     "name": "stdout",
     "output_type": "stream",
     "text": [
      "LOSS train 1.5455566205476459 valid 1.5115588903427124\n",
      "Saving model\n",
      "Epoch 31\n"
     ]
    },
    {
     "name": "stderr",
     "output_type": "stream",
     "text": [
      "Training: 100%|██████████| 391/391 [00:07<00:00, 51.25it/s]\n"
     ]
    },
    {
     "name": "stdout",
     "output_type": "stream",
     "text": [
      "Correct: 4567, Total: 10000, Accuracy: 0.46\n",
      "Accuracy: 45.67% (0.4567)\n",
      "Loss: 1.5262330770492554\n"
     ]
    },
    {
     "name": "stderr",
     "output_type": "stream",
     "text": [
      "Validation: 100%|██████████| 79/79 [00:00<00:00, 80.14it/s]\n"
     ]
    },
    {
     "name": "stdout",
     "output_type": "stream",
     "text": [
      "LOSS train 1.5262330770492554 valid 1.4828009605407715\n",
      "Saving model\n",
      "Epoch 32\n"
     ]
    },
    {
     "name": "stderr",
     "output_type": "stream",
     "text": [
      "Training: 100%|██████████| 391/391 [00:07<00:00, 50.94it/s]\n"
     ]
    },
    {
     "name": "stdout",
     "output_type": "stream",
     "text": [
      "Correct: 4268, Total: 10000, Accuracy: 0.43\n",
      "Accuracy: 42.68% (0.4268)\n",
      "Loss: 1.5111610889434814\n"
     ]
    },
    {
     "name": "stderr",
     "output_type": "stream",
     "text": [
      "Validation: 100%|██████████| 79/79 [00:00<00:00, 79.78it/s]\n"
     ]
    },
    {
     "name": "stdout",
     "output_type": "stream",
     "text": [
      "LOSS train 1.5111610889434814 valid 1.5400241613388062\n",
      "Saving model\n",
      "Epoch 33\n"
     ]
    },
    {
     "name": "stderr",
     "output_type": "stream",
     "text": [
      "Training: 100%|██████████| 391/391 [00:07<00:00, 51.11it/s]\n"
     ]
    },
    {
     "name": "stdout",
     "output_type": "stream",
     "text": [
      "Correct: 4215, Total: 10000, Accuracy: 0.42\n",
      "Accuracy: 42.15% (0.4215)\n",
      "Loss: 1.4976763850764225\n"
     ]
    },
    {
     "name": "stderr",
     "output_type": "stream",
     "text": [
      "Validation: 100%|██████████| 79/79 [00:00<00:00, 79.66it/s]\n"
     ]
    },
    {
     "name": "stdout",
     "output_type": "stream",
     "text": [
      "LOSS train 1.4976763850764225 valid 1.5648722648620605\n",
      "Saving model\n",
      "Epoch 34\n"
     ]
    },
    {
     "name": "stderr",
     "output_type": "stream",
     "text": [
      "Training: 100%|██████████| 391/391 [00:07<00:00, 51.24it/s]\n"
     ]
    },
    {
     "name": "stdout",
     "output_type": "stream",
     "text": [
      "Correct: 4559, Total: 10000, Accuracy: 0.46\n",
      "Accuracy: 45.59% (0.4559)\n",
      "Loss: 1.4720181665922467\n"
     ]
    },
    {
     "name": "stderr",
     "output_type": "stream",
     "text": [
      "Validation: 100%|██████████| 79/79 [00:00<00:00, 79.91it/s]\n"
     ]
    },
    {
     "name": "stdout",
     "output_type": "stream",
     "text": [
      "LOSS train 1.4720181665922467 valid 1.4842127561569214\n",
      "Saving model\n",
      "Epoch 35\n"
     ]
    },
    {
     "name": "stderr",
     "output_type": "stream",
     "text": [
      "Training: 100%|██████████| 391/391 [00:07<00:00, 51.08it/s]\n"
     ]
    },
    {
     "name": "stdout",
     "output_type": "stream",
     "text": [
      "Correct: 4678, Total: 10000, Accuracy: 0.47\n",
      "Accuracy: 46.78% (0.4678)\n",
      "Loss: 1.45500774132578\n"
     ]
    },
    {
     "name": "stderr",
     "output_type": "stream",
     "text": [
      "Validation: 100%|██████████| 79/79 [00:00<00:00, 79.90it/s]\n"
     ]
    },
    {
     "name": "stdout",
     "output_type": "stream",
     "text": [
      "LOSS train 1.45500774132578 valid 1.4491347074508667\n",
      "Saving model\n",
      "Epoch 36\n"
     ]
    },
    {
     "name": "stderr",
     "output_type": "stream",
     "text": [
      "Training: 100%|██████████| 391/391 [00:07<00:00, 51.18it/s]\n"
     ]
    },
    {
     "name": "stdout",
     "output_type": "stream",
     "text": [
      "Correct: 4514, Total: 10000, Accuracy: 0.45\n",
      "Accuracy: 45.14% (0.4514)\n",
      "Loss: 1.4188803559855412\n"
     ]
    },
    {
     "name": "stderr",
     "output_type": "stream",
     "text": [
      "Validation: 100%|██████████| 79/79 [00:00<00:00, 79.98it/s]\n"
     ]
    },
    {
     "name": "stdout",
     "output_type": "stream",
     "text": [
      "LOSS train 1.4188803559855412 valid 1.497489094734192\n",
      "Saving model\n",
      "Epoch 37\n"
     ]
    },
    {
     "name": "stderr",
     "output_type": "stream",
     "text": [
      "Training: 100%|██████████| 391/391 [00:07<00:00, 51.01it/s]\n"
     ]
    },
    {
     "name": "stdout",
     "output_type": "stream",
     "text": [
      "Correct: 4776, Total: 10000, Accuracy: 0.48\n",
      "Accuracy: 47.760000000000005% (0.4776)\n",
      "Loss: 1.44752121599097\n"
     ]
    },
    {
     "name": "stderr",
     "output_type": "stream",
     "text": [
      "Validation: 100%|██████████| 79/79 [00:00<00:00, 79.40it/s]\n"
     ]
    },
    {
     "name": "stdout",
     "output_type": "stream",
     "text": [
      "LOSS train 1.44752121599097 valid 1.4225982427597046\n",
      "Epoch 38\n"
     ]
    },
    {
     "name": "stderr",
     "output_type": "stream",
     "text": [
      "Training: 100%|██████████| 391/391 [00:07<00:00, 51.00it/s]\n"
     ]
    },
    {
     "name": "stdout",
     "output_type": "stream",
     "text": [
      "Correct: 4818, Total: 10000, Accuracy: 0.48\n",
      "Accuracy: 48.18% (0.4818)\n",
      "Loss: 1.4632385279002942\n"
     ]
    },
    {
     "name": "stderr",
     "output_type": "stream",
     "text": [
      "Validation: 100%|██████████| 79/79 [00:00<00:00, 79.05it/s]\n"
     ]
    },
    {
     "name": "stdout",
     "output_type": "stream",
     "text": [
      "LOSS train 1.4632385279002942 valid 1.4157460927963257\n",
      "Epoch 39\n"
     ]
    },
    {
     "name": "stderr",
     "output_type": "stream",
     "text": [
      "Training: 100%|██████████| 391/391 [00:07<00:00, 51.07it/s]\n"
     ]
    },
    {
     "name": "stdout",
     "output_type": "stream",
     "text": [
      "Correct: 4799, Total: 10000, Accuracy: 0.48\n",
      "Accuracy: 47.99% (0.4799)\n",
      "Loss: 1.4506837192334627\n"
     ]
    },
    {
     "name": "stderr",
     "output_type": "stream",
     "text": [
      "Validation: 100%|██████████| 79/79 [00:00<00:00, 79.35it/s]\n"
     ]
    },
    {
     "name": "stdout",
     "output_type": "stream",
     "text": [
      "LOSS train 1.4506837192334627 valid 1.4076905250549316\n",
      "Epoch 40\n"
     ]
    },
    {
     "name": "stderr",
     "output_type": "stream",
     "text": [
      "Training: 100%|██████████| 391/391 [00:07<00:00, 50.83it/s]\n"
     ]
    },
    {
     "name": "stdout",
     "output_type": "stream",
     "text": [
      "Correct: 4904, Total: 10000, Accuracy: 0.49\n",
      "Accuracy: 49.04% (0.4904)\n",
      "Loss: 1.3945442814576\n"
     ]
    },
    {
     "name": "stderr",
     "output_type": "stream",
     "text": [
      "Validation: 100%|██████████| 79/79 [00:01<00:00, 78.97it/s]\n"
     ]
    },
    {
     "name": "stdout",
     "output_type": "stream",
     "text": [
      "LOSS train 1.3945442814576 valid 1.3979549407958984\n",
      "Saving model\n",
      "Epoch 41\n"
     ]
    },
    {
     "name": "stderr",
     "output_type": "stream",
     "text": [
      "Training: 100%|██████████| 391/391 [00:07<00:00, 50.74it/s]\n"
     ]
    },
    {
     "name": "stdout",
     "output_type": "stream",
     "text": [
      "Correct: 4889, Total: 10000, Accuracy: 0.49\n",
      "Accuracy: 48.89% (0.4889)\n",
      "Loss: 1.3636651039123535\n"
     ]
    },
    {
     "name": "stderr",
     "output_type": "stream",
     "text": [
      "Validation: 100%|██████████| 79/79 [00:00<00:00, 79.47it/s]\n"
     ]
    },
    {
     "name": "stdout",
     "output_type": "stream",
     "text": [
      "LOSS train 1.3636651039123535 valid 1.4022650718688965\n",
      "Saving model\n",
      "Epoch 42\n"
     ]
    },
    {
     "name": "stderr",
     "output_type": "stream",
     "text": [
      "Training: 100%|██████████| 391/391 [00:07<00:00, 51.11it/s]\n"
     ]
    },
    {
     "name": "stdout",
     "output_type": "stream",
     "text": [
      "Correct: 4992, Total: 10000, Accuracy: 0.50\n",
      "Accuracy: 49.919999999999995% (0.4992)\n",
      "Loss: 1.3912799672076577\n"
     ]
    },
    {
     "name": "stderr",
     "output_type": "stream",
     "text": [
      "Validation: 100%|██████████| 79/79 [00:00<00:00, 79.50it/s]\n"
     ]
    },
    {
     "name": "stdout",
     "output_type": "stream",
     "text": [
      "LOSS train 1.3912799672076577 valid 1.3726345300674438\n",
      "Epoch 43\n"
     ]
    },
    {
     "name": "stderr",
     "output_type": "stream",
     "text": [
      "Training: 100%|██████████| 391/391 [00:07<00:00, 51.06it/s]\n"
     ]
    },
    {
     "name": "stdout",
     "output_type": "stream",
     "text": [
      "Correct: 4982, Total: 10000, Accuracy: 0.50\n",
      "Accuracy: 49.82% (0.4982)\n",
      "Loss: 1.3779240532925254\n"
     ]
    },
    {
     "name": "stderr",
     "output_type": "stream",
     "text": [
      "Validation: 100%|██████████| 79/79 [00:00<00:00, 79.41it/s]\n"
     ]
    },
    {
     "name": "stdout",
     "output_type": "stream",
     "text": [
      "LOSS train 1.3779240532925254 valid 1.3682526350021362\n",
      "Epoch 44\n"
     ]
    },
    {
     "name": "stderr",
     "output_type": "stream",
     "text": [
      "Training: 100%|██████████| 391/391 [00:07<00:00, 51.04it/s]\n"
     ]
    },
    {
     "name": "stdout",
     "output_type": "stream",
     "text": [
      "Correct: 5093, Total: 10000, Accuracy: 0.51\n",
      "Accuracy: 50.93% (0.5093)\n",
      "Loss: 1.3405007751364457\n"
     ]
    },
    {
     "name": "stderr",
     "output_type": "stream",
     "text": [
      "Validation: 100%|██████████| 79/79 [00:00<00:00, 79.45it/s]\n"
     ]
    },
    {
     "name": "stdout",
     "output_type": "stream",
     "text": [
      "LOSS train 1.3405007751364457 valid 1.3511698246002197\n",
      "Saving model\n",
      "Epoch 45\n"
     ]
    },
    {
     "name": "stderr",
     "output_type": "stream",
     "text": [
      "Training: 100%|██████████| 391/391 [00:07<00:00, 50.96it/s]\n"
     ]
    },
    {
     "name": "stdout",
     "output_type": "stream",
     "text": [
      "Correct: 5024, Total: 10000, Accuracy: 0.50\n",
      "Accuracy: 50.239999999999995% (0.5024)\n",
      "Loss: 1.3313048325086896\n"
     ]
    },
    {
     "name": "stderr",
     "output_type": "stream",
     "text": [
      "Validation: 100%|██████████| 79/79 [00:00<00:00, 79.52it/s]\n"
     ]
    },
    {
     "name": "stdout",
     "output_type": "stream",
     "text": [
      "LOSS train 1.3313048325086896 valid 1.351404070854187\n",
      "Saving model\n",
      "Epoch 46\n"
     ]
    },
    {
     "name": "stderr",
     "output_type": "stream",
     "text": [
      "Training: 100%|██████████| 391/391 [00:07<00:00, 51.05it/s]\n"
     ]
    },
    {
     "name": "stdout",
     "output_type": "stream",
     "text": [
      "Correct: 5122, Total: 10000, Accuracy: 0.51\n",
      "Accuracy: 51.22% (0.5122)\n",
      "Loss: 1.3354293986370689\n"
     ]
    },
    {
     "name": "stderr",
     "output_type": "stream",
     "text": [
      "Validation: 100%|██████████| 79/79 [00:00<00:00, 79.68it/s]\n"
     ]
    },
    {
     "name": "stdout",
     "output_type": "stream",
     "text": [
      "LOSS train 1.3354293986370689 valid 1.3389443159103394\n",
      "Epoch 47\n"
     ]
    },
    {
     "name": "stderr",
     "output_type": "stream",
     "text": [
      "Training: 100%|██████████| 391/391 [00:07<00:00, 51.01it/s]\n"
     ]
    },
    {
     "name": "stdout",
     "output_type": "stream",
     "text": [
      "Correct: 5063, Total: 10000, Accuracy: 0.51\n",
      "Accuracy: 50.629999999999995% (0.5063)\n",
      "Loss: 1.3160494503222013\n"
     ]
    },
    {
     "name": "stderr",
     "output_type": "stream",
     "text": [
      "Validation: 100%|██████████| 79/79 [00:00<00:00, 79.37it/s]\n"
     ]
    },
    {
     "name": "stdout",
     "output_type": "stream",
     "text": [
      "LOSS train 1.3160494503222013 valid 1.3475477695465088\n",
      "Saving model\n",
      "Epoch 48\n"
     ]
    },
    {
     "name": "stderr",
     "output_type": "stream",
     "text": [
      "Training: 100%|██████████| 391/391 [00:07<00:00, 50.93it/s]\n"
     ]
    },
    {
     "name": "stdout",
     "output_type": "stream",
     "text": [
      "Correct: 4983, Total: 10000, Accuracy: 0.50\n",
      "Accuracy: 49.830000000000005% (0.4983)\n",
      "Loss: 1.3178177758267051\n"
     ]
    },
    {
     "name": "stderr",
     "output_type": "stream",
     "text": [
      "Validation: 100%|██████████| 79/79 [00:00<00:00, 79.18it/s]\n"
     ]
    },
    {
     "name": "stdout",
     "output_type": "stream",
     "text": [
      "LOSS train 1.3178177758267051 valid 1.3681195974349976\n",
      "Epoch 49\n"
     ]
    },
    {
     "name": "stderr",
     "output_type": "stream",
     "text": [
      "Training: 100%|██████████| 391/391 [00:07<00:00, 51.11it/s]\n"
     ]
    },
    {
     "name": "stdout",
     "output_type": "stream",
     "text": [
      "Correct: 5174, Total: 10000, Accuracy: 0.52\n",
      "Accuracy: 51.739999999999995% (0.5174)\n",
      "Loss: 1.3156404934431378\n"
     ]
    },
    {
     "name": "stderr",
     "output_type": "stream",
     "text": [
      "Validation: 100%|██████████| 79/79 [00:00<00:00, 79.12it/s]\n"
     ]
    },
    {
     "name": "stdout",
     "output_type": "stream",
     "text": [
      "LOSS train 1.3156404934431378 valid 1.3268150091171265\n",
      "Saving model\n",
      "Epoch 50\n"
     ]
    },
    {
     "name": "stderr",
     "output_type": "stream",
     "text": [
      "Training: 100%|██████████| 391/391 [00:07<00:00, 50.87it/s]\n"
     ]
    },
    {
     "name": "stdout",
     "output_type": "stream",
     "text": [
      "Correct: 5048, Total: 10000, Accuracy: 0.50\n",
      "Accuracy: 50.480000000000004% (0.5048)\n",
      "Loss: 1.312720863442672\n"
     ]
    },
    {
     "name": "stderr",
     "output_type": "stream",
     "text": [
      "Validation: 100%|██████████| 79/79 [00:00<00:00, 79.52it/s]\n"
     ]
    },
    {
     "name": "stdout",
     "output_type": "stream",
     "text": [
      "LOSS train 1.312720863442672 valid 1.3423670530319214\n",
      "Saving model\n",
      "Epoch 51\n"
     ]
    },
    {
     "name": "stderr",
     "output_type": "stream",
     "text": [
      "Training: 100%|██████████| 391/391 [00:07<00:00, 51.02it/s]\n"
     ]
    },
    {
     "name": "stdout",
     "output_type": "stream",
     "text": [
      "Correct: 5219, Total: 10000, Accuracy: 0.52\n",
      "Accuracy: 52.190000000000005% (0.5219)\n",
      "Loss: 1.3274203601636385\n"
     ]
    },
    {
     "name": "stderr",
     "output_type": "stream",
     "text": [
      "Validation: 100%|██████████| 79/79 [00:00<00:00, 80.02it/s]\n"
     ]
    },
    {
     "name": "stdout",
     "output_type": "stream",
     "text": [
      "LOSS train 1.3274203601636385 valid 1.3148760795593262\n",
      "Epoch 52\n"
     ]
    },
    {
     "name": "stderr",
     "output_type": "stream",
     "text": [
      "Training: 100%|██████████| 391/391 [00:07<00:00, 51.22it/s]\n"
     ]
    },
    {
     "name": "stdout",
     "output_type": "stream",
     "text": [
      "Correct: 5143, Total: 10000, Accuracy: 0.51\n",
      "Accuracy: 51.43% (0.5143)\n",
      "Loss: 1.301486473334463\n"
     ]
    },
    {
     "name": "stderr",
     "output_type": "stream",
     "text": [
      "Validation: 100%|██████████| 79/79 [00:00<00:00, 79.44it/s]\n"
     ]
    },
    {
     "name": "stdout",
     "output_type": "stream",
     "text": [
      "LOSS train 1.301486473334463 valid 1.3207738399505615\n",
      "Saving model\n",
      "Epoch 53\n"
     ]
    },
    {
     "name": "stderr",
     "output_type": "stream",
     "text": [
      "Training: 100%|██████████| 391/391 [00:07<00:00, 50.74it/s]\n"
     ]
    },
    {
     "name": "stdout",
     "output_type": "stream",
     "text": [
      "Correct: 5234, Total: 10000, Accuracy: 0.52\n",
      "Accuracy: 52.339999999999996% (0.5234)\n",
      "Loss: 1.313163205196983\n"
     ]
    },
    {
     "name": "stderr",
     "output_type": "stream",
     "text": [
      "Validation: 100%|██████████| 79/79 [00:00<00:00, 79.51it/s]\n"
     ]
    },
    {
     "name": "stdout",
     "output_type": "stream",
     "text": [
      "LOSS train 1.313163205196983 valid 1.3065083026885986\n",
      "Epoch 54\n"
     ]
    },
    {
     "name": "stderr",
     "output_type": "stream",
     "text": [
      "Training: 100%|██████████| 391/391 [00:07<00:00, 51.05it/s]\n"
     ]
    },
    {
     "name": "stdout",
     "output_type": "stream",
     "text": [
      "Correct: 5222, Total: 10000, Accuracy: 0.52\n",
      "Accuracy: 52.22% (0.5222)\n",
      "Loss: 1.3500178487677323\n"
     ]
    },
    {
     "name": "stderr",
     "output_type": "stream",
     "text": [
      "Validation: 100%|██████████| 79/79 [00:00<00:00, 79.26it/s]\n"
     ]
    },
    {
     "name": "stdout",
     "output_type": "stream",
     "text": [
      "LOSS train 1.3500178487677323 valid 1.3123449087142944\n",
      "Epoch 55\n"
     ]
    },
    {
     "name": "stderr",
     "output_type": "stream",
     "text": [
      "Training: 100%|██████████| 391/391 [00:07<00:00, 51.06it/s]\n"
     ]
    },
    {
     "name": "stdout",
     "output_type": "stream",
     "text": [
      "Correct: 5285, Total: 10000, Accuracy: 0.53\n",
      "Accuracy: 52.849999999999994% (0.5285)\n",
      "Loss: 1.3006831344805265\n"
     ]
    },
    {
     "name": "stderr",
     "output_type": "stream",
     "text": [
      "Validation: 100%|██████████| 79/79 [00:00<00:00, 79.47it/s]\n"
     ]
    },
    {
     "name": "stdout",
     "output_type": "stream",
     "text": [
      "LOSS train 1.3006831344805265 valid 1.3034238815307617\n",
      "Saving model\n",
      "Epoch 56\n"
     ]
    },
    {
     "name": "stderr",
     "output_type": "stream",
     "text": [
      "Training: 100%|██████████| 391/391 [00:07<00:00, 51.20it/s]\n"
     ]
    },
    {
     "name": "stdout",
     "output_type": "stream",
     "text": [
      "Correct: 5267, Total: 10000, Accuracy: 0.53\n",
      "Accuracy: 52.669999999999995% (0.5267)\n",
      "Loss: 1.305646162284048\n"
     ]
    },
    {
     "name": "stderr",
     "output_type": "stream",
     "text": [
      "Validation: 100%|██████████| 79/79 [00:00<00:00, 80.44it/s]\n"
     ]
    },
    {
     "name": "stdout",
     "output_type": "stream",
     "text": [
      "LOSS train 1.305646162284048 valid 1.3093149662017822\n",
      "Epoch 57\n"
     ]
    },
    {
     "name": "stderr",
     "output_type": "stream",
     "text": [
      "Training: 100%|██████████| 391/391 [00:07<00:00, 51.21it/s]\n"
     ]
    },
    {
     "name": "stdout",
     "output_type": "stream",
     "text": [
      "Correct: 5204, Total: 10000, Accuracy: 0.52\n",
      "Accuracy: 52.04% (0.5204)\n",
      "Loss: 1.271410214273553\n"
     ]
    },
    {
     "name": "stderr",
     "output_type": "stream",
     "text": [
      "Validation: 100%|██████████| 79/79 [00:00<00:00, 80.19it/s]\n"
     ]
    },
    {
     "name": "stdout",
     "output_type": "stream",
     "text": [
      "LOSS train 1.271410214273553 valid 1.3147066831588745\n",
      "Saving model\n",
      "Epoch 58\n"
     ]
    },
    {
     "name": "stderr",
     "output_type": "stream",
     "text": [
      "Training: 100%|██████████| 391/391 [00:07<00:00, 51.27it/s]\n"
     ]
    },
    {
     "name": "stdout",
     "output_type": "stream",
     "text": [
      "Correct: 5264, Total: 10000, Accuracy: 0.53\n",
      "Accuracy: 52.64% (0.5264)\n",
      "Loss: 1.260903935683401\n"
     ]
    },
    {
     "name": "stderr",
     "output_type": "stream",
     "text": [
      "Validation: 100%|██████████| 79/79 [00:00<00:00, 79.66it/s]\n"
     ]
    },
    {
     "name": "stdout",
     "output_type": "stream",
     "text": [
      "LOSS train 1.260903935683401 valid 1.2976245880126953\n",
      "Saving model\n",
      "Epoch 59\n"
     ]
    },
    {
     "name": "stderr",
     "output_type": "stream",
     "text": [
      "Training: 100%|██████████| 391/391 [00:07<00:00, 51.33it/s]\n"
     ]
    },
    {
     "name": "stdout",
     "output_type": "stream",
     "text": [
      "Correct: 5307, Total: 10000, Accuracy: 0.53\n",
      "Accuracy: 53.06999999999999% (0.5307)\n",
      "Loss: 1.2517523138146651\n"
     ]
    },
    {
     "name": "stderr",
     "output_type": "stream",
     "text": [
      "Validation: 100%|██████████| 79/79 [00:00<00:00, 79.61it/s]\n"
     ]
    },
    {
     "name": "stdout",
     "output_type": "stream",
     "text": [
      "LOSS train 1.2517523138146651 valid 1.3060096502304077\n",
      "Saving model\n",
      "Epoch 60\n"
     ]
    },
    {
     "name": "stderr",
     "output_type": "stream",
     "text": [
      "Training: 100%|██████████| 391/391 [00:07<00:00, 51.32it/s]\n"
     ]
    },
    {
     "name": "stdout",
     "output_type": "stream",
     "text": [
      "Correct: 5399, Total: 10000, Accuracy: 0.54\n",
      "Accuracy: 53.99% (0.5399)\n",
      "Loss: 1.269661219496476\n"
     ]
    },
    {
     "name": "stderr",
     "output_type": "stream",
     "text": [
      "Validation: 100%|██████████| 79/79 [00:00<00:00, 80.51it/s]\n"
     ]
    },
    {
     "name": "stdout",
     "output_type": "stream",
     "text": [
      "LOSS train 1.269661219496476 valid 1.2787309885025024\n",
      "Epoch 61\n"
     ]
    },
    {
     "name": "stderr",
     "output_type": "stream",
     "text": [
      "Training: 100%|██████████| 391/391 [00:07<00:00, 51.23it/s]\n"
     ]
    },
    {
     "name": "stdout",
     "output_type": "stream",
     "text": [
      "Correct: 5292, Total: 10000, Accuracy: 0.53\n",
      "Accuracy: 52.92% (0.5292)\n",
      "Loss: 1.2739173989546926\n"
     ]
    },
    {
     "name": "stderr",
     "output_type": "stream",
     "text": [
      "Validation: 100%|██████████| 79/79 [00:00<00:00, 80.00it/s]\n"
     ]
    },
    {
     "name": "stdout",
     "output_type": "stream",
     "text": [
      "LOSS train 1.2739173989546926 valid 1.3011059761047363\n",
      "Epoch 62\n"
     ]
    },
    {
     "name": "stderr",
     "output_type": "stream",
     "text": [
      "Training: 100%|██████████| 391/391 [00:07<00:00, 51.19it/s]\n"
     ]
    },
    {
     "name": "stdout",
     "output_type": "stream",
     "text": [
      "Correct: 5306, Total: 10000, Accuracy: 0.53\n",
      "Accuracy: 53.059999999999995% (0.5306)\n",
      "Loss: 1.2526230121913708\n"
     ]
    },
    {
     "name": "stderr",
     "output_type": "stream",
     "text": [
      "Validation: 100%|██████████| 79/79 [00:00<00:00, 80.06it/s]\n"
     ]
    },
    {
     "name": "stdout",
     "output_type": "stream",
     "text": [
      "LOSS train 1.2526230121913708 valid 1.293334722518921\n",
      "Epoch 63\n"
     ]
    },
    {
     "name": "stderr",
     "output_type": "stream",
     "text": [
      "Training: 100%|██████████| 391/391 [00:07<00:00, 51.29it/s]\n"
     ]
    },
    {
     "name": "stdout",
     "output_type": "stream",
     "text": [
      "Correct: 5373, Total: 10000, Accuracy: 0.54\n",
      "Accuracy: 53.73% (0.5373)\n",
      "Loss: 1.223172614448949\n"
     ]
    },
    {
     "name": "stderr",
     "output_type": "stream",
     "text": [
      "Validation: 100%|██████████| 79/79 [00:00<00:00, 80.39it/s]\n"
     ]
    },
    {
     "name": "stdout",
     "output_type": "stream",
     "text": [
      "LOSS train 1.223172614448949 valid 1.2925677299499512\n",
      "Saving model\n",
      "Epoch 64\n"
     ]
    },
    {
     "name": "stderr",
     "output_type": "stream",
     "text": [
      "Training: 100%|██████████| 391/391 [00:07<00:00, 51.27it/s]\n"
     ]
    },
    {
     "name": "stdout",
     "output_type": "stream",
     "text": [
      "Correct: 5433, Total: 10000, Accuracy: 0.54\n",
      "Accuracy: 54.33% (0.5433)\n",
      "Loss: 1.257297346466466\n"
     ]
    },
    {
     "name": "stderr",
     "output_type": "stream",
     "text": [
      "Validation: 100%|██████████| 79/79 [00:00<00:00, 80.09it/s]\n"
     ]
    },
    {
     "name": "stdout",
     "output_type": "stream",
     "text": [
      "LOSS train 1.257297346466466 valid 1.2764722108840942\n",
      "Epoch 65\n"
     ]
    },
    {
     "name": "stderr",
     "output_type": "stream",
     "text": [
      "Training: 100%|██████████| 391/391 [00:07<00:00, 51.20it/s]\n"
     ]
    },
    {
     "name": "stdout",
     "output_type": "stream",
     "text": [
      "Correct: 5393, Total: 10000, Accuracy: 0.54\n",
      "Accuracy: 53.93% (0.5393)\n",
      "Loss: 1.2282600089123374\n"
     ]
    },
    {
     "name": "stderr",
     "output_type": "stream",
     "text": [
      "Validation: 100%|██████████| 79/79 [00:00<00:00, 79.07it/s]\n"
     ]
    },
    {
     "name": "stdout",
     "output_type": "stream",
     "text": [
      "LOSS train 1.2282600089123374 valid 1.2850215435028076\n",
      "Epoch 66\n"
     ]
    },
    {
     "name": "stderr",
     "output_type": "stream",
     "text": [
      "Training: 100%|██████████| 391/391 [00:07<00:00, 50.96it/s]\n"
     ]
    },
    {
     "name": "stdout",
     "output_type": "stream",
     "text": [
      "Correct: 5428, Total: 10000, Accuracy: 0.54\n",
      "Accuracy: 54.279999999999994% (0.5428)\n",
      "Loss: 1.209636311782034\n"
     ]
    },
    {
     "name": "stderr",
     "output_type": "stream",
     "text": [
      "Validation: 100%|██████████| 79/79 [00:00<00:00, 79.82it/s]\n"
     ]
    },
    {
     "name": "stdout",
     "output_type": "stream",
     "text": [
      "LOSS train 1.209636311782034 valid 1.2669193744659424\n",
      "Saving model\n",
      "Epoch 67\n"
     ]
    },
    {
     "name": "stderr",
     "output_type": "stream",
     "text": [
      "Training: 100%|██████████| 391/391 [00:07<00:00, 51.28it/s]\n"
     ]
    },
    {
     "name": "stdout",
     "output_type": "stream",
     "text": [
      "Correct: 5352, Total: 10000, Accuracy: 0.54\n",
      "Accuracy: 53.52% (0.5352)\n",
      "Loss: 1.2144173195487575\n"
     ]
    },
    {
     "name": "stderr",
     "output_type": "stream",
     "text": [
      "Validation: 100%|██████████| 79/79 [00:00<00:00, 79.63it/s]\n"
     ]
    },
    {
     "name": "stdout",
     "output_type": "stream",
     "text": [
      "LOSS train 1.2144173195487575 valid 1.2728561162948608\n",
      "Epoch 68\n"
     ]
    },
    {
     "name": "stderr",
     "output_type": "stream",
     "text": [
      "Training: 100%|██████████| 391/391 [00:07<00:00, 51.20it/s]\n"
     ]
    },
    {
     "name": "stdout",
     "output_type": "stream",
     "text": [
      "Correct: 5447, Total: 10000, Accuracy: 0.54\n",
      "Accuracy: 54.47% (0.5447)\n",
      "Loss: 1.2407277069593732\n"
     ]
    },
    {
     "name": "stderr",
     "output_type": "stream",
     "text": [
      "Validation: 100%|██████████| 79/79 [00:00<00:00, 79.53it/s]\n"
     ]
    },
    {
     "name": "stdout",
     "output_type": "stream",
     "text": [
      "LOSS train 1.2407277069593732 valid 1.257750391960144\n",
      "Epoch 69\n"
     ]
    },
    {
     "name": "stderr",
     "output_type": "stream",
     "text": [
      "Training: 100%|██████████| 391/391 [00:07<00:00, 51.23it/s]\n"
     ]
    },
    {
     "name": "stdout",
     "output_type": "stream",
     "text": [
      "Correct: 5452, Total: 10000, Accuracy: 0.55\n",
      "Accuracy: 54.52% (0.5452)\n",
      "Loss: 1.2317774797740735\n"
     ]
    },
    {
     "name": "stderr",
     "output_type": "stream",
     "text": [
      "Validation: 100%|██████████| 79/79 [00:00<00:00, 79.92it/s]\n"
     ]
    },
    {
     "name": "stdout",
     "output_type": "stream",
     "text": [
      "LOSS train 1.2317774797740735 valid 1.270124912261963\n",
      "Epoch 70\n"
     ]
    },
    {
     "name": "stderr",
     "output_type": "stream",
     "text": [
      "Training: 100%|██████████| 391/391 [00:07<00:00, 51.29it/s]\n"
     ]
    },
    {
     "name": "stdout",
     "output_type": "stream",
     "text": [
      "Correct: 5351, Total: 10000, Accuracy: 0.54\n",
      "Accuracy: 53.510000000000005% (0.5351)\n",
      "Loss: 1.2297694934041876\n"
     ]
    },
    {
     "name": "stderr",
     "output_type": "stream",
     "text": [
      "Validation: 100%|██████████| 79/79 [00:00<00:00, 79.36it/s]\n"
     ]
    },
    {
     "name": "stdout",
     "output_type": "stream",
     "text": [
      "LOSS train 1.2297694934041876 valid 1.2788243293762207\n",
      "Epoch 71\n"
     ]
    },
    {
     "name": "stderr",
     "output_type": "stream",
     "text": [
      "Training: 100%|██████████| 391/391 [00:07<00:00, 51.37it/s]\n"
     ]
    },
    {
     "name": "stdout",
     "output_type": "stream",
     "text": [
      "Correct: 5443, Total: 10000, Accuracy: 0.54\n",
      "Accuracy: 54.43% (0.5443)\n",
      "Loss: 1.213098036615472\n"
     ]
    },
    {
     "name": "stderr",
     "output_type": "stream",
     "text": [
      "Validation: 100%|██████████| 79/79 [00:00<00:00, 80.68it/s]\n"
     ]
    },
    {
     "name": "stdout",
     "output_type": "stream",
     "text": [
      "LOSS train 1.213098036615472 valid 1.2506088018417358\n",
      "Epoch 72\n"
     ]
    },
    {
     "name": "stderr",
     "output_type": "stream",
     "text": [
      "Training: 100%|██████████| 391/391 [00:07<00:00, 51.37it/s]\n"
     ]
    },
    {
     "name": "stdout",
     "output_type": "stream",
     "text": [
      "Correct: 5524, Total: 10000, Accuracy: 0.55\n",
      "Accuracy: 55.24% (0.5524)\n",
      "Loss: 1.2219052942175614\n"
     ]
    },
    {
     "name": "stderr",
     "output_type": "stream",
     "text": [
      "Validation: 100%|██████████| 79/79 [00:00<00:00, 79.90it/s]\n"
     ]
    },
    {
     "name": "stdout",
     "output_type": "stream",
     "text": [
      "LOSS train 1.2219052942175614 valid 1.2546007633209229\n",
      "Epoch 73\n"
     ]
    },
    {
     "name": "stderr",
     "output_type": "stream",
     "text": [
      "Training: 100%|██████████| 391/391 [00:07<00:00, 51.28it/s]\n"
     ]
    },
    {
     "name": "stdout",
     "output_type": "stream",
     "text": [
      "Correct: 5564, Total: 10000, Accuracy: 0.56\n",
      "Accuracy: 55.64% (0.5564)\n",
      "Loss: 1.2355388653905768\n"
     ]
    },
    {
     "name": "stderr",
     "output_type": "stream",
     "text": [
      "Validation: 100%|██████████| 79/79 [00:00<00:00, 79.51it/s]\n"
     ]
    },
    {
     "name": "stdout",
     "output_type": "stream",
     "text": [
      "LOSS train 1.2355388653905768 valid 1.23507821559906\n",
      "Epoch 74\n"
     ]
    },
    {
     "name": "stderr",
     "output_type": "stream",
     "text": [
      "Training: 100%|██████████| 391/391 [00:07<00:00, 51.31it/s]\n"
     ]
    },
    {
     "name": "stdout",
     "output_type": "stream",
     "text": [
      "Correct: 5463, Total: 10000, Accuracy: 0.55\n",
      "Accuracy: 54.63% (0.5463)\n",
      "Loss: 1.219510505073949\n"
     ]
    },
    {
     "name": "stderr",
     "output_type": "stream",
     "text": [
      "Validation: 100%|██████████| 79/79 [00:00<00:00, 79.57it/s]\n"
     ]
    },
    {
     "name": "stdout",
     "output_type": "stream",
     "text": [
      "LOSS train 1.219510505073949 valid 1.255995750427246\n",
      "Epoch 75\n"
     ]
    },
    {
     "name": "stderr",
     "output_type": "stream",
     "text": [
      "Training: 100%|██████████| 391/391 [00:07<00:00, 51.34it/s]\n"
     ]
    },
    {
     "name": "stdout",
     "output_type": "stream",
     "text": [
      "Correct: 5453, Total: 10000, Accuracy: 0.55\n",
      "Accuracy: 54.53% (0.5453)\n",
      "Loss: 1.1980227357462834\n"
     ]
    },
    {
     "name": "stderr",
     "output_type": "stream",
     "text": [
      "Validation: 100%|██████████| 79/79 [00:00<00:00, 79.48it/s]\n"
     ]
    },
    {
     "name": "stdout",
     "output_type": "stream",
     "text": [
      "LOSS train 1.1980227357462834 valid 1.2613983154296875\n",
      "Saving model\n",
      "Epoch 76\n"
     ]
    },
    {
     "name": "stderr",
     "output_type": "stream",
     "text": [
      "Training: 100%|██████████| 391/391 [00:07<00:00, 51.25it/s]\n"
     ]
    },
    {
     "name": "stdout",
     "output_type": "stream",
     "text": [
      "Correct: 5545, Total: 10000, Accuracy: 0.55\n",
      "Accuracy: 55.45% (0.5545)\n",
      "Loss: 1.2102231728403192\n"
     ]
    },
    {
     "name": "stderr",
     "output_type": "stream",
     "text": [
      "Validation: 100%|██████████| 79/79 [00:00<00:00, 79.48it/s]\n"
     ]
    },
    {
     "name": "stdout",
     "output_type": "stream",
     "text": [
      "LOSS train 1.2102231728403192 valid 1.2400976419448853\n",
      "Epoch 77\n"
     ]
    },
    {
     "name": "stderr",
     "output_type": "stream",
     "text": [
      "Training: 100%|██████████| 391/391 [00:07<00:00, 51.24it/s]\n"
     ]
    },
    {
     "name": "stdout",
     "output_type": "stream",
     "text": [
      "Correct: 5551, Total: 10000, Accuracy: 0.56\n",
      "Accuracy: 55.510000000000005% (0.5551)\n",
      "Loss: 1.2431647024656598\n"
     ]
    },
    {
     "name": "stderr",
     "output_type": "stream",
     "text": [
      "Validation: 100%|██████████| 79/79 [00:00<00:00, 79.34it/s]\n"
     ]
    },
    {
     "name": "stdout",
     "output_type": "stream",
     "text": [
      "LOSS train 1.2431647024656598 valid 1.228188395500183\n",
      "Epoch 78\n"
     ]
    },
    {
     "name": "stderr",
     "output_type": "stream",
     "text": [
      "Training: 100%|██████████| 391/391 [00:07<00:00, 50.91it/s]\n"
     ]
    },
    {
     "name": "stdout",
     "output_type": "stream",
     "text": [
      "Correct: 5574, Total: 10000, Accuracy: 0.56\n",
      "Accuracy: 55.74% (0.5574)\n",
      "Loss: 1.2162408138576306\n"
     ]
    },
    {
     "name": "stderr",
     "output_type": "stream",
     "text": [
      "Validation: 100%|██████████| 79/79 [00:00<00:00, 79.55it/s]\n"
     ]
    },
    {
     "name": "stdout",
     "output_type": "stream",
     "text": [
      "LOSS train 1.2162408138576306 valid 1.2303248643875122\n",
      "Epoch 79\n"
     ]
    },
    {
     "name": "stderr",
     "output_type": "stream",
     "text": [
      "Training: 100%|██████████| 391/391 [00:07<00:00, 51.20it/s]\n"
     ]
    },
    {
     "name": "stdout",
     "output_type": "stream",
     "text": [
      "Correct: 5561, Total: 10000, Accuracy: 0.56\n",
      "Accuracy: 55.61000000000001% (0.5561)\n",
      "Loss: 1.183986108554037\n"
     ]
    },
    {
     "name": "stderr",
     "output_type": "stream",
     "text": [
      "Validation: 100%|██████████| 79/79 [00:00<00:00, 79.31it/s]\n"
     ]
    },
    {
     "name": "stdout",
     "output_type": "stream",
     "text": [
      "LOSS train 1.183986108554037 valid 1.2258318662643433\n",
      "Saving model\n",
      "Epoch 80\n"
     ]
    },
    {
     "name": "stderr",
     "output_type": "stream",
     "text": [
      "Training: 100%|██████████| 391/391 [00:07<00:00, 51.20it/s]\n"
     ]
    },
    {
     "name": "stdout",
     "output_type": "stream",
     "text": [
      "Correct: 5626, Total: 10000, Accuracy: 0.56\n",
      "Accuracy: 56.26% (0.5626)\n",
      "Loss: 1.2165427992218418\n"
     ]
    },
    {
     "name": "stderr",
     "output_type": "stream",
     "text": [
      "Validation: 100%|██████████| 79/79 [00:00<00:00, 79.89it/s]\n"
     ]
    },
    {
     "name": "stdout",
     "output_type": "stream",
     "text": [
      "LOSS train 1.2165427992218418 valid 1.2220150232315063\n",
      "Epoch 81\n"
     ]
    },
    {
     "name": "stderr",
     "output_type": "stream",
     "text": [
      "Training: 100%|██████████| 391/391 [00:07<00:00, 51.40it/s]\n"
     ]
    },
    {
     "name": "stdout",
     "output_type": "stream",
     "text": [
      "Correct: 5327, Total: 10000, Accuracy: 0.53\n",
      "Accuracy: 53.269999999999996% (0.5327)\n",
      "Loss: 1.1916741697411788\n"
     ]
    },
    {
     "name": "stderr",
     "output_type": "stream",
     "text": [
      "Validation: 100%|██████████| 79/79 [00:00<00:00, 79.57it/s]\n"
     ]
    },
    {
     "name": "stdout",
     "output_type": "stream",
     "text": [
      "LOSS train 1.1916741697411788 valid 1.2839828729629517\n",
      "Epoch 82\n"
     ]
    },
    {
     "name": "stderr",
     "output_type": "stream",
     "text": [
      "Training: 100%|██████████| 391/391 [00:07<00:00, 51.37it/s]\n"
     ]
    },
    {
     "name": "stdout",
     "output_type": "stream",
     "text": [
      "Correct: 5556, Total: 10000, Accuracy: 0.56\n",
      "Accuracy: 55.559999999999995% (0.5556)\n",
      "Loss: 1.147325358892742\n"
     ]
    },
    {
     "name": "stderr",
     "output_type": "stream",
     "text": [
      "Validation: 100%|██████████| 79/79 [00:00<00:00, 79.68it/s]\n"
     ]
    },
    {
     "name": "stdout",
     "output_type": "stream",
     "text": [
      "LOSS train 1.147325358892742 valid 1.222133994102478\n",
      "Saving model\n",
      "Epoch 83\n"
     ]
    },
    {
     "name": "stderr",
     "output_type": "stream",
     "text": [
      "Training: 100%|██████████| 391/391 [00:07<00:00, 51.31it/s]\n"
     ]
    },
    {
     "name": "stdout",
     "output_type": "stream",
     "text": [
      "Correct: 5533, Total: 10000, Accuracy: 0.55\n",
      "Accuracy: 55.33% (0.5533)\n",
      "Loss: 1.1641278957065784\n"
     ]
    },
    {
     "name": "stderr",
     "output_type": "stream",
     "text": [
      "Validation: 100%|██████████| 79/79 [00:00<00:00, 79.78it/s]\n"
     ]
    },
    {
     "name": "stdout",
     "output_type": "stream",
     "text": [
      "LOSS train 1.1641278957065784 valid 1.2255510091781616\n",
      "Epoch 84\n"
     ]
    },
    {
     "name": "stderr",
     "output_type": "stream",
     "text": [
      "Training: 100%|██████████| 391/391 [00:07<00:00, 51.27it/s]\n"
     ]
    },
    {
     "name": "stdout",
     "output_type": "stream",
     "text": [
      "Correct: 5603, Total: 10000, Accuracy: 0.56\n",
      "Accuracy: 56.03% (0.5603)\n",
      "Loss: 1.1485201841906498\n"
     ]
    },
    {
     "name": "stderr",
     "output_type": "stream",
     "text": [
      "Validation: 100%|██████████| 79/79 [00:00<00:00, 79.93it/s]\n"
     ]
    },
    {
     "name": "stdout",
     "output_type": "stream",
     "text": [
      "LOSS train 1.1485201841906498 valid 1.214659333229065\n",
      "Epoch 85\n"
     ]
    },
    {
     "name": "stderr",
     "output_type": "stream",
     "text": [
      "Training: 100%|██████████| 391/391 [00:07<00:00, 51.27it/s]\n"
     ]
    },
    {
     "name": "stdout",
     "output_type": "stream",
     "text": [
      "Correct: 5512, Total: 10000, Accuracy: 0.55\n",
      "Accuracy: 55.120000000000005% (0.5512)\n",
      "Loss: 1.1953687981555337\n"
     ]
    },
    {
     "name": "stderr",
     "output_type": "stream",
     "text": [
      "Validation: 100%|██████████| 79/79 [00:00<00:00, 80.05it/s]\n"
     ]
    },
    {
     "name": "stdout",
     "output_type": "stream",
     "text": [
      "LOSS train 1.1953687981555337 valid 1.2348793745040894\n",
      "Epoch 86\n"
     ]
    },
    {
     "name": "stderr",
     "output_type": "stream",
     "text": [
      "Training: 100%|██████████| 391/391 [00:07<00:00, 51.20it/s]\n"
     ]
    },
    {
     "name": "stdout",
     "output_type": "stream",
     "text": [
      "Correct: 5584, Total: 10000, Accuracy: 0.56\n",
      "Accuracy: 55.84% (0.5584)\n",
      "Loss: 1.1747212347231413\n"
     ]
    },
    {
     "name": "stderr",
     "output_type": "stream",
     "text": [
      "Validation: 100%|██████████| 79/79 [00:00<00:00, 79.60it/s]\n"
     ]
    },
    {
     "name": "stdout",
     "output_type": "stream",
     "text": [
      "LOSS train 1.1747212347231413 valid 1.2162731885910034\n",
      "Epoch 87\n"
     ]
    },
    {
     "name": "stderr",
     "output_type": "stream",
     "text": [
      "Training: 100%|██████████| 391/391 [00:07<00:00, 51.16it/s]\n"
     ]
    },
    {
     "name": "stdout",
     "output_type": "stream",
     "text": [
      "Correct: 5640, Total: 10000, Accuracy: 0.56\n",
      "Accuracy: 56.39999999999999% (0.564)\n",
      "Loss: 1.136834276349921\n"
     ]
    },
    {
     "name": "stderr",
     "output_type": "stream",
     "text": [
      "Validation: 100%|██████████| 79/79 [00:00<00:00, 79.57it/s]\n"
     ]
    },
    {
     "name": "stdout",
     "output_type": "stream",
     "text": [
      "LOSS train 1.136834276349921 valid 1.218386173248291\n",
      "Saving model\n",
      "Epoch 88\n"
     ]
    },
    {
     "name": "stderr",
     "output_type": "stream",
     "text": [
      "Training: 100%|██████████| 391/391 [00:07<00:00, 51.14it/s]\n"
     ]
    },
    {
     "name": "stdout",
     "output_type": "stream",
     "text": [
      "Correct: 5647, Total: 10000, Accuracy: 0.56\n",
      "Accuracy: 56.47% (0.5647)\n",
      "Loss: 1.1476455111252635\n"
     ]
    },
    {
     "name": "stderr",
     "output_type": "stream",
     "text": [
      "Validation: 100%|██████████| 79/79 [00:00<00:00, 79.56it/s]\n"
     ]
    },
    {
     "name": "stdout",
     "output_type": "stream",
     "text": [
      "LOSS train 1.1476455111252635 valid 1.2042317390441895\n",
      "Epoch 89\n"
     ]
    },
    {
     "name": "stderr",
     "output_type": "stream",
     "text": [
      "Training: 100%|██████████| 391/391 [00:07<00:00, 51.10it/s]\n"
     ]
    },
    {
     "name": "stdout",
     "output_type": "stream",
     "text": [
      "Correct: 5633, Total: 10000, Accuracy: 0.56\n",
      "Accuracy: 56.330000000000005% (0.5633)\n",
      "Loss: 1.1885333563152112\n"
     ]
    },
    {
     "name": "stderr",
     "output_type": "stream",
     "text": [
      "Validation: 100%|██████████| 79/79 [00:00<00:00, 79.61it/s]\n"
     ]
    },
    {
     "name": "stdout",
     "output_type": "stream",
     "text": [
      "LOSS train 1.1885333563152112 valid 1.2047498226165771\n",
      "Epoch 90\n"
     ]
    },
    {
     "name": "stderr",
     "output_type": "stream",
     "text": [
      "Training: 100%|██████████| 391/391 [00:07<00:00, 51.17it/s]\n"
     ]
    },
    {
     "name": "stdout",
     "output_type": "stream",
     "text": [
      "Correct: 5534, Total: 10000, Accuracy: 0.55\n",
      "Accuracy: 55.34% (0.5534)\n",
      "Loss: 1.1868865991893567\n"
     ]
    },
    {
     "name": "stderr",
     "output_type": "stream",
     "text": [
      "Validation: 100%|██████████| 79/79 [00:00<00:00, 79.51it/s]\n"
     ]
    },
    {
     "name": "stdout",
     "output_type": "stream",
     "text": [
      "LOSS train 1.1868865991893567 valid 1.2309235334396362\n",
      "Epoch 91\n"
     ]
    },
    {
     "name": "stderr",
     "output_type": "stream",
     "text": [
      "Training: 100%|██████████| 391/391 [00:07<00:00, 51.20it/s]\n"
     ]
    },
    {
     "name": "stdout",
     "output_type": "stream",
     "text": [
      "Correct: 5482, Total: 10000, Accuracy: 0.55\n",
      "Accuracy: 54.82% (0.5482)\n",
      "Loss: 1.1356490223031295\n"
     ]
    },
    {
     "name": "stderr",
     "output_type": "stream",
     "text": [
      "Validation: 100%|██████████| 79/79 [00:00<00:00, 79.84it/s]\n"
     ]
    },
    {
     "name": "stdout",
     "output_type": "stream",
     "text": [
      "LOSS train 1.1356490223031295 valid 1.2346314191818237\n",
      "Saving model\n",
      "Epoch 92\n"
     ]
    },
    {
     "name": "stderr",
     "output_type": "stream",
     "text": [
      "Training: 100%|██████████| 391/391 [00:07<00:00, 51.28it/s]\n"
     ]
    },
    {
     "name": "stdout",
     "output_type": "stream",
     "text": [
      "Correct: 5621, Total: 10000, Accuracy: 0.56\n",
      "Accuracy: 56.21000000000001% (0.5621)\n",
      "Loss: 1.1670472966997247\n"
     ]
    },
    {
     "name": "stderr",
     "output_type": "stream",
     "text": [
      "Validation: 100%|██████████| 79/79 [00:00<00:00, 79.72it/s]\n"
     ]
    },
    {
     "name": "stdout",
     "output_type": "stream",
     "text": [
      "LOSS train 1.1670472966997247 valid 1.2171400785446167\n",
      "Epoch 93\n"
     ]
    },
    {
     "name": "stderr",
     "output_type": "stream",
     "text": [
      "Training: 100%|██████████| 391/391 [00:07<00:00, 51.21it/s]\n"
     ]
    },
    {
     "name": "stdout",
     "output_type": "stream",
     "text": [
      "Correct: 5588, Total: 10000, Accuracy: 0.56\n",
      "Accuracy: 55.879999999999995% (0.5588)\n",
      "Loss: 1.2038687906767194\n"
     ]
    },
    {
     "name": "stderr",
     "output_type": "stream",
     "text": [
      "Validation: 100%|██████████| 79/79 [00:00<00:00, 80.10it/s]\n"
     ]
    },
    {
     "name": "stdout",
     "output_type": "stream",
     "text": [
      "LOSS train 1.2038687906767194 valid 1.2247999906539917\n",
      "Epoch 94\n"
     ]
    },
    {
     "name": "stderr",
     "output_type": "stream",
     "text": [
      "Training: 100%|██████████| 391/391 [00:07<00:00, 51.21it/s]\n"
     ]
    },
    {
     "name": "stdout",
     "output_type": "stream",
     "text": [
      "Correct: 5688, Total: 10000, Accuracy: 0.57\n",
      "Accuracy: 56.879999999999995% (0.5688)\n",
      "Loss: 1.1686017074083026\n"
     ]
    },
    {
     "name": "stderr",
     "output_type": "stream",
     "text": [
      "Validation: 100%|██████████| 79/79 [00:00<00:00, 79.98it/s]\n"
     ]
    },
    {
     "name": "stdout",
     "output_type": "stream",
     "text": [
      "LOSS train 1.1686017074083026 valid 1.193491816520691\n",
      "Epoch 95\n"
     ]
    },
    {
     "name": "stderr",
     "output_type": "stream",
     "text": [
      "Training: 100%|██████████| 391/391 [00:07<00:00, 51.26it/s]\n"
     ]
    },
    {
     "name": "stdout",
     "output_type": "stream",
     "text": [
      "Correct: 5661, Total: 10000, Accuracy: 0.57\n",
      "Accuracy: 56.61000000000001% (0.5661)\n",
      "Loss: 1.1111680833916915\n"
     ]
    },
    {
     "name": "stderr",
     "output_type": "stream",
     "text": [
      "Validation: 100%|██████████| 79/79 [00:00<00:00, 80.52it/s]\n"
     ]
    },
    {
     "name": "stdout",
     "output_type": "stream",
     "text": [
      "LOSS train 1.1111680833916915 valid 1.1985348463058472\n",
      "Saving model\n",
      "Epoch 96\n"
     ]
    },
    {
     "name": "stderr",
     "output_type": "stream",
     "text": [
      "Training: 100%|██████████| 391/391 [00:07<00:00, 51.18it/s]\n"
     ]
    },
    {
     "name": "stdout",
     "output_type": "stream",
     "text": [
      "Correct: 5682, Total: 10000, Accuracy: 0.57\n",
      "Accuracy: 56.82000000000001% (0.5682)\n",
      "Loss: 1.097719016828035\n"
     ]
    },
    {
     "name": "stderr",
     "output_type": "stream",
     "text": [
      "Validation: 100%|██████████| 79/79 [00:00<00:00, 79.57it/s]\n"
     ]
    },
    {
     "name": "stdout",
     "output_type": "stream",
     "text": [
      "LOSS train 1.097719016828035 valid 1.1976017951965332\n",
      "Saving model\n",
      "Epoch 97\n"
     ]
    },
    {
     "name": "stderr",
     "output_type": "stream",
     "text": [
      "Training: 100%|██████████| 391/391 [00:07<00:00, 51.19it/s]\n"
     ]
    },
    {
     "name": "stdout",
     "output_type": "stream",
     "text": [
      "Correct: 5679, Total: 10000, Accuracy: 0.57\n",
      "Accuracy: 56.79% (0.5679)\n",
      "Loss: 1.1400085844491656\n"
     ]
    },
    {
     "name": "stderr",
     "output_type": "stream",
     "text": [
      "Validation: 100%|██████████| 79/79 [00:00<00:00, 79.56it/s]\n"
     ]
    },
    {
     "name": "stdout",
     "output_type": "stream",
     "text": [
      "LOSS train 1.1400085844491656 valid 1.186937689781189\n",
      "Epoch 98\n"
     ]
    },
    {
     "name": "stderr",
     "output_type": "stream",
     "text": [
      "Training: 100%|██████████| 391/391 [00:07<00:00, 51.18it/s]\n"
     ]
    },
    {
     "name": "stdout",
     "output_type": "stream",
     "text": [
      "Correct: 5646, Total: 10000, Accuracy: 0.56\n",
      "Accuracy: 56.46% (0.5646)\n",
      "Loss: 1.1239297139017206\n"
     ]
    },
    {
     "name": "stderr",
     "output_type": "stream",
     "text": [
      "Validation: 100%|██████████| 79/79 [00:00<00:00, 79.52it/s]\n"
     ]
    },
    {
     "name": "stdout",
     "output_type": "stream",
     "text": [
      "LOSS train 1.1239297139017206 valid 1.2005822658538818\n",
      "Epoch 99\n"
     ]
    },
    {
     "name": "stderr",
     "output_type": "stream",
     "text": [
      "Training: 100%|██████████| 391/391 [00:07<00:00, 51.12it/s]\n"
     ]
    },
    {
     "name": "stdout",
     "output_type": "stream",
     "text": [
      "Correct: 5727, Total: 10000, Accuracy: 0.57\n",
      "Accuracy: 57.269999999999996% (0.5727)\n",
      "Loss: 1.1157033945384778\n"
     ]
    },
    {
     "name": "stderr",
     "output_type": "stream",
     "text": [
      "Validation: 100%|██████████| 79/79 [00:00<00:00, 79.53it/s]\n"
     ]
    },
    {
     "name": "stdout",
     "output_type": "stream",
     "text": [
      "LOSS train 1.1157033945384778 valid 1.183122992515564\n",
      "Epoch 100\n"
     ]
    },
    {
     "name": "stderr",
     "output_type": "stream",
     "text": [
      "Training: 100%|██████████| 391/391 [00:07<00:00, 51.28it/s]\n"
     ]
    },
    {
     "name": "stdout",
     "output_type": "stream",
     "text": [
      "Correct: 5706, Total: 10000, Accuracy: 0.57\n",
      "Accuracy: 57.06% (0.5706)\n",
      "Loss: 1.127531205352984\n"
     ]
    },
    {
     "name": "stderr",
     "output_type": "stream",
     "text": [
      "Validation: 100%|██████████| 79/79 [00:00<00:00, 79.94it/s]\n"
     ]
    },
    {
     "name": "stdout",
     "output_type": "stream",
     "text": [
      "LOSS train 1.127531205352984 valid 1.1898376941680908\n",
      "Epoch 101\n"
     ]
    },
    {
     "name": "stderr",
     "output_type": "stream",
     "text": [
      "Training: 100%|██████████| 391/391 [00:07<00:00, 51.27it/s]\n"
     ]
    },
    {
     "name": "stdout",
     "output_type": "stream",
     "text": [
      "Correct: 5572, Total: 10000, Accuracy: 0.56\n",
      "Accuracy: 55.720000000000006% (0.5572)\n",
      "Loss: 1.1544651420492875\n"
     ]
    },
    {
     "name": "stderr",
     "output_type": "stream",
     "text": [
      "Validation: 100%|██████████| 79/79 [00:00<00:00, 79.74it/s]\n"
     ]
    },
    {
     "name": "stdout",
     "output_type": "stream",
     "text": [
      "LOSS train 1.1544651420492875 valid 1.2402218580245972\n",
      "Epoch 102\n"
     ]
    },
    {
     "name": "stderr",
     "output_type": "stream",
     "text": [
      "Training: 100%|██████████| 391/391 [00:07<00:00, 51.18it/s]\n"
     ]
    },
    {
     "name": "stdout",
     "output_type": "stream",
     "text": [
      "Correct: 5685, Total: 10000, Accuracy: 0.57\n",
      "Accuracy: 56.85% (0.5685)\n",
      "Loss: 1.0946255106674998\n"
     ]
    },
    {
     "name": "stderr",
     "output_type": "stream",
     "text": [
      "Validation: 100%|██████████| 79/79 [00:00<00:00, 80.56it/s]\n"
     ]
    },
    {
     "name": "stdout",
     "output_type": "stream",
     "text": [
      "LOSS train 1.0946255106674998 valid 1.2012710571289062\n",
      "Saving model\n",
      "Epoch 103\n"
     ]
    },
    {
     "name": "stderr",
     "output_type": "stream",
     "text": [
      "Training: 100%|██████████| 391/391 [00:07<00:00, 50.89it/s]\n"
     ]
    },
    {
     "name": "stdout",
     "output_type": "stream",
     "text": [
      "Correct: 5620, Total: 10000, Accuracy: 0.56\n",
      "Accuracy: 56.2% (0.562)\n",
      "Loss: 1.1551089694625454\n"
     ]
    },
    {
     "name": "stderr",
     "output_type": "stream",
     "text": [
      "Validation: 100%|██████████| 79/79 [00:00<00:00, 79.68it/s]\n"
     ]
    },
    {
     "name": "stdout",
     "output_type": "stream",
     "text": [
      "LOSS train 1.1551089694625454 valid 1.1960954666137695\n",
      "Epoch 104\n"
     ]
    },
    {
     "name": "stderr",
     "output_type": "stream",
     "text": [
      "Training: 100%|██████████| 391/391 [00:07<00:00, 51.22it/s]\n"
     ]
    },
    {
     "name": "stdout",
     "output_type": "stream",
     "text": [
      "Correct: 5728, Total: 10000, Accuracy: 0.57\n",
      "Accuracy: 57.28% (0.5728)\n",
      "Loss: 1.116439794239245\n"
     ]
    },
    {
     "name": "stderr",
     "output_type": "stream",
     "text": [
      "Validation: 100%|██████████| 79/79 [00:00<00:00, 79.82it/s]\n"
     ]
    },
    {
     "name": "stdout",
     "output_type": "stream",
     "text": [
      "LOSS train 1.116439794239245 valid 1.1794288158416748\n",
      "Epoch 105\n"
     ]
    },
    {
     "name": "stderr",
     "output_type": "stream",
     "text": [
      "Training: 100%|██████████| 391/391 [00:07<00:00, 51.29it/s]\n"
     ]
    },
    {
     "name": "stdout",
     "output_type": "stream",
     "text": [
      "Correct: 5748, Total: 10000, Accuracy: 0.57\n",
      "Accuracy: 57.48% (0.5748)\n",
      "Loss: 1.143362321351704\n"
     ]
    },
    {
     "name": "stderr",
     "output_type": "stream",
     "text": [
      "Validation: 100%|██████████| 79/79 [00:00<00:00, 79.45it/s]\n"
     ]
    },
    {
     "name": "stdout",
     "output_type": "stream",
     "text": [
      "LOSS train 1.143362321351704 valid 1.1832648515701294\n",
      "Epoch 106\n"
     ]
    },
    {
     "name": "stderr",
     "output_type": "stream",
     "text": [
      "Training: 100%|██████████| 391/391 [00:07<00:00, 51.22it/s]\n"
     ]
    },
    {
     "name": "stdout",
     "output_type": "stream",
     "text": [
      "Correct: 5759, Total: 10000, Accuracy: 0.58\n",
      "Accuracy: 57.589999999999996% (0.5759)\n",
      "Loss: 1.0948585805140043\n"
     ]
    },
    {
     "name": "stderr",
     "output_type": "stream",
     "text": [
      "Validation: 100%|██████████| 79/79 [00:00<00:00, 79.61it/s]\n"
     ]
    },
    {
     "name": "stdout",
     "output_type": "stream",
     "text": [
      "LOSS train 1.0948585805140043 valid 1.1775245666503906\n",
      "Epoch 107\n"
     ]
    },
    {
     "name": "stderr",
     "output_type": "stream",
     "text": [
      "Training: 100%|██████████| 391/391 [00:07<00:00, 51.16it/s]\n"
     ]
    },
    {
     "name": "stdout",
     "output_type": "stream",
     "text": [
      "Correct: 5686, Total: 10000, Accuracy: 0.57\n",
      "Accuracy: 56.86% (0.5686)\n",
      "Loss: 1.0831742506278188\n"
     ]
    },
    {
     "name": "stderr",
     "output_type": "stream",
     "text": [
      "Validation: 100%|██████████| 79/79 [00:00<00:00, 79.68it/s]\n"
     ]
    },
    {
     "name": "stdout",
     "output_type": "stream",
     "text": [
      "LOSS train 1.0831742506278188 valid 1.1782602071762085\n",
      "Saving model\n",
      "Epoch 108\n"
     ]
    },
    {
     "name": "stderr",
     "output_type": "stream",
     "text": [
      "Training: 100%|██████████| 391/391 [00:07<00:00, 51.12it/s]\n"
     ]
    },
    {
     "name": "stdout",
     "output_type": "stream",
     "text": [
      "Correct: 5704, Total: 10000, Accuracy: 0.57\n",
      "Accuracy: 57.04% (0.5704)\n",
      "Loss: 1.1223768089946948\n"
     ]
    },
    {
     "name": "stderr",
     "output_type": "stream",
     "text": [
      "Validation: 100%|██████████| 79/79 [00:00<00:00, 79.73it/s]\n"
     ]
    },
    {
     "name": "stdout",
     "output_type": "stream",
     "text": [
      "LOSS train 1.1223768089946948 valid 1.1873480081558228\n",
      "Epoch 109\n"
     ]
    },
    {
     "name": "stderr",
     "output_type": "stream",
     "text": [
      "Training: 100%|██████████| 391/391 [00:07<00:00, 51.25it/s]\n"
     ]
    },
    {
     "name": "stdout",
     "output_type": "stream",
     "text": [
      "Correct: 5687, Total: 10000, Accuracy: 0.57\n",
      "Accuracy: 56.87% (0.5687)\n",
      "Loss: 1.0701513478630467\n"
     ]
    },
    {
     "name": "stderr",
     "output_type": "stream",
     "text": [
      "Validation: 100%|██████████| 79/79 [00:00<00:00, 79.66it/s]\n"
     ]
    },
    {
     "name": "stdout",
     "output_type": "stream",
     "text": [
      "LOSS train 1.0701513478630467 valid 1.1795506477355957\n",
      "Saving model\n",
      "Epoch 110\n"
     ]
    },
    {
     "name": "stderr",
     "output_type": "stream",
     "text": [
      "Training: 100%|██████████| 391/391 [00:07<00:00, 51.11it/s]\n"
     ]
    },
    {
     "name": "stdout",
     "output_type": "stream",
     "text": [
      "Correct: 5680, Total: 10000, Accuracy: 0.57\n",
      "Accuracy: 56.8% (0.568)\n",
      "Loss: 1.0957767398733842\n"
     ]
    },
    {
     "name": "stderr",
     "output_type": "stream",
     "text": [
      "Validation: 100%|██████████| 79/79 [00:00<00:00, 79.63it/s]\n"
     ]
    },
    {
     "name": "stdout",
     "output_type": "stream",
     "text": [
      "LOSS train 1.0957767398733842 valid 1.1766529083251953\n",
      "Epoch 111\n"
     ]
    },
    {
     "name": "stderr",
     "output_type": "stream",
     "text": [
      "Training: 100%|██████████| 391/391 [00:07<00:00, 50.90it/s]\n"
     ]
    },
    {
     "name": "stdout",
     "output_type": "stream",
     "text": [
      "Correct: 5709, Total: 10000, Accuracy: 0.57\n",
      "Accuracy: 57.089999999999996% (0.5709)\n",
      "Loss: 1.0978814049770957\n"
     ]
    },
    {
     "name": "stderr",
     "output_type": "stream",
     "text": [
      "Validation: 100%|██████████| 79/79 [00:00<00:00, 79.47it/s]\n"
     ]
    },
    {
     "name": "stdout",
     "output_type": "stream",
     "text": [
      "LOSS train 1.0978814049770957 valid 1.1754398345947266\n",
      "Epoch 112\n"
     ]
    },
    {
     "name": "stderr",
     "output_type": "stream",
     "text": [
      "Training: 100%|██████████| 391/391 [00:07<00:00, 50.98it/s]\n"
     ]
    },
    {
     "name": "stdout",
     "output_type": "stream",
     "text": [
      "Correct: 5789, Total: 10000, Accuracy: 0.58\n",
      "Accuracy: 57.89% (0.5789)\n",
      "Loss: 1.0778869045408148\n"
     ]
    },
    {
     "name": "stderr",
     "output_type": "stream",
     "text": [
      "Validation: 100%|██████████| 79/79 [00:00<00:00, 79.67it/s]\n"
     ]
    },
    {
     "name": "stdout",
     "output_type": "stream",
     "text": [
      "LOSS train 1.0778869045408148 valid 1.1622825860977173\n",
      "Epoch 113\n"
     ]
    },
    {
     "name": "stderr",
     "output_type": "stream",
     "text": [
      "Training: 100%|██████████| 391/391 [00:07<00:00, 51.23it/s]\n"
     ]
    },
    {
     "name": "stdout",
     "output_type": "stream",
     "text": [
      "Correct: 5766, Total: 10000, Accuracy: 0.58\n",
      "Accuracy: 57.66% (0.5766)\n",
      "Loss: 1.1121222941499007\n"
     ]
    },
    {
     "name": "stderr",
     "output_type": "stream",
     "text": [
      "Validation: 100%|██████████| 79/79 [00:00<00:00, 79.60it/s]\n"
     ]
    },
    {
     "name": "stdout",
     "output_type": "stream",
     "text": [
      "LOSS train 1.1121222941499007 valid 1.1651848554611206\n",
      "Epoch 114\n"
     ]
    },
    {
     "name": "stderr",
     "output_type": "stream",
     "text": [
      "Training: 100%|██████████| 391/391 [00:07<00:00, 51.29it/s]\n"
     ]
    },
    {
     "name": "stdout",
     "output_type": "stream",
     "text": [
      "Correct: 5742, Total: 10000, Accuracy: 0.57\n",
      "Accuracy: 57.42% (0.5742)\n",
      "Loss: 1.1123863929196407\n"
     ]
    },
    {
     "name": "stderr",
     "output_type": "stream",
     "text": [
      "Validation: 100%|██████████| 79/79 [00:01<00:00, 78.23it/s]\n"
     ]
    },
    {
     "name": "stdout",
     "output_type": "stream",
     "text": [
      "LOSS train 1.1123863929196407 valid 1.1669434309005737\n",
      "Epoch 115\n"
     ]
    },
    {
     "name": "stderr",
     "output_type": "stream",
     "text": [
      "Training: 100%|██████████| 391/391 [00:07<00:00, 50.86it/s]\n"
     ]
    },
    {
     "name": "stdout",
     "output_type": "stream",
     "text": [
      "Correct: 5772, Total: 10000, Accuracy: 0.58\n",
      "Accuracy: 57.720000000000006% (0.5772)\n",
      "Loss: 1.0962493482388949\n"
     ]
    },
    {
     "name": "stderr",
     "output_type": "stream",
     "text": [
      "Validation: 100%|██████████| 79/79 [00:00<00:00, 79.62it/s]\n"
     ]
    },
    {
     "name": "stdout",
     "output_type": "stream",
     "text": [
      "LOSS train 1.0962493482388949 valid 1.16801917552948\n",
      "Epoch 116\n"
     ]
    },
    {
     "name": "stderr",
     "output_type": "stream",
     "text": [
      "Training: 100%|██████████| 391/391 [00:07<00:00, 51.14it/s]\n"
     ]
    },
    {
     "name": "stdout",
     "output_type": "stream",
     "text": [
      "Correct: 5701, Total: 10000, Accuracy: 0.57\n",
      "Accuracy: 57.010000000000005% (0.5701)\n",
      "Loss: 1.0797017153940702\n"
     ]
    },
    {
     "name": "stderr",
     "output_type": "stream",
     "text": [
      "Validation: 100%|██████████| 79/79 [00:00<00:00, 79.70it/s]\n"
     ]
    },
    {
     "name": "stdout",
     "output_type": "stream",
     "text": [
      "LOSS train 1.0797017153940702 valid 1.1774905920028687\n",
      "Epoch 117\n"
     ]
    },
    {
     "name": "stderr",
     "output_type": "stream",
     "text": [
      "Training: 100%|██████████| 391/391 [00:07<00:00, 51.04it/s]\n"
     ]
    },
    {
     "name": "stdout",
     "output_type": "stream",
     "text": [
      "Correct: 5694, Total: 10000, Accuracy: 0.57\n",
      "Accuracy: 56.940000000000005% (0.5694)\n",
      "Loss: 1.0598096157375134\n"
     ]
    },
    {
     "name": "stderr",
     "output_type": "stream",
     "text": [
      "Validation: 100%|██████████| 79/79 [00:00<00:00, 79.57it/s]\n"
     ]
    },
    {
     "name": "stdout",
     "output_type": "stream",
     "text": [
      "LOSS train 1.0598096157375134 valid 1.1787323951721191\n",
      "Saving model\n",
      "Epoch 118\n"
     ]
    },
    {
     "name": "stderr",
     "output_type": "stream",
     "text": [
      "Training: 100%|██████████| 391/391 [00:07<00:00, 51.22it/s]\n"
     ]
    },
    {
     "name": "stdout",
     "output_type": "stream",
     "text": [
      "Correct: 5777, Total: 10000, Accuracy: 0.58\n",
      "Accuracy: 57.769999999999996% (0.5777)\n",
      "Loss: 1.1114819865477712\n"
     ]
    },
    {
     "name": "stderr",
     "output_type": "stream",
     "text": [
      "Validation: 100%|██████████| 79/79 [00:00<00:00, 79.64it/s]\n"
     ]
    },
    {
     "name": "stdout",
     "output_type": "stream",
     "text": [
      "LOSS train 1.1114819865477712 valid 1.1640539169311523\n",
      "Epoch 119\n"
     ]
    },
    {
     "name": "stderr",
     "output_type": "stream",
     "text": [
      "Training: 100%|██████████| 391/391 [00:07<00:00, 51.18it/s]\n"
     ]
    },
    {
     "name": "stdout",
     "output_type": "stream",
     "text": [
      "Correct: 5793, Total: 10000, Accuracy: 0.58\n",
      "Accuracy: 57.93000000000001% (0.5793)\n",
      "Loss: 1.1113152786305076\n"
     ]
    },
    {
     "name": "stderr",
     "output_type": "stream",
     "text": [
      "Validation: 100%|██████████| 79/79 [00:00<00:00, 79.54it/s]\n"
     ]
    },
    {
     "name": "stdout",
     "output_type": "stream",
     "text": [
      "LOSS train 1.1113152786305076 valid 1.1696535348892212\n",
      "Epoch 120\n"
     ]
    },
    {
     "name": "stderr",
     "output_type": "stream",
     "text": [
      "Training: 100%|██████████| 391/391 [00:07<00:00, 51.24it/s]\n"
     ]
    },
    {
     "name": "stdout",
     "output_type": "stream",
     "text": [
      "Correct: 5763, Total: 10000, Accuracy: 0.58\n",
      "Accuracy: 57.63% (0.5763)\n",
      "Loss: 1.0923289123334383\n"
     ]
    },
    {
     "name": "stderr",
     "output_type": "stream",
     "text": [
      "Validation: 100%|██████████| 79/79 [00:00<00:00, 79.74it/s]\n"
     ]
    },
    {
     "name": "stdout",
     "output_type": "stream",
     "text": [
      "LOSS train 1.0923289123334383 valid 1.166912317276001\n",
      "Epoch 121\n"
     ]
    },
    {
     "name": "stderr",
     "output_type": "stream",
     "text": [
      "Training: 100%|██████████| 391/391 [00:07<00:00, 51.21it/s]\n"
     ]
    },
    {
     "name": "stdout",
     "output_type": "stream",
     "text": [
      "Correct: 5780, Total: 10000, Accuracy: 0.58\n",
      "Accuracy: 57.8% (0.578)\n",
      "Loss: 1.1090412767309892\n"
     ]
    },
    {
     "name": "stderr",
     "output_type": "stream",
     "text": [
      "Validation: 100%|██████████| 79/79 [00:00<00:00, 79.84it/s]\n"
     ]
    },
    {
     "name": "stdout",
     "output_type": "stream",
     "text": [
      "LOSS train 1.1090412767309892 valid 1.1512562036514282\n",
      "Epoch 122\n"
     ]
    },
    {
     "name": "stderr",
     "output_type": "stream",
     "text": [
      "Training: 100%|██████████| 391/391 [00:07<00:00, 51.22it/s]\n"
     ]
    },
    {
     "name": "stdout",
     "output_type": "stream",
     "text": [
      "Correct: 5776, Total: 10000, Accuracy: 0.58\n",
      "Accuracy: 57.76% (0.5776)\n",
      "Loss: 1.0595309357894094\n"
     ]
    },
    {
     "name": "stderr",
     "output_type": "stream",
     "text": [
      "Validation: 100%|██████████| 79/79 [00:00<00:00, 79.76it/s]\n"
     ]
    },
    {
     "name": "stdout",
     "output_type": "stream",
     "text": [
      "LOSS train 1.0595309357894094 valid 1.1586331129074097\n",
      "Saving model\n",
      "Epoch 123\n"
     ]
    },
    {
     "name": "stderr",
     "output_type": "stream",
     "text": [
      "Training: 100%|██████████| 391/391 [00:07<00:00, 51.15it/s]\n"
     ]
    },
    {
     "name": "stdout",
     "output_type": "stream",
     "text": [
      "Correct: 5802, Total: 10000, Accuracy: 0.58\n",
      "Accuracy: 58.02% (0.5802)\n",
      "Loss: 1.111652512299387\n"
     ]
    },
    {
     "name": "stderr",
     "output_type": "stream",
     "text": [
      "Validation: 100%|██████████| 79/79 [00:00<00:00, 80.04it/s]\n"
     ]
    },
    {
     "name": "stdout",
     "output_type": "stream",
     "text": [
      "LOSS train 1.111652512299387 valid 1.1542047262191772\n",
      "Epoch 124\n"
     ]
    },
    {
     "name": "stderr",
     "output_type": "stream",
     "text": [
      "Training: 100%|██████████| 391/391 [00:07<00:00, 51.08it/s]\n"
     ]
    },
    {
     "name": "stdout",
     "output_type": "stream",
     "text": [
      "Correct: 5794, Total: 10000, Accuracy: 0.58\n",
      "Accuracy: 57.940000000000005% (0.5794)\n",
      "Loss: 1.0683157820450633\n"
     ]
    },
    {
     "name": "stderr",
     "output_type": "stream",
     "text": [
      "Validation: 100%|██████████| 79/79 [00:00<00:00, 79.63it/s]\n"
     ]
    },
    {
     "name": "stdout",
     "output_type": "stream",
     "text": [
      "LOSS train 1.0683157820450633 valid 1.1532871723175049\n",
      "Epoch 125\n"
     ]
    },
    {
     "name": "stderr",
     "output_type": "stream",
     "text": [
      "Training: 100%|██████████| 391/391 [00:07<00:00, 51.22it/s]\n"
     ]
    },
    {
     "name": "stdout",
     "output_type": "stream",
     "text": [
      "Correct: 5828, Total: 10000, Accuracy: 0.58\n",
      "Accuracy: 58.28% (0.5828)\n",
      "Loss: 1.0575177700896012\n"
     ]
    },
    {
     "name": "stderr",
     "output_type": "stream",
     "text": [
      "Validation: 100%|██████████| 79/79 [00:00<00:00, 79.53it/s]\n"
     ]
    },
    {
     "name": "stdout",
     "output_type": "stream",
     "text": [
      "LOSS train 1.0575177700896012 valid 1.1474288702011108\n",
      "Saving model\n",
      "Epoch 126\n"
     ]
    },
    {
     "name": "stderr",
     "output_type": "stream",
     "text": [
      "Training: 100%|██████████| 391/391 [00:07<00:00, 51.15it/s]\n"
     ]
    },
    {
     "name": "stdout",
     "output_type": "stream",
     "text": [
      "Correct: 5808, Total: 10000, Accuracy: 0.58\n",
      "Accuracy: 58.08% (0.5808)\n",
      "Loss: 1.0873231793704785\n"
     ]
    },
    {
     "name": "stderr",
     "output_type": "stream",
     "text": [
      "Validation: 100%|██████████| 79/79 [00:00<00:00, 79.62it/s]\n"
     ]
    },
    {
     "name": "stdout",
     "output_type": "stream",
     "text": [
      "LOSS train 1.0873231793704785 valid 1.1476318836212158\n",
      "Epoch 127\n"
     ]
    },
    {
     "name": "stderr",
     "output_type": "stream",
     "text": [
      "Training: 100%|██████████| 391/391 [00:07<00:00, 51.13it/s]\n"
     ]
    },
    {
     "name": "stdout",
     "output_type": "stream",
     "text": [
      "Correct: 5779, Total: 10000, Accuracy: 0.58\n",
      "Accuracy: 57.79% (0.5779)\n",
      "Loss: 1.059438118809148\n"
     ]
    },
    {
     "name": "stderr",
     "output_type": "stream",
     "text": [
      "Validation: 100%|██████████| 79/79 [00:00<00:00, 79.36it/s]\n"
     ]
    },
    {
     "name": "stdout",
     "output_type": "stream",
     "text": [
      "LOSS train 1.059438118809148 valid 1.1540663242340088\n",
      "Epoch 128\n"
     ]
    },
    {
     "name": "stderr",
     "output_type": "stream",
     "text": [
      "Training: 100%|██████████| 391/391 [00:07<00:00, 49.55it/s]\n"
     ]
    },
    {
     "name": "stdout",
     "output_type": "stream",
     "text": [
      "Correct: 5826, Total: 10000, Accuracy: 0.58\n",
      "Accuracy: 58.26% (0.5826)\n",
      "Loss: 1.065795427874515\n"
     ]
    },
    {
     "name": "stderr",
     "output_type": "stream",
     "text": [
      "Validation: 100%|██████████| 79/79 [00:00<00:00, 79.56it/s]\n"
     ]
    },
    {
     "name": "stdout",
     "output_type": "stream",
     "text": [
      "LOSS train 1.065795427874515 valid 1.1492623090744019\n",
      "Epoch 129\n"
     ]
    },
    {
     "name": "stderr",
     "output_type": "stream",
     "text": [
      "Training: 100%|██████████| 391/391 [00:07<00:00, 51.19it/s]\n"
     ]
    },
    {
     "name": "stdout",
     "output_type": "stream",
     "text": [
      "Correct: 5753, Total: 10000, Accuracy: 0.58\n",
      "Accuracy: 57.53% (0.5753)\n",
      "Loss: 1.0437223785801937\n"
     ]
    },
    {
     "name": "stderr",
     "output_type": "stream",
     "text": [
      "Validation: 100%|██████████| 79/79 [00:00<00:00, 80.19it/s]\n"
     ]
    },
    {
     "name": "stdout",
     "output_type": "stream",
     "text": [
      "LOSS train 1.0437223785801937 valid 1.1567397117614746\n",
      "Saving model\n",
      "Epoch 130\n"
     ]
    },
    {
     "name": "stderr",
     "output_type": "stream",
     "text": [
      "Training: 100%|██████████| 391/391 [00:07<00:00, 51.23it/s]\n"
     ]
    },
    {
     "name": "stdout",
     "output_type": "stream",
     "text": [
      "Correct: 5772, Total: 10000, Accuracy: 0.58\n",
      "Accuracy: 57.720000000000006% (0.5772)\n",
      "Loss: 1.0800289103859348\n"
     ]
    },
    {
     "name": "stderr",
     "output_type": "stream",
     "text": [
      "Validation: 100%|██████████| 79/79 [00:00<00:00, 80.21it/s]\n"
     ]
    },
    {
     "name": "stdout",
     "output_type": "stream",
     "text": [
      "LOSS train 1.0800289103859348 valid 1.1454395055770874\n",
      "Epoch 131\n"
     ]
    },
    {
     "name": "stderr",
     "output_type": "stream",
     "text": [
      "Training: 100%|██████████| 391/391 [00:07<00:00, 51.24it/s]\n"
     ]
    },
    {
     "name": "stdout",
     "output_type": "stream",
     "text": [
      "Correct: 5809, Total: 10000, Accuracy: 0.58\n",
      "Accuracy: 58.089999999999996% (0.5809)\n",
      "Loss: 1.062957719752663\n"
     ]
    },
    {
     "name": "stderr",
     "output_type": "stream",
     "text": [
      "Validation: 100%|██████████| 79/79 [00:00<00:00, 79.53it/s]\n"
     ]
    },
    {
     "name": "stdout",
     "output_type": "stream",
     "text": [
      "LOSS train 1.062957719752663 valid 1.147289752960205\n",
      "Epoch 132\n"
     ]
    },
    {
     "name": "stderr",
     "output_type": "stream",
     "text": [
      "Training: 100%|██████████| 391/391 [00:07<00:00, 51.26it/s]\n"
     ]
    },
    {
     "name": "stdout",
     "output_type": "stream",
     "text": [
      "Correct: 5763, Total: 10000, Accuracy: 0.58\n",
      "Accuracy: 57.63% (0.5763)\n",
      "Loss: 1.0865001898062856\n"
     ]
    },
    {
     "name": "stderr",
     "output_type": "stream",
     "text": [
      "Validation: 100%|██████████| 79/79 [00:00<00:00, 79.30it/s]\n"
     ]
    },
    {
     "name": "stdout",
     "output_type": "stream",
     "text": [
      "LOSS train 1.0865001898062856 valid 1.1611465215682983\n",
      "Epoch 133\n"
     ]
    },
    {
     "name": "stderr",
     "output_type": "stream",
     "text": [
      "Training: 100%|██████████| 391/391 [00:07<00:00, 51.19it/s]\n"
     ]
    },
    {
     "name": "stdout",
     "output_type": "stream",
     "text": [
      "Correct: 5859, Total: 10000, Accuracy: 0.59\n",
      "Accuracy: 58.589999999999996% (0.5859)\n",
      "Loss: 1.0939421496893231\n"
     ]
    },
    {
     "name": "stderr",
     "output_type": "stream",
     "text": [
      "Validation: 100%|██████████| 79/79 [00:00<00:00, 79.66it/s]\n"
     ]
    },
    {
     "name": "stdout",
     "output_type": "stream",
     "text": [
      "LOSS train 1.0939421496893231 valid 1.1388771533966064\n",
      "Epoch 134\n"
     ]
    },
    {
     "name": "stderr",
     "output_type": "stream",
     "text": [
      "Training: 100%|██████████| 391/391 [00:07<00:00, 51.14it/s]\n"
     ]
    },
    {
     "name": "stdout",
     "output_type": "stream",
     "text": [
      "Correct: 5841, Total: 10000, Accuracy: 0.58\n",
      "Accuracy: 58.41% (0.5841)\n",
      "Loss: 1.0273309569609792\n"
     ]
    },
    {
     "name": "stderr",
     "output_type": "stream",
     "text": [
      "Validation: 100%|██████████| 79/79 [00:00<00:00, 79.85it/s]\n"
     ]
    },
    {
     "name": "stdout",
     "output_type": "stream",
     "text": [
      "LOSS train 1.0273309569609792 valid 1.1377164125442505\n",
      "Saving model\n",
      "Epoch 135\n"
     ]
    },
    {
     "name": "stderr",
     "output_type": "stream",
     "text": [
      "Training: 100%|██████████| 391/391 [00:07<00:00, 51.22it/s]\n"
     ]
    },
    {
     "name": "stdout",
     "output_type": "stream",
     "text": [
      "Correct: 5833, Total: 10000, Accuracy: 0.58\n",
      "Accuracy: 58.330000000000005% (0.5833)\n",
      "Loss: 1.0687414313617505\n"
     ]
    },
    {
     "name": "stderr",
     "output_type": "stream",
     "text": [
      "Validation: 100%|██████████| 79/79 [00:00<00:00, 79.85it/s]\n"
     ]
    },
    {
     "name": "stdout",
     "output_type": "stream",
     "text": [
      "LOSS train 1.0687414313617505 valid 1.1398643255233765\n",
      "Epoch 136\n"
     ]
    },
    {
     "name": "stderr",
     "output_type": "stream",
     "text": [
      "Training: 100%|██████████| 391/391 [00:07<00:00, 51.22it/s]\n"
     ]
    },
    {
     "name": "stdout",
     "output_type": "stream",
     "text": [
      "Correct: 5900, Total: 10000, Accuracy: 0.59\n",
      "Accuracy: 59.0% (0.59)\n",
      "Loss: 1.0098676367809898\n"
     ]
    },
    {
     "name": "stderr",
     "output_type": "stream",
     "text": [
      "Validation: 100%|██████████| 79/79 [00:00<00:00, 80.47it/s]\n"
     ]
    },
    {
     "name": "stdout",
     "output_type": "stream",
     "text": [
      "LOSS train 1.0098676367809898 valid 1.1387039422988892\n",
      "Saving model\n",
      "Epoch 137\n"
     ]
    },
    {
     "name": "stderr",
     "output_type": "stream",
     "text": [
      "Training: 100%|██████████| 391/391 [00:07<00:00, 51.16it/s]\n"
     ]
    },
    {
     "name": "stdout",
     "output_type": "stream",
     "text": [
      "Correct: 5793, Total: 10000, Accuracy: 0.58\n",
      "Accuracy: 57.93000000000001% (0.5793)\n",
      "Loss: 1.0367735624313354\n"
     ]
    },
    {
     "name": "stderr",
     "output_type": "stream",
     "text": [
      "Validation: 100%|██████████| 79/79 [00:00<00:00, 80.20it/s]\n"
     ]
    },
    {
     "name": "stdout",
     "output_type": "stream",
     "text": [
      "LOSS train 1.0367735624313354 valid 1.141924262046814\n",
      "Epoch 138\n"
     ]
    },
    {
     "name": "stderr",
     "output_type": "stream",
     "text": [
      "Training: 100%|██████████| 391/391 [00:07<00:00, 51.13it/s]\n"
     ]
    },
    {
     "name": "stdout",
     "output_type": "stream",
     "text": [
      "Correct: 5856, Total: 10000, Accuracy: 0.59\n",
      "Accuracy: 58.56% (0.5856)\n",
      "Loss: 1.0360189707655656\n"
     ]
    },
    {
     "name": "stderr",
     "output_type": "stream",
     "text": [
      "Validation: 100%|██████████| 79/79 [00:00<00:00, 79.57it/s]\n"
     ]
    },
    {
     "name": "stdout",
     "output_type": "stream",
     "text": [
      "LOSS train 1.0360189707655656 valid 1.141495943069458\n",
      "Epoch 139\n"
     ]
    },
    {
     "name": "stderr",
     "output_type": "stream",
     "text": [
      "Training: 100%|██████████| 391/391 [00:07<00:00, 51.09it/s]\n"
     ]
    },
    {
     "name": "stdout",
     "output_type": "stream",
     "text": [
      "Correct: 5900, Total: 10000, Accuracy: 0.59\n",
      "Accuracy: 59.0% (0.59)\n",
      "Loss: 1.0662925243377686\n"
     ]
    },
    {
     "name": "stderr",
     "output_type": "stream",
     "text": [
      "Validation: 100%|██████████| 79/79 [00:00<00:00, 80.23it/s]\n"
     ]
    },
    {
     "name": "stdout",
     "output_type": "stream",
     "text": [
      "LOSS train 1.0662925243377686 valid 1.1303070783615112\n",
      "Epoch 140\n"
     ]
    },
    {
     "name": "stderr",
     "output_type": "stream",
     "text": [
      "Training: 100%|██████████| 391/391 [00:07<00:00, 50.79it/s]\n"
     ]
    },
    {
     "name": "stdout",
     "output_type": "stream",
     "text": [
      "Correct: 5857, Total: 10000, Accuracy: 0.59\n",
      "Accuracy: 58.57% (0.5857)\n",
      "Loss: 1.0439115825452303\n"
     ]
    },
    {
     "name": "stderr",
     "output_type": "stream",
     "text": [
      "Validation: 100%|██████████| 79/79 [00:00<00:00, 80.30it/s]\n"
     ]
    },
    {
     "name": "stdout",
     "output_type": "stream",
     "text": [
      "LOSS train 1.0439115825452303 valid 1.1380558013916016\n",
      "Epoch 141\n"
     ]
    },
    {
     "name": "stderr",
     "output_type": "stream",
     "text": [
      "Training: 100%|██████████| 391/391 [00:07<00:00, 51.12it/s]\n"
     ]
    },
    {
     "name": "stdout",
     "output_type": "stream",
     "text": [
      "Correct: 5899, Total: 10000, Accuracy: 0.59\n",
      "Accuracy: 58.989999999999995% (0.5899)\n",
      "Loss: 0.9925942640555533\n"
     ]
    },
    {
     "name": "stderr",
     "output_type": "stream",
     "text": [
      "Validation: 100%|██████████| 79/79 [00:00<00:00, 80.35it/s]\n"
     ]
    },
    {
     "name": "stdout",
     "output_type": "stream",
     "text": [
      "LOSS train 0.9925942640555533 valid 1.1307281255722046\n",
      "Saving model\n",
      "Epoch 142\n"
     ]
    },
    {
     "name": "stderr",
     "output_type": "stream",
     "text": [
      "Training: 100%|██████████| 391/391 [00:07<00:00, 51.25it/s]\n"
     ]
    },
    {
     "name": "stdout",
     "output_type": "stream",
     "text": [
      "Correct: 5847, Total: 10000, Accuracy: 0.58\n",
      "Accuracy: 58.47% (0.5847)\n",
      "Loss: 1.0624463966018276\n"
     ]
    },
    {
     "name": "stderr",
     "output_type": "stream",
     "text": [
      "Validation: 100%|██████████| 79/79 [00:00<00:00, 80.10it/s]\n"
     ]
    },
    {
     "name": "stdout",
     "output_type": "stream",
     "text": [
      "LOSS train 1.0624463966018276 valid 1.147273063659668\n",
      "Epoch 143\n"
     ]
    },
    {
     "name": "stderr",
     "output_type": "stream",
     "text": [
      "Training: 100%|██████████| 391/391 [00:07<00:00, 51.26it/s]\n"
     ]
    },
    {
     "name": "stdout",
     "output_type": "stream",
     "text": [
      "Correct: 5904, Total: 10000, Accuracy: 0.59\n",
      "Accuracy: 59.040000000000006% (0.5904)\n",
      "Loss: 1.0231395897112394\n"
     ]
    },
    {
     "name": "stderr",
     "output_type": "stream",
     "text": [
      "Validation: 100%|██████████| 79/79 [00:00<00:00, 79.66it/s]\n"
     ]
    },
    {
     "name": "stdout",
     "output_type": "stream",
     "text": [
      "LOSS train 1.0231395897112394 valid 1.1330101490020752\n",
      "Epoch 144\n"
     ]
    },
    {
     "name": "stderr",
     "output_type": "stream",
     "text": [
      "Training: 100%|██████████| 391/391 [00:07<00:00, 51.10it/s]\n"
     ]
    },
    {
     "name": "stdout",
     "output_type": "stream",
     "text": [
      "Correct: 5871, Total: 10000, Accuracy: 0.59\n",
      "Accuracy: 58.709999999999994% (0.5871)\n",
      "Loss: 1.0401755163544102\n"
     ]
    },
    {
     "name": "stderr",
     "output_type": "stream",
     "text": [
      "Validation: 100%|██████████| 79/79 [00:00<00:00, 79.15it/s]\n"
     ]
    },
    {
     "name": "stdout",
     "output_type": "stream",
     "text": [
      "LOSS train 1.0401755163544102 valid 1.1244436502456665\n",
      "Epoch 145\n"
     ]
    },
    {
     "name": "stderr",
     "output_type": "stream",
     "text": [
      "Training: 100%|██████████| 391/391 [00:07<00:00, 51.09it/s]\n"
     ]
    },
    {
     "name": "stdout",
     "output_type": "stream",
     "text": [
      "Correct: 5901, Total: 10000, Accuracy: 0.59\n",
      "Accuracy: 59.01% (0.5901)\n",
      "Loss: 1.0040186863196523\n"
     ]
    },
    {
     "name": "stderr",
     "output_type": "stream",
     "text": [
      "Validation: 100%|██████████| 79/79 [00:00<00:00, 79.56it/s]\n"
     ]
    },
    {
     "name": "stdout",
     "output_type": "stream",
     "text": [
      "LOSS train 1.0040186863196523 valid 1.13532292842865\n",
      "Epoch 146\n"
     ]
    },
    {
     "name": "stderr",
     "output_type": "stream",
     "text": [
      "Training: 100%|██████████| 391/391 [00:07<00:00, 51.07it/s]\n"
     ]
    },
    {
     "name": "stdout",
     "output_type": "stream",
     "text": [
      "Correct: 5907, Total: 10000, Accuracy: 0.59\n",
      "Accuracy: 59.07% (0.5907)\n",
      "Loss: 1.0572168168268705\n"
     ]
    },
    {
     "name": "stderr",
     "output_type": "stream",
     "text": [
      "Validation: 100%|██████████| 79/79 [00:00<00:00, 79.42it/s]\n"
     ]
    },
    {
     "name": "stdout",
     "output_type": "stream",
     "text": [
      "LOSS train 1.0572168168268705 valid 1.1308319568634033\n",
      "Epoch 147\n"
     ]
    },
    {
     "name": "stderr",
     "output_type": "stream",
     "text": [
      "Training: 100%|██████████| 391/391 [00:07<00:00, 51.14it/s]\n"
     ]
    },
    {
     "name": "stdout",
     "output_type": "stream",
     "text": [
      "Correct: 5925, Total: 10000, Accuracy: 0.59\n",
      "Accuracy: 59.25% (0.5925)\n",
      "Loss: 1.0152200774142617\n"
     ]
    },
    {
     "name": "stderr",
     "output_type": "stream",
     "text": [
      "Validation: 100%|██████████| 79/79 [00:00<00:00, 79.54it/s]\n"
     ]
    },
    {
     "name": "stdout",
     "output_type": "stream",
     "text": [
      "LOSS train 1.0152200774142617 valid 1.1239687204360962\n",
      "Epoch 148\n"
     ]
    },
    {
     "name": "stderr",
     "output_type": "stream",
     "text": [
      "Training: 100%|██████████| 391/391 [00:07<00:00, 50.94it/s]\n"
     ]
    },
    {
     "name": "stdout",
     "output_type": "stream",
     "text": [
      "Correct: 5908, Total: 10000, Accuracy: 0.59\n",
      "Accuracy: 59.08% (0.5908)\n",
      "Loss: 1.0185626400144476\n"
     ]
    },
    {
     "name": "stderr",
     "output_type": "stream",
     "text": [
      "Validation: 100%|██████████| 79/79 [00:00<00:00, 79.28it/s]\n"
     ]
    },
    {
     "name": "stdout",
     "output_type": "stream",
     "text": [
      "LOSS train 1.0185626400144476 valid 1.121559977531433\n",
      "Epoch 149\n"
     ]
    },
    {
     "name": "stderr",
     "output_type": "stream",
     "text": [
      "Training: 100%|██████████| 391/391 [00:07<00:00, 50.91it/s]\n"
     ]
    },
    {
     "name": "stdout",
     "output_type": "stream",
     "text": [
      "Correct: 5914, Total: 10000, Accuracy: 0.59\n",
      "Accuracy: 59.14% (0.5914)\n",
      "Loss: 1.0114819125125283\n"
     ]
    },
    {
     "name": "stderr",
     "output_type": "stream",
     "text": [
      "Validation: 100%|██████████| 79/79 [00:00<00:00, 79.53it/s]\n"
     ]
    },
    {
     "name": "stdout",
     "output_type": "stream",
     "text": [
      "LOSS train 1.0114819125125283 valid 1.1253374814987183\n",
      "Epoch 150\n"
     ]
    },
    {
     "name": "stderr",
     "output_type": "stream",
     "text": [
      "Training: 100%|██████████| 391/391 [00:07<00:00, 51.04it/s]\n"
     ]
    },
    {
     "name": "stdout",
     "output_type": "stream",
     "text": [
      "Correct: 5921, Total: 10000, Accuracy: 0.59\n",
      "Accuracy: 59.209999999999994% (0.5921)\n",
      "Loss: 1.0046793222427368\n"
     ]
    },
    {
     "name": "stderr",
     "output_type": "stream",
     "text": [
      "Validation: 100%|██████████| 79/79 [00:00<00:00, 79.51it/s]\n"
     ]
    },
    {
     "name": "stdout",
     "output_type": "stream",
     "text": [
      "LOSS train 1.0046793222427368 valid 1.1329997777938843\n",
      "Epoch 151\n"
     ]
    },
    {
     "name": "stderr",
     "output_type": "stream",
     "text": [
      "Training: 100%|██████████| 391/391 [00:07<00:00, 51.07it/s]\n"
     ]
    },
    {
     "name": "stdout",
     "output_type": "stream",
     "text": [
      "Correct: 5887, Total: 10000, Accuracy: 0.59\n",
      "Accuracy: 58.87% (0.5887)\n",
      "Loss: 1.0307134452619051\n"
     ]
    },
    {
     "name": "stderr",
     "output_type": "stream",
     "text": [
      "Validation: 100%|██████████| 79/79 [00:00<00:00, 79.67it/s]\n"
     ]
    },
    {
     "name": "stdout",
     "output_type": "stream",
     "text": [
      "LOSS train 1.0307134452619051 valid 1.1258052587509155\n",
      "Epoch 152\n"
     ]
    },
    {
     "name": "stderr",
     "output_type": "stream",
     "text": [
      "Training: 100%|██████████| 391/391 [00:07<00:00, 51.12it/s]\n"
     ]
    },
    {
     "name": "stdout",
     "output_type": "stream",
     "text": [
      "Correct: 5933, Total: 10000, Accuracy: 0.59\n",
      "Accuracy: 59.330000000000005% (0.5933)\n",
      "Loss: 1.0045838512872394\n"
     ]
    },
    {
     "name": "stderr",
     "output_type": "stream",
     "text": [
      "Validation: 100%|██████████| 79/79 [00:00<00:00, 79.62it/s]\n"
     ]
    },
    {
     "name": "stdout",
     "output_type": "stream",
     "text": [
      "LOSS train 1.0045838512872394 valid 1.1130174398422241\n",
      "Epoch 153\n"
     ]
    },
    {
     "name": "stderr",
     "output_type": "stream",
     "text": [
      "Training: 100%|██████████| 391/391 [00:07<00:00, 50.88it/s]\n"
     ]
    },
    {
     "name": "stdout",
     "output_type": "stream",
     "text": [
      "Correct: 5820, Total: 10000, Accuracy: 0.58\n",
      "Accuracy: 58.199999999999996% (0.582)\n",
      "Loss: 1.0539187287029468\n"
     ]
    },
    {
     "name": "stderr",
     "output_type": "stream",
     "text": [
      "Validation: 100%|██████████| 79/79 [00:00<00:00, 79.54it/s]\n"
     ]
    },
    {
     "name": "stdout",
     "output_type": "stream",
     "text": [
      "LOSS train 1.0539187287029468 valid 1.1462857723236084\n",
      "Epoch 154\n"
     ]
    },
    {
     "name": "stderr",
     "output_type": "stream",
     "text": [
      "Training: 100%|██████████| 391/391 [00:07<00:00, 51.29it/s]\n"
     ]
    },
    {
     "name": "stdout",
     "output_type": "stream",
     "text": [
      "Correct: 5925, Total: 10000, Accuracy: 0.59\n",
      "Accuracy: 59.25% (0.5925)\n",
      "Loss: 0.9981119350383156\n"
     ]
    },
    {
     "name": "stderr",
     "output_type": "stream",
     "text": [
      "Validation: 100%|██████████| 79/79 [00:00<00:00, 79.82it/s]\n"
     ]
    },
    {
     "name": "stdout",
     "output_type": "stream",
     "text": [
      "LOSS train 0.9981119350383156 valid 1.1183289289474487\n",
      "Epoch 155\n"
     ]
    },
    {
     "name": "stderr",
     "output_type": "stream",
     "text": [
      "Training: 100%|██████████| 391/391 [00:07<00:00, 51.37it/s]\n"
     ]
    },
    {
     "name": "stdout",
     "output_type": "stream",
     "text": [
      "Correct: 5887, Total: 10000, Accuracy: 0.59\n",
      "Accuracy: 58.87% (0.5887)\n",
      "Loss: 1.0469650688924288\n"
     ]
    },
    {
     "name": "stderr",
     "output_type": "stream",
     "text": [
      "Validation: 100%|██████████| 79/79 [00:00<00:00, 79.94it/s]\n"
     ]
    },
    {
     "name": "stdout",
     "output_type": "stream",
     "text": [
      "LOSS train 1.0469650688924288 valid 1.12322199344635\n",
      "Epoch 156\n"
     ]
    },
    {
     "name": "stderr",
     "output_type": "stream",
     "text": [
      "Training: 100%|██████████| 391/391 [00:07<00:00, 51.31it/s]\n"
     ]
    },
    {
     "name": "stdout",
     "output_type": "stream",
     "text": [
      "Correct: 5853, Total: 10000, Accuracy: 0.59\n",
      "Accuracy: 58.53% (0.5853)\n",
      "Loss: 0.9731821104099876\n"
     ]
    },
    {
     "name": "stderr",
     "output_type": "stream",
     "text": [
      "Validation: 100%|██████████| 79/79 [00:00<00:00, 79.80it/s]\n"
     ]
    },
    {
     "name": "stdout",
     "output_type": "stream",
     "text": [
      "LOSS train 0.9731821104099876 valid 1.130217432975769\n",
      "Saving model\n",
      "Epoch 157\n"
     ]
    },
    {
     "name": "stderr",
     "output_type": "stream",
     "text": [
      "Training: 100%|██████████| 391/391 [00:07<00:00, 51.17it/s]\n"
     ]
    },
    {
     "name": "stdout",
     "output_type": "stream",
     "text": [
      "Correct: 5966, Total: 10000, Accuracy: 0.60\n",
      "Accuracy: 59.660000000000004% (0.5966)\n",
      "Loss: 1.0433894019377858\n"
     ]
    },
    {
     "name": "stderr",
     "output_type": "stream",
     "text": [
      "Validation: 100%|██████████| 79/79 [00:00<00:00, 79.52it/s]\n"
     ]
    },
    {
     "name": "stdout",
     "output_type": "stream",
     "text": [
      "LOSS train 1.0433894019377858 valid 1.1192915439605713\n",
      "Epoch 158\n"
     ]
    },
    {
     "name": "stderr",
     "output_type": "stream",
     "text": [
      "Training: 100%|██████████| 391/391 [00:07<00:00, 51.14it/s]\n"
     ]
    },
    {
     "name": "stdout",
     "output_type": "stream",
     "text": [
      "Correct: 5868, Total: 10000, Accuracy: 0.59\n",
      "Accuracy: 58.68% (0.5868)\n",
      "Loss: 0.9806444582186247\n"
     ]
    },
    {
     "name": "stderr",
     "output_type": "stream",
     "text": [
      "Validation: 100%|██████████| 79/79 [00:00<00:00, 79.59it/s]\n"
     ]
    },
    {
     "name": "stdout",
     "output_type": "stream",
     "text": [
      "LOSS train 0.9806444582186247 valid 1.136218547821045\n",
      "Epoch 159\n"
     ]
    },
    {
     "name": "stderr",
     "output_type": "stream",
     "text": [
      "Training: 100%|██████████| 391/391 [00:07<00:00, 51.33it/s]\n"
     ]
    },
    {
     "name": "stdout",
     "output_type": "stream",
     "text": [
      "Correct: 5931, Total: 10000, Accuracy: 0.59\n",
      "Accuracy: 59.309999999999995% (0.5931)\n",
      "Loss: 0.9739552359831961\n"
     ]
    },
    {
     "name": "stderr",
     "output_type": "stream",
     "text": [
      "Validation: 100%|██████████| 79/79 [00:00<00:00, 79.69it/s]\n"
     ]
    },
    {
     "name": "stdout",
     "output_type": "stream",
     "text": [
      "LOSS train 0.9739552359831961 valid 1.1219090223312378\n",
      "Epoch 160\n"
     ]
    },
    {
     "name": "stderr",
     "output_type": "stream",
     "text": [
      "Training: 100%|██████████| 391/391 [00:07<00:00, 51.08it/s]\n"
     ]
    },
    {
     "name": "stdout",
     "output_type": "stream",
     "text": [
      "Correct: 5949, Total: 10000, Accuracy: 0.59\n",
      "Accuracy: 59.489999999999995% (0.5949)\n",
      "Loss: 0.9880838613761099\n"
     ]
    },
    {
     "name": "stderr",
     "output_type": "stream",
     "text": [
      "Validation: 100%|██████████| 79/79 [00:00<00:00, 79.18it/s]\n"
     ]
    },
    {
     "name": "stdout",
     "output_type": "stream",
     "text": [
      "LOSS train 0.9880838613761099 valid 1.1205071210861206\n",
      "Epoch 161\n"
     ]
    },
    {
     "name": "stderr",
     "output_type": "stream",
     "text": [
      "Training: 100%|██████████| 391/391 [00:07<00:00, 51.16it/s]\n"
     ]
    },
    {
     "name": "stdout",
     "output_type": "stream",
     "text": [
      "Correct: 5968, Total: 10000, Accuracy: 0.60\n",
      "Accuracy: 59.68% (0.5968)\n",
      "Loss: 0.9646766844548678\n"
     ]
    },
    {
     "name": "stderr",
     "output_type": "stream",
     "text": [
      "Validation: 100%|██████████| 79/79 [00:00<00:00, 79.43it/s]\n"
     ]
    },
    {
     "name": "stdout",
     "output_type": "stream",
     "text": [
      "LOSS train 0.9646766844548678 valid 1.1090830564498901\n",
      "Saving model\n",
      "Epoch 162\n"
     ]
    },
    {
     "name": "stderr",
     "output_type": "stream",
     "text": [
      "Training: 100%|██████████| 391/391 [00:07<00:00, 51.11it/s]\n"
     ]
    },
    {
     "name": "stdout",
     "output_type": "stream",
     "text": [
      "Correct: 5927, Total: 10000, Accuracy: 0.59\n",
      "Accuracy: 59.27% (0.5927)\n",
      "Loss: 0.9989287978724429\n"
     ]
    },
    {
     "name": "stderr",
     "output_type": "stream",
     "text": [
      "Validation: 100%|██████████| 79/79 [00:00<00:00, 79.40it/s]\n"
     ]
    },
    {
     "name": "stdout",
     "output_type": "stream",
     "text": [
      "LOSS train 0.9989287978724429 valid 1.123291015625\n",
      "Epoch 163\n"
     ]
    },
    {
     "name": "stderr",
     "output_type": "stream",
     "text": [
      "Training: 100%|██████████| 391/391 [00:07<00:00, 51.34it/s]\n"
     ]
    },
    {
     "name": "stdout",
     "output_type": "stream",
     "text": [
      "Correct: 5926, Total: 10000, Accuracy: 0.59\n",
      "Accuracy: 59.260000000000005% (0.5926)\n",
      "Loss: 0.9905387853321276\n"
     ]
    },
    {
     "name": "stderr",
     "output_type": "stream",
     "text": [
      "Validation: 100%|██████████| 79/79 [00:00<00:00, 79.66it/s]\n"
     ]
    },
    {
     "name": "stdout",
     "output_type": "stream",
     "text": [
      "LOSS train 0.9905387853321276 valid 1.13858163356781\n",
      "Epoch 164\n"
     ]
    },
    {
     "name": "stderr",
     "output_type": "stream",
     "text": [
      "Training: 100%|██████████| 391/391 [00:07<00:00, 51.25it/s]\n"
     ]
    },
    {
     "name": "stdout",
     "output_type": "stream",
     "text": [
      "Correct: 6016, Total: 10000, Accuracy: 0.60\n",
      "Accuracy: 60.160000000000004% (0.6016)\n",
      "Loss: 0.9967540314323023\n"
     ]
    },
    {
     "name": "stderr",
     "output_type": "stream",
     "text": [
      "Validation: 100%|██████████| 79/79 [00:00<00:00, 79.49it/s]\n"
     ]
    },
    {
     "name": "stdout",
     "output_type": "stream",
     "text": [
      "LOSS train 0.9967540314323023 valid 1.1072535514831543\n",
      "Epoch 165\n"
     ]
    },
    {
     "name": "stderr",
     "output_type": "stream",
     "text": [
      "Training: 100%|██████████| 391/391 [00:07<00:00, 50.80it/s]\n"
     ]
    },
    {
     "name": "stdout",
     "output_type": "stream",
     "text": [
      "Correct: 5944, Total: 10000, Accuracy: 0.59\n",
      "Accuracy: 59.440000000000005% (0.5944)\n",
      "Loss: 0.9736760917462801\n"
     ]
    },
    {
     "name": "stderr",
     "output_type": "stream",
     "text": [
      "Validation: 100%|██████████| 79/79 [00:00<00:00, 79.49it/s]\n"
     ]
    },
    {
     "name": "stdout",
     "output_type": "stream",
     "text": [
      "LOSS train 0.9736760917462801 valid 1.1244617700576782\n",
      "Epoch 166\n"
     ]
    },
    {
     "name": "stderr",
     "output_type": "stream",
     "text": [
      "Training: 100%|██████████| 391/391 [00:07<00:00, 51.13it/s]\n"
     ]
    },
    {
     "name": "stdout",
     "output_type": "stream",
     "text": [
      "Correct: 5924, Total: 10000, Accuracy: 0.59\n",
      "Accuracy: 59.24% (0.5924)\n",
      "Loss: 0.9998539811686465\n"
     ]
    },
    {
     "name": "stderr",
     "output_type": "stream",
     "text": [
      "Validation: 100%|██████████| 79/79 [00:00<00:00, 79.43it/s]\n"
     ]
    },
    {
     "name": "stdout",
     "output_type": "stream",
     "text": [
      "LOSS train 0.9998539811686465 valid 1.1283365488052368\n",
      "Epoch 167\n"
     ]
    },
    {
     "name": "stderr",
     "output_type": "stream",
     "text": [
      "Training: 100%|██████████| 391/391 [00:07<00:00, 51.06it/s]\n"
     ]
    },
    {
     "name": "stdout",
     "output_type": "stream",
     "text": [
      "Correct: 5955, Total: 10000, Accuracy: 0.60\n",
      "Accuracy: 59.550000000000004% (0.5955)\n",
      "Loss: 0.9386974604506242\n"
     ]
    },
    {
     "name": "stderr",
     "output_type": "stream",
     "text": [
      "Validation: 100%|██████████| 79/79 [00:00<00:00, 79.40it/s]\n"
     ]
    },
    {
     "name": "stdout",
     "output_type": "stream",
     "text": [
      "LOSS train 0.9386974604506242 valid 1.113364338874817\n",
      "Saving model\n",
      "Epoch 168\n"
     ]
    },
    {
     "name": "stderr",
     "output_type": "stream",
     "text": [
      "Training: 100%|██████████| 391/391 [00:07<00:00, 50.99it/s]\n"
     ]
    },
    {
     "name": "stdout",
     "output_type": "stream",
     "text": [
      "Correct: 5957, Total: 10000, Accuracy: 0.60\n",
      "Accuracy: 59.57% (0.5957)\n",
      "Loss: 0.9923838345628035\n"
     ]
    },
    {
     "name": "stderr",
     "output_type": "stream",
     "text": [
      "Validation: 100%|██████████| 79/79 [00:00<00:00, 79.53it/s]\n"
     ]
    },
    {
     "name": "stdout",
     "output_type": "stream",
     "text": [
      "LOSS train 0.9923838345628035 valid 1.1123297214508057\n",
      "Epoch 169\n"
     ]
    },
    {
     "name": "stderr",
     "output_type": "stream",
     "text": [
      "Training: 100%|██████████| 391/391 [00:07<00:00, 51.04it/s]\n"
     ]
    },
    {
     "name": "stdout",
     "output_type": "stream",
     "text": [
      "Correct: 5996, Total: 10000, Accuracy: 0.60\n",
      "Accuracy: 59.96% (0.5996)\n",
      "Loss: 0.9759008037416559\n"
     ]
    },
    {
     "name": "stderr",
     "output_type": "stream",
     "text": [
      "Validation: 100%|██████████| 79/79 [00:00<00:00, 79.52it/s]\n"
     ]
    },
    {
     "name": "stdout",
     "output_type": "stream",
     "text": [
      "LOSS train 0.9759008037416559 valid 1.1050254106521606\n",
      "Epoch 170\n"
     ]
    },
    {
     "name": "stderr",
     "output_type": "stream",
     "text": [
      "Training: 100%|██████████| 391/391 [00:07<00:00, 51.06it/s]\n"
     ]
    },
    {
     "name": "stdout",
     "output_type": "stream",
     "text": [
      "Correct: 6007, Total: 10000, Accuracy: 0.60\n",
      "Accuracy: 60.07% (0.6007)\n",
      "Loss: 0.9673647598216408\n"
     ]
    },
    {
     "name": "stderr",
     "output_type": "stream",
     "text": [
      "Validation: 100%|██████████| 79/79 [00:00<00:00, 79.61it/s]\n"
     ]
    },
    {
     "name": "stdout",
     "output_type": "stream",
     "text": [
      "LOSS train 0.9673647598216408 valid 1.1103930473327637\n",
      "Epoch 171\n"
     ]
    },
    {
     "name": "stderr",
     "output_type": "stream",
     "text": [
      "Training: 100%|██████████| 391/391 [00:07<00:00, 51.15it/s]\n"
     ]
    },
    {
     "name": "stdout",
     "output_type": "stream",
     "text": [
      "Correct: 5928, Total: 10000, Accuracy: 0.59\n",
      "Accuracy: 59.28% (0.5928)\n",
      "Loss: 0.9669174991155925\n"
     ]
    },
    {
     "name": "stderr",
     "output_type": "stream",
     "text": [
      "Validation: 100%|██████████| 79/79 [00:00<00:00, 79.86it/s]\n"
     ]
    },
    {
     "name": "stdout",
     "output_type": "stream",
     "text": [
      "LOSS train 0.9669174991155925 valid 1.1152920722961426\n",
      "Epoch 172\n"
     ]
    },
    {
     "name": "stderr",
     "output_type": "stream",
     "text": [
      "Training: 100%|██████████| 391/391 [00:07<00:00, 51.06it/s]\n"
     ]
    },
    {
     "name": "stdout",
     "output_type": "stream",
     "text": [
      "Correct: 5981, Total: 10000, Accuracy: 0.60\n",
      "Accuracy: 59.809999999999995% (0.5981)\n",
      "Loss: 0.9565236442967465\n"
     ]
    },
    {
     "name": "stderr",
     "output_type": "stream",
     "text": [
      "Validation: 100%|██████████| 79/79 [00:00<00:00, 79.54it/s]\n"
     ]
    },
    {
     "name": "stdout",
     "output_type": "stream",
     "text": [
      "LOSS train 0.9565236442967465 valid 1.1022871732711792\n",
      "Epoch 173\n"
     ]
    },
    {
     "name": "stderr",
     "output_type": "stream",
     "text": [
      "Training: 100%|██████████| 391/391 [00:07<00:00, 51.07it/s]\n"
     ]
    },
    {
     "name": "stdout",
     "output_type": "stream",
     "text": [
      "Correct: 5998, Total: 10000, Accuracy: 0.60\n",
      "Accuracy: 59.98% (0.5998)\n",
      "Loss: 0.9228520801192835\n"
     ]
    },
    {
     "name": "stderr",
     "output_type": "stream",
     "text": [
      "Validation: 100%|██████████| 79/79 [00:00<00:00, 79.87it/s]\n"
     ]
    },
    {
     "name": "stdout",
     "output_type": "stream",
     "text": [
      "LOSS train 0.9228520801192835 valid 1.099242091178894\n",
      "Saving model\n",
      "Epoch 174\n"
     ]
    },
    {
     "name": "stderr",
     "output_type": "stream",
     "text": [
      "Training: 100%|██████████| 391/391 [00:07<00:00, 50.94it/s]\n"
     ]
    },
    {
     "name": "stdout",
     "output_type": "stream",
     "text": [
      "Correct: 5974, Total: 10000, Accuracy: 0.60\n",
      "Accuracy: 59.74% (0.5974)\n",
      "Loss: 0.9825475717845716\n"
     ]
    },
    {
     "name": "stderr",
     "output_type": "stream",
     "text": [
      "Validation: 100%|██████████| 79/79 [00:00<00:00, 79.56it/s]\n"
     ]
    },
    {
     "name": "stdout",
     "output_type": "stream",
     "text": [
      "LOSS train 0.9825475717845716 valid 1.111673355102539\n",
      "Epoch 175\n"
     ]
    },
    {
     "name": "stderr",
     "output_type": "stream",
     "text": [
      "Training: 100%|██████████| 391/391 [00:07<00:00, 51.01it/s]\n"
     ]
    },
    {
     "name": "stdout",
     "output_type": "stream",
     "text": [
      "Correct: 5948, Total: 10000, Accuracy: 0.59\n",
      "Accuracy: 59.48% (0.5948)\n",
      "Loss: 0.9690075140250357\n"
     ]
    },
    {
     "name": "stderr",
     "output_type": "stream",
     "text": [
      "Validation: 100%|██████████| 79/79 [00:00<00:00, 79.74it/s]\n"
     ]
    },
    {
     "name": "stdout",
     "output_type": "stream",
     "text": [
      "LOSS train 0.9690075140250357 valid 1.1097173690795898\n",
      "Epoch 176\n"
     ]
    },
    {
     "name": "stderr",
     "output_type": "stream",
     "text": [
      "Training: 100%|██████████| 391/391 [00:07<00:00, 51.03it/s]\n"
     ]
    },
    {
     "name": "stdout",
     "output_type": "stream",
     "text": [
      "Correct: 6029, Total: 10000, Accuracy: 0.60\n",
      "Accuracy: 60.29% (0.6029)\n",
      "Loss: 0.9493491084952104\n"
     ]
    },
    {
     "name": "stderr",
     "output_type": "stream",
     "text": [
      "Validation: 100%|██████████| 79/79 [00:00<00:00, 79.50it/s]\n"
     ]
    },
    {
     "name": "stdout",
     "output_type": "stream",
     "text": [
      "LOSS train 0.9493491084952104 valid 1.1031240224838257\n",
      "Epoch 177\n"
     ]
    },
    {
     "name": "stderr",
     "output_type": "stream",
     "text": [
      "Training: 100%|██████████| 391/391 [00:07<00:00, 50.99it/s]\n"
     ]
    },
    {
     "name": "stdout",
     "output_type": "stream",
     "text": [
      "Correct: 6006, Total: 10000, Accuracy: 0.60\n",
      "Accuracy: 60.06% (0.6006)\n",
      "Loss: 0.9831903827817816\n"
     ]
    },
    {
     "name": "stderr",
     "output_type": "stream",
     "text": [
      "Validation: 100%|██████████| 79/79 [00:00<00:00, 79.52it/s]\n"
     ]
    },
    {
     "name": "stdout",
     "output_type": "stream",
     "text": [
      "LOSS train 0.9831903827817816 valid 1.1005171537399292\n",
      "Epoch 178\n"
     ]
    },
    {
     "name": "stderr",
     "output_type": "stream",
     "text": [
      "Training: 100%|██████████| 391/391 [00:07<00:00, 51.01it/s]\n"
     ]
    },
    {
     "name": "stdout",
     "output_type": "stream",
     "text": [
      "Correct: 6031, Total: 10000, Accuracy: 0.60\n",
      "Accuracy: 60.309999999999995% (0.6031)\n",
      "Loss: 0.9618092085185804\n"
     ]
    },
    {
     "name": "stderr",
     "output_type": "stream",
     "text": [
      "Validation: 100%|██████████| 79/79 [00:00<00:00, 79.52it/s]\n"
     ]
    },
    {
     "name": "stdout",
     "output_type": "stream",
     "text": [
      "LOSS train 0.9618092085185804 valid 1.0960592031478882\n",
      "Epoch 179\n"
     ]
    },
    {
     "name": "stderr",
     "output_type": "stream",
     "text": [
      "Training: 100%|██████████| 391/391 [00:07<00:00, 51.18it/s]\n"
     ]
    },
    {
     "name": "stdout",
     "output_type": "stream",
     "text": [
      "Correct: 5986, Total: 10000, Accuracy: 0.60\n",
      "Accuracy: 59.86% (0.5986)\n",
      "Loss: 0.955045157357266\n"
     ]
    },
    {
     "name": "stderr",
     "output_type": "stream",
     "text": [
      "Validation: 100%|██████████| 79/79 [00:00<00:00, 79.93it/s]\n"
     ]
    },
    {
     "name": "stdout",
     "output_type": "stream",
     "text": [
      "LOSS train 0.955045157357266 valid 1.1121524572372437\n",
      "Epoch 180\n"
     ]
    },
    {
     "name": "stderr",
     "output_type": "stream",
     "text": [
      "Training: 100%|██████████| 391/391 [00:07<00:00, 51.19it/s]\n"
     ]
    },
    {
     "name": "stdout",
     "output_type": "stream",
     "text": [
      "Correct: 6023, Total: 10000, Accuracy: 0.60\n",
      "Accuracy: 60.23% (0.6023)\n",
      "Loss: 1.0057266166335659\n"
     ]
    },
    {
     "name": "stderr",
     "output_type": "stream",
     "text": [
      "Validation: 100%|██████████| 79/79 [00:00<00:00, 79.71it/s]\n"
     ]
    },
    {
     "name": "stdout",
     "output_type": "stream",
     "text": [
      "LOSS train 1.0057266166335659 valid 1.1000747680664062\n",
      "Epoch 181\n"
     ]
    },
    {
     "name": "stderr",
     "output_type": "stream",
     "text": [
      "Training: 100%|██████████| 391/391 [00:07<00:00, 51.20it/s]\n"
     ]
    },
    {
     "name": "stdout",
     "output_type": "stream",
     "text": [
      "Correct: 5918, Total: 10000, Accuracy: 0.59\n",
      "Accuracy: 59.18% (0.5918)\n",
      "Loss: 0.9623122027045802\n"
     ]
    },
    {
     "name": "stderr",
     "output_type": "stream",
     "text": [
      "Validation: 100%|██████████| 79/79 [00:00<00:00, 80.02it/s]\n"
     ]
    },
    {
     "name": "stdout",
     "output_type": "stream",
     "text": [
      "LOSS train 0.9623122027045802 valid 1.1172810792922974\n",
      "Epoch 182\n"
     ]
    },
    {
     "name": "stderr",
     "output_type": "stream",
     "text": [
      "Training: 100%|██████████| 391/391 [00:07<00:00, 51.25it/s]\n"
     ]
    },
    {
     "name": "stdout",
     "output_type": "stream",
     "text": [
      "Correct: 5922, Total: 10000, Accuracy: 0.59\n",
      "Accuracy: 59.21999999999999% (0.5922)\n",
      "Loss: 0.9555185374460722\n"
     ]
    },
    {
     "name": "stderr",
     "output_type": "stream",
     "text": [
      "Validation: 100%|██████████| 79/79 [00:00<00:00, 79.78it/s]\n"
     ]
    },
    {
     "name": "stdout",
     "output_type": "stream",
     "text": [
      "LOSS train 0.9555185374460722 valid 1.1118563413619995\n",
      "Epoch 183\n"
     ]
    },
    {
     "name": "stderr",
     "output_type": "stream",
     "text": [
      "Training: 100%|██████████| 391/391 [00:07<00:00, 51.33it/s]\n"
     ]
    },
    {
     "name": "stdout",
     "output_type": "stream",
     "text": [
      "Correct: 5922, Total: 10000, Accuracy: 0.59\n",
      "Accuracy: 59.21999999999999% (0.5922)\n",
      "Loss: 0.9245355756659257\n"
     ]
    },
    {
     "name": "stderr",
     "output_type": "stream",
     "text": [
      "Validation: 100%|██████████| 79/79 [00:00<00:00, 80.59it/s]\n"
     ]
    },
    {
     "name": "stdout",
     "output_type": "stream",
     "text": [
      "LOSS train 0.9245355756659257 valid 1.1138967275619507\n",
      "Epoch 184\n"
     ]
    },
    {
     "name": "stderr",
     "output_type": "stream",
     "text": [
      "Training: 100%|██████████| 391/391 [00:07<00:00, 51.10it/s]\n"
     ]
    },
    {
     "name": "stdout",
     "output_type": "stream",
     "text": [
      "Correct: 6040, Total: 10000, Accuracy: 0.60\n",
      "Accuracy: 60.4% (0.604)\n",
      "Loss: 0.9398091843253688\n"
     ]
    },
    {
     "name": "stderr",
     "output_type": "stream",
     "text": [
      "Validation: 100%|██████████| 79/79 [00:00<00:00, 80.24it/s]\n"
     ]
    },
    {
     "name": "stdout",
     "output_type": "stream",
     "text": [
      "LOSS train 0.9398091843253688 valid 1.0921131372451782\n",
      "Epoch 185\n"
     ]
    },
    {
     "name": "stderr",
     "output_type": "stream",
     "text": [
      "Training: 100%|██████████| 391/391 [00:07<00:00, 51.18it/s]\n"
     ]
    },
    {
     "name": "stdout",
     "output_type": "stream",
     "text": [
      "Correct: 6058, Total: 10000, Accuracy: 0.61\n",
      "Accuracy: 60.58% (0.6058)\n",
      "Loss: 0.944303035736084\n"
     ]
    },
    {
     "name": "stderr",
     "output_type": "stream",
     "text": [
      "Validation: 100%|██████████| 79/79 [00:00<00:00, 79.51it/s]\n"
     ]
    },
    {
     "name": "stdout",
     "output_type": "stream",
     "text": [
      "LOSS train 0.944303035736084 valid 1.0967028141021729\n",
      "Epoch 186\n"
     ]
    },
    {
     "name": "stderr",
     "output_type": "stream",
     "text": [
      "Training: 100%|██████████| 391/391 [00:07<00:00, 51.22it/s]\n"
     ]
    },
    {
     "name": "stdout",
     "output_type": "stream",
     "text": [
      "Correct: 6032, Total: 10000, Accuracy: 0.60\n",
      "Accuracy: 60.31999999999999% (0.6032)\n",
      "Loss: 0.9472630055327165\n"
     ]
    },
    {
     "name": "stderr",
     "output_type": "stream",
     "text": [
      "Validation: 100%|██████████| 79/79 [00:00<00:00, 79.94it/s]\n"
     ]
    },
    {
     "name": "stdout",
     "output_type": "stream",
     "text": [
      "LOSS train 0.9472630055327165 valid 1.0966838598251343\n",
      "Epoch 187\n"
     ]
    },
    {
     "name": "stderr",
     "output_type": "stream",
     "text": [
      "Training: 100%|██████████| 391/391 [00:07<00:00, 51.25it/s]\n"
     ]
    },
    {
     "name": "stdout",
     "output_type": "stream",
     "text": [
      "Correct: 5978, Total: 10000, Accuracy: 0.60\n",
      "Accuracy: 59.78% (0.5978)\n",
      "Loss: 0.9154348812605205\n"
     ]
    },
    {
     "name": "stderr",
     "output_type": "stream",
     "text": [
      "Validation: 100%|██████████| 79/79 [00:00<00:00, 80.47it/s]\n"
     ]
    },
    {
     "name": "stdout",
     "output_type": "stream",
     "text": [
      "LOSS train 0.9154348812605205 valid 1.1073976755142212\n",
      "Saving model\n",
      "Epoch 188\n"
     ]
    },
    {
     "name": "stderr",
     "output_type": "stream",
     "text": [
      "Training: 100%|██████████| 391/391 [00:08<00:00, 48.34it/s]\n"
     ]
    },
    {
     "name": "stdout",
     "output_type": "stream",
     "text": [
      "Correct: 6015, Total: 10000, Accuracy: 0.60\n",
      "Accuracy: 60.150000000000006% (0.6015)\n",
      "Loss: 0.90578777225394\n"
     ]
    },
    {
     "name": "stderr",
     "output_type": "stream",
     "text": [
      "Validation: 100%|██████████| 79/79 [00:01<00:00, 78.93it/s]\n"
     ]
    },
    {
     "name": "stdout",
     "output_type": "stream",
     "text": [
      "LOSS train 0.90578777225394 valid 1.1029964685440063\n",
      "Saving model\n",
      "Epoch 189\n"
     ]
    },
    {
     "name": "stderr",
     "output_type": "stream",
     "text": [
      "Training: 100%|██████████| 391/391 [00:07<00:00, 50.58it/s]\n"
     ]
    },
    {
     "name": "stdout",
     "output_type": "stream",
     "text": [
      "Correct: 6006, Total: 10000, Accuracy: 0.60\n",
      "Accuracy: 60.06% (0.6006)\n",
      "Loss: 0.9279998478136564\n"
     ]
    },
    {
     "name": "stderr",
     "output_type": "stream",
     "text": [
      "Validation: 100%|██████████| 79/79 [00:00<00:00, 79.44it/s]\n"
     ]
    },
    {
     "name": "stdout",
     "output_type": "stream",
     "text": [
      "LOSS train 0.9279998478136564 valid 1.097664713859558\n",
      "Epoch 190\n"
     ]
    },
    {
     "name": "stderr",
     "output_type": "stream",
     "text": [
      "Training: 100%|██████████| 391/391 [00:07<00:00, 49.99it/s]\n"
     ]
    },
    {
     "name": "stdout",
     "output_type": "stream",
     "text": [
      "Correct: 6001, Total: 10000, Accuracy: 0.60\n",
      "Accuracy: 60.01% (0.6001)\n",
      "Loss: 0.9493171384460047\n"
     ]
    },
    {
     "name": "stderr",
     "output_type": "stream",
     "text": [
      "Validation: 100%|██████████| 79/79 [00:00<00:00, 79.67it/s]\n"
     ]
    },
    {
     "name": "stdout",
     "output_type": "stream",
     "text": [
      "LOSS train 0.9493171384460047 valid 1.0996712446212769\n",
      "Epoch 191\n"
     ]
    },
    {
     "name": "stderr",
     "output_type": "stream",
     "text": [
      "Training: 100%|██████████| 391/391 [00:07<00:00, 50.67it/s]\n"
     ]
    },
    {
     "name": "stdout",
     "output_type": "stream",
     "text": [
      "Correct: 6014, Total: 10000, Accuracy: 0.60\n",
      "Accuracy: 60.14000000000001% (0.6014)\n",
      "Loss: 0.9142880408387435\n"
     ]
    },
    {
     "name": "stderr",
     "output_type": "stream",
     "text": [
      "Validation: 100%|██████████| 79/79 [00:00<00:00, 79.16it/s]\n"
     ]
    },
    {
     "name": "stdout",
     "output_type": "stream",
     "text": [
      "LOSS train 0.9142880408387435 valid 1.1019845008850098\n",
      "Epoch 192\n"
     ]
    },
    {
     "name": "stderr",
     "output_type": "stream",
     "text": [
      "Training: 100%|██████████| 391/391 [00:07<00:00, 50.59it/s]\n"
     ]
    },
    {
     "name": "stdout",
     "output_type": "stream",
     "text": [
      "Correct: 6022, Total: 10000, Accuracy: 0.60\n",
      "Accuracy: 60.22% (0.6022)\n",
      "Loss: 0.8937830046603554\n"
     ]
    },
    {
     "name": "stderr",
     "output_type": "stream",
     "text": [
      "Validation: 100%|██████████| 79/79 [00:00<00:00, 79.22it/s]\n"
     ]
    },
    {
     "name": "stdout",
     "output_type": "stream",
     "text": [
      "LOSS train 0.8937830046603554 valid 1.0969724655151367\n",
      "Saving model\n",
      "Epoch 193\n"
     ]
    },
    {
     "name": "stderr",
     "output_type": "stream",
     "text": [
      "Training: 100%|██████████| 391/391 [00:07<00:00, 50.56it/s]\n"
     ]
    },
    {
     "name": "stdout",
     "output_type": "stream",
     "text": [
      "Correct: 6028, Total: 10000, Accuracy: 0.60\n",
      "Accuracy: 60.28% (0.6028)\n",
      "Loss: 0.9108781249899613\n"
     ]
    },
    {
     "name": "stderr",
     "output_type": "stream",
     "text": [
      "Validation: 100%|██████████| 79/79 [00:00<00:00, 79.13it/s]\n"
     ]
    },
    {
     "name": "stdout",
     "output_type": "stream",
     "text": [
      "LOSS train 0.9108781249899613 valid 1.096760869026184\n",
      "Epoch 194\n"
     ]
    },
    {
     "name": "stderr",
     "output_type": "stream",
     "text": [
      "Training: 100%|██████████| 391/391 [00:07<00:00, 50.65it/s]\n"
     ]
    },
    {
     "name": "stdout",
     "output_type": "stream",
     "text": [
      "Correct: 6117, Total: 10000, Accuracy: 0.61\n",
      "Accuracy: 61.17% (0.6117)\n",
      "Loss: 0.9139436671608373\n"
     ]
    },
    {
     "name": "stderr",
     "output_type": "stream",
     "text": [
      "Validation: 100%|██████████| 79/79 [00:00<00:00, 79.39it/s]\n"
     ]
    },
    {
     "name": "stdout",
     "output_type": "stream",
     "text": [
      "LOSS train 0.9139436671608373 valid 1.0793956518173218\n",
      "Epoch 195\n"
     ]
    },
    {
     "name": "stderr",
     "output_type": "stream",
     "text": [
      "Training: 100%|██████████| 391/391 [00:07<00:00, 50.69it/s]\n"
     ]
    },
    {
     "name": "stdout",
     "output_type": "stream",
     "text": [
      "Correct: 6043, Total: 10000, Accuracy: 0.60\n",
      "Accuracy: 60.42999999999999% (0.6043)\n",
      "Loss: 0.9077653257470382\n"
     ]
    },
    {
     "name": "stderr",
     "output_type": "stream",
     "text": [
      "Validation: 100%|██████████| 79/79 [00:00<00:00, 79.60it/s]\n"
     ]
    },
    {
     "name": "stdout",
     "output_type": "stream",
     "text": [
      "LOSS train 0.9077653257470382 valid 1.0898317098617554\n",
      "Epoch 196\n"
     ]
    },
    {
     "name": "stderr",
     "output_type": "stream",
     "text": [
      "Training: 100%|██████████| 391/391 [00:07<00:00, 50.64it/s]\n"
     ]
    },
    {
     "name": "stdout",
     "output_type": "stream",
     "text": [
      "Correct: 6029, Total: 10000, Accuracy: 0.60\n",
      "Accuracy: 60.29% (0.6029)\n",
      "Loss: 0.9199348625383879\n"
     ]
    },
    {
     "name": "stderr",
     "output_type": "stream",
     "text": [
      "Validation: 100%|██████████| 79/79 [00:00<00:00, 79.33it/s]\n"
     ]
    },
    {
     "name": "stdout",
     "output_type": "stream",
     "text": [
      "LOSS train 0.9199348625383879 valid 1.0924785137176514\n",
      "Epoch 197\n"
     ]
    },
    {
     "name": "stderr",
     "output_type": "stream",
     "text": [
      "Training: 100%|██████████| 391/391 [00:07<00:00, 50.71it/s]\n"
     ]
    },
    {
     "name": "stdout",
     "output_type": "stream",
     "text": [
      "Correct: 6070, Total: 10000, Accuracy: 0.61\n",
      "Accuracy: 60.699999999999996% (0.607)\n",
      "Loss: 0.9783399889343664\n"
     ]
    },
    {
     "name": "stderr",
     "output_type": "stream",
     "text": [
      "Validation: 100%|██████████| 79/79 [00:00<00:00, 79.63it/s]\n"
     ]
    },
    {
     "name": "stdout",
     "output_type": "stream",
     "text": [
      "LOSS train 0.9783399889343664 valid 1.0891746282577515\n",
      "Epoch 198\n"
     ]
    },
    {
     "name": "stderr",
     "output_type": "stream",
     "text": [
      "Training: 100%|██████████| 391/391 [00:07<00:00, 50.79it/s]\n"
     ]
    },
    {
     "name": "stdout",
     "output_type": "stream",
     "text": [
      "Correct: 6027, Total: 10000, Accuracy: 0.60\n",
      "Accuracy: 60.27% (0.6027)\n",
      "Loss: 0.9319623991062767\n"
     ]
    },
    {
     "name": "stderr",
     "output_type": "stream",
     "text": [
      "Validation: 100%|██████████| 79/79 [00:00<00:00, 79.40it/s]\n"
     ]
    },
    {
     "name": "stdout",
     "output_type": "stream",
     "text": [
      "LOSS train 0.9319623991062767 valid 1.091841459274292\n",
      "Epoch 199\n"
     ]
    },
    {
     "name": "stderr",
     "output_type": "stream",
     "text": [
      "Training: 100%|██████████| 391/391 [00:07<00:00, 50.79it/s]\n"
     ]
    },
    {
     "name": "stdout",
     "output_type": "stream",
     "text": [
      "Correct: 6041, Total: 10000, Accuracy: 0.60\n",
      "Accuracy: 60.41% (0.6041)\n",
      "Loss: 0.9365623656072115\n"
     ]
    },
    {
     "name": "stderr",
     "output_type": "stream",
     "text": [
      "Validation: 100%|██████████| 79/79 [00:00<00:00, 79.44it/s]\n"
     ]
    },
    {
     "name": "stdout",
     "output_type": "stream",
     "text": [
      "LOSS train 0.9365623656072115 valid 1.0851256847381592\n",
      "Epoch 200\n"
     ]
    },
    {
     "name": "stderr",
     "output_type": "stream",
     "text": [
      "Training: 100%|██████████| 391/391 [00:07<00:00, 50.91it/s]\n"
     ]
    },
    {
     "name": "stdout",
     "output_type": "stream",
     "text": [
      "Correct: 6000, Total: 10000, Accuracy: 0.60\n",
      "Accuracy: 60.0% (0.6)\n",
      "Loss: 0.9129650781029149\n"
     ]
    },
    {
     "name": "stderr",
     "output_type": "stream",
     "text": [
      "Validation: 100%|██████████| 79/79 [00:00<00:00, 79.36it/s]\n"
     ]
    },
    {
     "name": "stdout",
     "output_type": "stream",
     "text": [
      "LOSS train 0.9129650781029149 valid 1.1019891500473022\n"
     ]
    }
   ],
   "source": [
    "BATCH_SIZE = 128\n",
    "epochs = 200\n",
    "learning_rate = 3e-4\n",
    "\n",
    "vit = vit.to(device)\n",
    "\n",
    "#using the same optimizer as in the ViT paper\n",
    "opt = torch.optim.SGD(vit.parameters(), lr=learning_rate, momentum=0.9)\n",
    "criterion = nn.CrossEntropyLoss()\n",
    "\n",
    "train_loader = torch.utils.data.DataLoader(trainset, batch_size=BATCH_SIZE, shuffle=True, pin_memory=True)\n",
    "test_loader = torch.utils.data.DataLoader(testset, batch_size=BATCH_SIZE, pin_memory=True)\n",
    "\n",
    "timestamp = datetime.now().strftime('%Y%m%d_%H%M%S')\n",
    "writer = SummaryWriter('runs/VIT_trainer_validation_{}'.format(timestamp))\n",
    "training_and_validation_loop(vit, train_loader, test_loader, epochs, writer, device, opt, timestamp, flatten=False)"
   ]
  },
  {
   "cell_type": "code",
   "execution_count": 29,
   "metadata": {},
   "outputs": [
    {
     "data": {
      "text/plain": [
       "Reusing TensorBoard on port 6006 (pid 54128), started 2 days, 9:30:01 ago. (Use '!kill 54128' to kill it.)"
      ]
     },
     "metadata": {},
     "output_type": "display_data"
    },
    {
     "data": {
      "text/html": [
       "\n",
       "      <iframe id=\"tensorboard-frame-6ccfa86e0cfa5d06\" width=\"100%\" height=\"800\" frameborder=\"0\">\n",
       "      </iframe>\n",
       "      <script>\n",
       "        (function() {\n",
       "          const frame = document.getElementById(\"tensorboard-frame-6ccfa86e0cfa5d06\");\n",
       "          const url = new URL(\"/\", window.location);\n",
       "          const port = 6006;\n",
       "          if (port) {\n",
       "            url.port = port;\n",
       "          }\n",
       "          frame.src = url;\n",
       "        })();\n",
       "      </script>\n",
       "    "
      ],
      "text/plain": [
       "<IPython.core.display.HTML object>"
      ]
     },
     "metadata": {},
     "output_type": "display_data"
    }
   ],
   "source": [
    "%load_ext tensorboard\n",
    "%tensorboard --logdir runs"
   ]
  }
 ],
 "metadata": {
  "kernelspec": {
   "display_name": "Python 3 (ipykernel)",
   "language": "python",
   "name": "python3"
  },
  "language_info": {
   "codemirror_mode": {
    "name": "ipython",
    "version": 3
   },
   "file_extension": ".py",
   "mimetype": "text/x-python",
   "name": "python",
   "nbconvert_exporter": "python",
   "pygments_lexer": "ipython3",
   "version": "3.13.1"
  }
 },
 "nbformat": 4,
 "nbformat_minor": 4
}
